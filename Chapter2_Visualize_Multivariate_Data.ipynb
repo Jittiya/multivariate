{
  "nbformat": 4,
  "nbformat_minor": 0,
  "metadata": {
    "colab": {
      "name": "Chapter2 Visualize Multivariate Data.ipynb",
      "provenance": [],
      "toc_visible": true,
      "authorship_tag": "ABX9TyNkFbLSXisWIQSgQlmBMPJP",
      "include_colab_link": true
    },
    "kernelspec": {
      "name": "python3",
      "display_name": "Python 3"
    }
  },
  "cells": [
    {
      "cell_type": "markdown",
      "metadata": {
        "id": "view-in-github",
        "colab_type": "text"
      },
      "source": [
        "<a href=\"https://colab.research.google.com/github/Jittiya/multivariate/blob/main/Chapter2_Visualize_Multivariate_Data.ipynb\" target=\"_parent\"><img src=\"https://colab.research.google.com/assets/colab-badge.svg\" alt=\"Open In Colab\"/></a>"
      ]
    },
    {
      "cell_type": "markdown",
      "metadata": {
        "id": "SMcdpTnWJYGG"
      },
      "source": [
        "ใช้ข้อมูลจาก http://my.ilstu.edu/~gjin/gjtpage/HSC445/Data/AirPollution.html"
      ]
    },
    {
      "cell_type": "code",
      "metadata": {
        "id": "PTFHd7TMJB0z"
      },
      "source": [
        "import pandas as pd"
      ],
      "execution_count": 1,
      "outputs": []
    },
    {
      "cell_type": "code",
      "metadata": {
        "colab": {
          "base_uri": "https://localhost:8080/"
        },
        "id": "nc1o1m8BJbxK",
        "outputId": "2be9367f-b7a2-48e3-a326-a5a6479f78ef"
      },
      "source": [
        "pollution_data = pd.read_csv('/content/pollution.fxf.txt',sep='\\t+') #\\t+ คือใช้ tab แบ่งข้อมูล \\s+ คือใช้ space แบ่งข้อมูล "
      ],
      "execution_count": 3,
      "outputs": [
        {
          "output_type": "stream",
          "text": [
            "/usr/local/lib/python3.6/dist-packages/ipykernel_launcher.py:1: ParserWarning: Falling back to the 'python' engine because the 'c' engine does not support regex separators (separators > 1 char and different from '\\s+' are interpreted as regex); you can avoid this warning by specifying engine='python'.\n",
            "  \"\"\"Entry point for launching an IPython kernel.\n"
          ],
          "name": "stderr"
        }
      ]
    },
    {
      "cell_type": "code",
      "metadata": {
        "colab": {
          "base_uri": "https://localhost:8080/",
          "height": 1000
        },
        "id": "x1LGo6djKy8B",
        "outputId": "ebd06326-ed0e-4b15-a650-16bdbcc190ab"
      },
      "source": [
        "pollution_data"
      ],
      "execution_count": 4,
      "outputs": [
        {
          "output_type": "execute_result",
          "data": {
            "text/html": [
              "<div>\n",
              "<style scoped>\n",
              "    .dataframe tbody tr th:only-of-type {\n",
              "        vertical-align: middle;\n",
              "    }\n",
              "\n",
              "    .dataframe tbody tr th {\n",
              "        vertical-align: top;\n",
              "    }\n",
              "\n",
              "    .dataframe thead th {\n",
              "        text-align: right;\n",
              "    }\n",
              "</style>\n",
              "<table border=\"1\" class=\"dataframe\">\n",
              "  <thead>\n",
              "    <tr style=\"text-align: right;\">\n",
              "      <th></th>\n",
              "      <th>City</th>\n",
              "      <th>SO2</th>\n",
              "      <th>Temp</th>\n",
              "      <th>Man</th>\n",
              "      <th>Pop</th>\n",
              "      <th>Wind</th>\n",
              "      <th>Rain</th>\n",
              "      <th>RainDays</th>\n",
              "    </tr>\n",
              "  </thead>\n",
              "  <tbody>\n",
              "    <tr>\n",
              "      <th>0</th>\n",
              "      <td>Phoenix</td>\n",
              "      <td>10</td>\n",
              "      <td>70.3</td>\n",
              "      <td>213</td>\n",
              "      <td>582</td>\n",
              "      <td>6.0</td>\n",
              "      <td>7.05</td>\n",
              "      <td>36</td>\n",
              "    </tr>\n",
              "    <tr>\n",
              "      <th>1</th>\n",
              "      <td>Little Rock</td>\n",
              "      <td>13</td>\n",
              "      <td>61.0</td>\n",
              "      <td>91</td>\n",
              "      <td>132</td>\n",
              "      <td>8.2</td>\n",
              "      <td>48.52</td>\n",
              "      <td>100</td>\n",
              "    </tr>\n",
              "    <tr>\n",
              "      <th>2</th>\n",
              "      <td>San Francisco</td>\n",
              "      <td>12</td>\n",
              "      <td>56.7</td>\n",
              "      <td>453</td>\n",
              "      <td>716</td>\n",
              "      <td>8.7</td>\n",
              "      <td>20.66</td>\n",
              "      <td>67</td>\n",
              "    </tr>\n",
              "    <tr>\n",
              "      <th>3</th>\n",
              "      <td>Denver</td>\n",
              "      <td>17</td>\n",
              "      <td>51.9</td>\n",
              "      <td>454</td>\n",
              "      <td>515</td>\n",
              "      <td>9.0</td>\n",
              "      <td>12.95</td>\n",
              "      <td>86</td>\n",
              "    </tr>\n",
              "    <tr>\n",
              "      <th>4</th>\n",
              "      <td>Hartford</td>\n",
              "      <td>56</td>\n",
              "      <td>49.1</td>\n",
              "      <td>412</td>\n",
              "      <td>158</td>\n",
              "      <td>9.0</td>\n",
              "      <td>43.37</td>\n",
              "      <td>127</td>\n",
              "    </tr>\n",
              "    <tr>\n",
              "      <th>5</th>\n",
              "      <td>Wilmington</td>\n",
              "      <td>36</td>\n",
              "      <td>54.0</td>\n",
              "      <td>80</td>\n",
              "      <td>80</td>\n",
              "      <td>9.0</td>\n",
              "      <td>40.25</td>\n",
              "      <td>114</td>\n",
              "    </tr>\n",
              "    <tr>\n",
              "      <th>6</th>\n",
              "      <td>Washington</td>\n",
              "      <td>29</td>\n",
              "      <td>57.3</td>\n",
              "      <td>434</td>\n",
              "      <td>757</td>\n",
              "      <td>9.3</td>\n",
              "      <td>38.89</td>\n",
              "      <td>111</td>\n",
              "    </tr>\n",
              "    <tr>\n",
              "      <th>7</th>\n",
              "      <td>Jacksonville</td>\n",
              "      <td>14</td>\n",
              "      <td>68.4</td>\n",
              "      <td>136</td>\n",
              "      <td>529</td>\n",
              "      <td>8.8</td>\n",
              "      <td>54.47</td>\n",
              "      <td>116</td>\n",
              "    </tr>\n",
              "    <tr>\n",
              "      <th>8</th>\n",
              "      <td>Miami</td>\n",
              "      <td>10</td>\n",
              "      <td>75.5</td>\n",
              "      <td>207</td>\n",
              "      <td>335</td>\n",
              "      <td>9.0</td>\n",
              "      <td>59.80</td>\n",
              "      <td>128</td>\n",
              "    </tr>\n",
              "    <tr>\n",
              "      <th>9</th>\n",
              "      <td>Atlanta</td>\n",
              "      <td>24</td>\n",
              "      <td>61.5</td>\n",
              "      <td>368</td>\n",
              "      <td>497</td>\n",
              "      <td>9.1</td>\n",
              "      <td>48.34</td>\n",
              "      <td>115</td>\n",
              "    </tr>\n",
              "    <tr>\n",
              "      <th>10</th>\n",
              "      <td>Chicago</td>\n",
              "      <td>110</td>\n",
              "      <td>50.6</td>\n",
              "      <td>3344</td>\n",
              "      <td>3369</td>\n",
              "      <td>10.4</td>\n",
              "      <td>34.44</td>\n",
              "      <td>122</td>\n",
              "    </tr>\n",
              "    <tr>\n",
              "      <th>11</th>\n",
              "      <td>Indianapolis</td>\n",
              "      <td>28</td>\n",
              "      <td>52.3</td>\n",
              "      <td>361</td>\n",
              "      <td>746</td>\n",
              "      <td>9.7</td>\n",
              "      <td>38.74</td>\n",
              "      <td>121</td>\n",
              "    </tr>\n",
              "    <tr>\n",
              "      <th>12</th>\n",
              "      <td>Des Moines</td>\n",
              "      <td>17</td>\n",
              "      <td>49.0</td>\n",
              "      <td>104</td>\n",
              "      <td>201</td>\n",
              "      <td>11.2</td>\n",
              "      <td>30.85</td>\n",
              "      <td>103</td>\n",
              "    </tr>\n",
              "    <tr>\n",
              "      <th>13</th>\n",
              "      <td>Wichita</td>\n",
              "      <td>8</td>\n",
              "      <td>56.6</td>\n",
              "      <td>125</td>\n",
              "      <td>277</td>\n",
              "      <td>12.7</td>\n",
              "      <td>30.58</td>\n",
              "      <td>82</td>\n",
              "    </tr>\n",
              "    <tr>\n",
              "      <th>14</th>\n",
              "      <td>Louisville</td>\n",
              "      <td>30</td>\n",
              "      <td>55.6</td>\n",
              "      <td>291</td>\n",
              "      <td>593</td>\n",
              "      <td>8.3</td>\n",
              "      <td>43.11</td>\n",
              "      <td>123</td>\n",
              "    </tr>\n",
              "    <tr>\n",
              "      <th>15</th>\n",
              "      <td>New Orleans</td>\n",
              "      <td>9</td>\n",
              "      <td>68.3</td>\n",
              "      <td>204</td>\n",
              "      <td>361</td>\n",
              "      <td>8.4</td>\n",
              "      <td>56.77</td>\n",
              "      <td>113</td>\n",
              "    </tr>\n",
              "    <tr>\n",
              "      <th>16</th>\n",
              "      <td>Baltimore</td>\n",
              "      <td>47</td>\n",
              "      <td>55.0</td>\n",
              "      <td>625</td>\n",
              "      <td>905</td>\n",
              "      <td>9.6</td>\n",
              "      <td>41.31</td>\n",
              "      <td>111</td>\n",
              "    </tr>\n",
              "    <tr>\n",
              "      <th>17</th>\n",
              "      <td>Detroit</td>\n",
              "      <td>35</td>\n",
              "      <td>49.9</td>\n",
              "      <td>1064</td>\n",
              "      <td>1513</td>\n",
              "      <td>10.1</td>\n",
              "      <td>30.96</td>\n",
              "      <td>129</td>\n",
              "    </tr>\n",
              "    <tr>\n",
              "      <th>18</th>\n",
              "      <td>Minn-St. Paul</td>\n",
              "      <td>29</td>\n",
              "      <td>43.5</td>\n",
              "      <td>699</td>\n",
              "      <td>744</td>\n",
              "      <td>10.6</td>\n",
              "      <td>25.94</td>\n",
              "      <td>137</td>\n",
              "    </tr>\n",
              "    <tr>\n",
              "      <th>19</th>\n",
              "      <td>Kansas City</td>\n",
              "      <td>14</td>\n",
              "      <td>54.5</td>\n",
              "      <td>381</td>\n",
              "      <td>507</td>\n",
              "      <td>10.0</td>\n",
              "      <td>37.00</td>\n",
              "      <td>99</td>\n",
              "    </tr>\n",
              "    <tr>\n",
              "      <th>20</th>\n",
              "      <td>St. Louis</td>\n",
              "      <td>56</td>\n",
              "      <td>55.9</td>\n",
              "      <td>775</td>\n",
              "      <td>622</td>\n",
              "      <td>9.5</td>\n",
              "      <td>35.89</td>\n",
              "      <td>105</td>\n",
              "    </tr>\n",
              "    <tr>\n",
              "      <th>21</th>\n",
              "      <td>Omaha</td>\n",
              "      <td>14</td>\n",
              "      <td>51.5</td>\n",
              "      <td>181</td>\n",
              "      <td>347</td>\n",
              "      <td>10.9</td>\n",
              "      <td>30.18</td>\n",
              "      <td>98</td>\n",
              "    </tr>\n",
              "    <tr>\n",
              "      <th>22</th>\n",
              "      <td>Albuquerque</td>\n",
              "      <td>11</td>\n",
              "      <td>56.8</td>\n",
              "      <td>46</td>\n",
              "      <td>244</td>\n",
              "      <td>8.9</td>\n",
              "      <td>7.77</td>\n",
              "      <td>58</td>\n",
              "    </tr>\n",
              "    <tr>\n",
              "      <th>23</th>\n",
              "      <td>Albany</td>\n",
              "      <td>46</td>\n",
              "      <td>47.6</td>\n",
              "      <td>44</td>\n",
              "      <td>116</td>\n",
              "      <td>8.8</td>\n",
              "      <td>33.36</td>\n",
              "      <td>135</td>\n",
              "    </tr>\n",
              "    <tr>\n",
              "      <th>24</th>\n",
              "      <td>Buffalo</td>\n",
              "      <td>11</td>\n",
              "      <td>47.1</td>\n",
              "      <td>391</td>\n",
              "      <td>463</td>\n",
              "      <td>12.4</td>\n",
              "      <td>36.11</td>\n",
              "      <td>166</td>\n",
              "    </tr>\n",
              "    <tr>\n",
              "      <th>25</th>\n",
              "      <td>Cincinnati</td>\n",
              "      <td>23</td>\n",
              "      <td>54.0</td>\n",
              "      <td>462</td>\n",
              "      <td>453</td>\n",
              "      <td>7.1</td>\n",
              "      <td>39.04</td>\n",
              "      <td>132</td>\n",
              "    </tr>\n",
              "    <tr>\n",
              "      <th>26</th>\n",
              "      <td>Cleveland</td>\n",
              "      <td>65</td>\n",
              "      <td>49.7</td>\n",
              "      <td>1007</td>\n",
              "      <td>751</td>\n",
              "      <td>10.9</td>\n",
              "      <td>34.99</td>\n",
              "      <td>155</td>\n",
              "    </tr>\n",
              "    <tr>\n",
              "      <th>27</th>\n",
              "      <td>Columbus</td>\n",
              "      <td>26</td>\n",
              "      <td>51.5</td>\n",
              "      <td>266</td>\n",
              "      <td>540</td>\n",
              "      <td>8.6</td>\n",
              "      <td>37.01</td>\n",
              "      <td>134</td>\n",
              "    </tr>\n",
              "    <tr>\n",
              "      <th>28</th>\n",
              "      <td>Philadelphia</td>\n",
              "      <td>69</td>\n",
              "      <td>54.6</td>\n",
              "      <td>1692</td>\n",
              "      <td>1950</td>\n",
              "      <td>9.6</td>\n",
              "      <td>39.93</td>\n",
              "      <td>115</td>\n",
              "    </tr>\n",
              "    <tr>\n",
              "      <th>29</th>\n",
              "      <td>Pittsburgh</td>\n",
              "      <td>61</td>\n",
              "      <td>50.4</td>\n",
              "      <td>347</td>\n",
              "      <td>520</td>\n",
              "      <td>9.4</td>\n",
              "      <td>36.22</td>\n",
              "      <td>147</td>\n",
              "    </tr>\n",
              "    <tr>\n",
              "      <th>30</th>\n",
              "      <td>Providence</td>\n",
              "      <td>94</td>\n",
              "      <td>50.0</td>\n",
              "      <td>343</td>\n",
              "      <td>179</td>\n",
              "      <td>10.6</td>\n",
              "      <td>42.75</td>\n",
              "      <td>125</td>\n",
              "    </tr>\n",
              "    <tr>\n",
              "      <th>31</th>\n",
              "      <td>Memphis</td>\n",
              "      <td>10</td>\n",
              "      <td>61.6</td>\n",
              "      <td>337</td>\n",
              "      <td>624</td>\n",
              "      <td>9.2</td>\n",
              "      <td>49.10</td>\n",
              "      <td>105</td>\n",
              "    </tr>\n",
              "    <tr>\n",
              "      <th>32</th>\n",
              "      <td>Nashville</td>\n",
              "      <td>18</td>\n",
              "      <td>59.4</td>\n",
              "      <td>275</td>\n",
              "      <td>448</td>\n",
              "      <td>7.9</td>\n",
              "      <td>46.00</td>\n",
              "      <td>119</td>\n",
              "    </tr>\n",
              "    <tr>\n",
              "      <th>33</th>\n",
              "      <td>Dallas</td>\n",
              "      <td>9</td>\n",
              "      <td>66.2</td>\n",
              "      <td>641</td>\n",
              "      <td>844</td>\n",
              "      <td>10.9</td>\n",
              "      <td>35.94</td>\n",
              "      <td>78</td>\n",
              "    </tr>\n",
              "    <tr>\n",
              "      <th>34</th>\n",
              "      <td>Houston</td>\n",
              "      <td>10</td>\n",
              "      <td>68.9</td>\n",
              "      <td>721</td>\n",
              "      <td>1233</td>\n",
              "      <td>10.8</td>\n",
              "      <td>48.19</td>\n",
              "      <td>103</td>\n",
              "    </tr>\n",
              "    <tr>\n",
              "      <th>35</th>\n",
              "      <td>Salt Lake City</td>\n",
              "      <td>28</td>\n",
              "      <td>51.0</td>\n",
              "      <td>137</td>\n",
              "      <td>176</td>\n",
              "      <td>8.7</td>\n",
              "      <td>15.17</td>\n",
              "      <td>89</td>\n",
              "    </tr>\n",
              "    <tr>\n",
              "      <th>36</th>\n",
              "      <td>Norfolk</td>\n",
              "      <td>31</td>\n",
              "      <td>59.3</td>\n",
              "      <td>96</td>\n",
              "      <td>308</td>\n",
              "      <td>10.6</td>\n",
              "      <td>44.68</td>\n",
              "      <td>116</td>\n",
              "    </tr>\n",
              "    <tr>\n",
              "      <th>37</th>\n",
              "      <td>Richmond</td>\n",
              "      <td>26</td>\n",
              "      <td>57.8</td>\n",
              "      <td>197</td>\n",
              "      <td>299</td>\n",
              "      <td>7.6</td>\n",
              "      <td>42.59</td>\n",
              "      <td>115</td>\n",
              "    </tr>\n",
              "    <tr>\n",
              "      <th>38</th>\n",
              "      <td>Seattle</td>\n",
              "      <td>29</td>\n",
              "      <td>51.1</td>\n",
              "      <td>379</td>\n",
              "      <td>531</td>\n",
              "      <td>9.4</td>\n",
              "      <td>38.79</td>\n",
              "      <td>164</td>\n",
              "    </tr>\n",
              "    <tr>\n",
              "      <th>39</th>\n",
              "      <td>Charleston</td>\n",
              "      <td>31</td>\n",
              "      <td>55.2</td>\n",
              "      <td>35</td>\n",
              "      <td>71</td>\n",
              "      <td>6.5</td>\n",
              "      <td>40.75</td>\n",
              "      <td>148</td>\n",
              "    </tr>\n",
              "    <tr>\n",
              "      <th>40</th>\n",
              "      <td>Milwaukee</td>\n",
              "      <td>16</td>\n",
              "      <td>45.7</td>\n",
              "      <td>569</td>\n",
              "      <td>717</td>\n",
              "      <td>11.8</td>\n",
              "      <td>29.07</td>\n",
              "      <td>123</td>\n",
              "    </tr>\n",
              "  </tbody>\n",
              "</table>\n",
              "</div>"
            ],
            "text/plain": [
              "              City  SO2  Temp   Man   Pop  Wind   Rain  RainDays\n",
              "0          Phoenix   10  70.3   213   582   6.0   7.05        36\n",
              "1      Little Rock   13  61.0    91   132   8.2  48.52       100\n",
              "2    San Francisco   12  56.7   453   716   8.7  20.66        67\n",
              "3           Denver   17  51.9   454   515   9.0  12.95        86\n",
              "4         Hartford   56  49.1   412   158   9.0  43.37       127\n",
              "5       Wilmington   36  54.0    80    80   9.0  40.25       114\n",
              "6       Washington   29  57.3   434   757   9.3  38.89       111\n",
              "7     Jacksonville   14  68.4   136   529   8.8  54.47       116\n",
              "8            Miami   10  75.5   207   335   9.0  59.80       128\n",
              "9          Atlanta   24  61.5   368   497   9.1  48.34       115\n",
              "10         Chicago  110  50.6  3344  3369  10.4  34.44       122\n",
              "11    Indianapolis   28  52.3   361   746   9.7  38.74       121\n",
              "12      Des Moines   17  49.0   104   201  11.2  30.85       103\n",
              "13         Wichita    8  56.6   125   277  12.7  30.58        82\n",
              "14      Louisville   30  55.6   291   593   8.3  43.11       123\n",
              "15     New Orleans    9  68.3   204   361   8.4  56.77       113\n",
              "16       Baltimore   47  55.0   625   905   9.6  41.31       111\n",
              "17         Detroit   35  49.9  1064  1513  10.1  30.96       129\n",
              "18   Minn-St. Paul   29  43.5   699   744  10.6  25.94       137\n",
              "19     Kansas City   14  54.5   381   507  10.0  37.00        99\n",
              "20       St. Louis   56  55.9   775   622   9.5  35.89       105\n",
              "21           Omaha   14  51.5   181   347  10.9  30.18        98\n",
              "22     Albuquerque   11  56.8    46   244   8.9   7.77        58\n",
              "23          Albany   46  47.6    44   116   8.8  33.36       135\n",
              "24         Buffalo   11  47.1   391   463  12.4  36.11       166\n",
              "25      Cincinnati   23  54.0   462   453   7.1  39.04       132\n",
              "26       Cleveland   65  49.7  1007   751  10.9  34.99       155\n",
              "27        Columbus   26  51.5   266   540   8.6  37.01       134\n",
              "28    Philadelphia   69  54.6  1692  1950   9.6  39.93       115\n",
              "29      Pittsburgh   61  50.4   347   520   9.4  36.22       147\n",
              "30      Providence   94  50.0   343   179  10.6  42.75       125\n",
              "31         Memphis   10  61.6   337   624   9.2  49.10       105\n",
              "32       Nashville   18  59.4   275   448   7.9  46.00       119\n",
              "33          Dallas    9  66.2   641   844  10.9  35.94        78\n",
              "34         Houston   10  68.9   721  1233  10.8  48.19       103\n",
              "35  Salt Lake City   28  51.0   137   176   8.7  15.17        89\n",
              "36         Norfolk   31  59.3    96   308  10.6  44.68       116\n",
              "37        Richmond   26  57.8   197   299   7.6  42.59       115\n",
              "38         Seattle   29  51.1   379   531   9.4  38.79       164\n",
              "39      Charleston   31  55.2    35    71   6.5  40.75       148\n",
              "40       Milwaukee   16  45.7   569   717  11.8  29.07       123"
            ]
          },
          "metadata": {
            "tags": []
          },
          "execution_count": 4
        }
      ]
    },
    {
      "cell_type": "markdown",
      "metadata": {
        "id": "p44cOenCLMan"
      },
      "source": [
        "#Very basic plot to visualize any data"
      ]
    },
    {
      "cell_type": "markdown",
      "metadata": {
        "id": "ki2WjfxpK9ov"
      },
      "source": [
        "##scatter plot"
      ]
    },
    {
      "cell_type": "code",
      "metadata": {
        "id": "CTmjYd_kK1ic"
      },
      "source": [
        "pollution_data.plot.scatter('SO2','Wind')"
      ],
      "execution_count": null,
      "outputs": []
    },
    {
      "cell_type": "code",
      "metadata": {
        "id": "A0n_bsBXLfXL"
      },
      "source": [
        "pollution_data.plot.scatter('SO2','Wind',s=100,c='r')"
      ],
      "execution_count": null,
      "outputs": []
    },
    {
      "cell_type": "markdown",
      "metadata": {
        "id": "KfcxOcpwLlxS"
      },
      "source": [
        "เทคนิคที่1 ใช้ขนาดของจุดแสดงปริมาณของ dimension ที่ 3 ได้"
      ]
    },
    {
      "cell_type": "code",
      "metadata": {
        "id": "kWP1eqTjLm4R"
      },
      "source": [
        "pollution_data.plot.scatter('SO2','Wind',s = 'RainDays')"
      ],
      "execution_count": null,
      "outputs": []
    },
    {
      "cell_type": "markdown",
      "metadata": {
        "id": "R3L0wHh4LsoS"
      },
      "source": [
        "เทคนิคที่2 ใช้สีแสดงปริมาณของ dimension ที่ 3 ได้"
      ]
    },
    {
      "cell_type": "code",
      "metadata": {
        "id": "aYWP30LjLo9y"
      },
      "source": [
        "pollution_data.plot.scatter('SO2','Wind',c = 'RainDays')"
      ],
      "execution_count": null,
      "outputs": []
    },
    {
      "cell_type": "markdown",
      "metadata": {
        "id": "WExlH_TOLzqJ"
      },
      "source": [
        "#scatter matrix"
      ]
    },
    {
      "cell_type": "code",
      "metadata": {
        "id": "Y-qLW1O9Lvhs"
      },
      "source": [
        "pd.plotting.scatter_matrix(pollution_data)"
      ],
      "execution_count": null,
      "outputs": []
    },
    {
      "cell_type": "code",
      "metadata": {
        "id": "DtKa7nmjL7iK"
      },
      "source": [
        "pd.plotting.scatter_matrix(pollution_data);"
      ],
      "execution_count": null,
      "outputs": []
    },
    {
      "cell_type": "code",
      "metadata": {
        "id": "PiENcAA_L7-R"
      },
      "source": [
        "pd.plotting.scatter_matrix(pollution_data,alpha=1.0);"
      ],
      "execution_count": null,
      "outputs": []
    },
    {
      "cell_type": "code",
      "metadata": {
        "id": "mSS8OCrcL-C6"
      },
      "source": [
        "pd.plotting.scatter_matrix(pollution_data,alpha=0.1);"
      ],
      "execution_count": null,
      "outputs": []
    },
    {
      "cell_type": "code",
      "metadata": {
        "id": "Yj7XhdH3MNYq"
      },
      "source": [
        "pollution_data.plot.scatter('Temp','RainDays',s=100,c='r')"
      ],
      "execution_count": null,
      "outputs": []
    },
    {
      "cell_type": "markdown",
      "metadata": {
        "id": "R8U6bFh3MShQ"
      },
      "source": [
        "#Parallel Coordinate"
      ]
    },
    {
      "cell_type": "code",
      "metadata": {
        "id": "bf4_dMTtMPqq"
      },
      "source": [
        "example_df = pd.read_csv('https://raw.github.com/pandas-dev/pandas/master/pandas/tests/io/data/csv/iris.csv')"
      ],
      "execution_count": null,
      "outputs": []
    },
    {
      "cell_type": "code",
      "metadata": {
        "id": "wxQUs6HjMXDk"
      },
      "source": [
        "example_df"
      ],
      "execution_count": null,
      "outputs": []
    },
    {
      "cell_type": "code",
      "metadata": {
        "id": "CSuJknBlMa6a"
      },
      "source": [
        "pd.plotting.parallel_coordinates(example_df, 'Name')"
      ],
      "execution_count": null,
      "outputs": []
    },
    {
      "cell_type": "markdown",
      "metadata": {
        "id": "b_3t-8COMinZ"
      },
      "source": [
        "#Quiz2\r\n",
        "\r\n",
        "พล้อตกราฟ parallel coordinates ของข้อมูล pollution"
      ]
    },
    {
      "cell_type": "code",
      "metadata": {
        "id": "VOUgIy9oMd2P"
      },
      "source": [
        "pd.plotting.parallel_coordinates(pollution_data, 'City')"
      ],
      "execution_count": null,
      "outputs": []
    },
    {
      "cell_type": "markdown",
      "metadata": {
        "id": "6PYj2hFwNFY5"
      },
      "source": [
        "#จัดกลุ่มตามปริมาณในคอลัมน์ - จัดกลุ่มตามภาค-รัฐ"
      ]
    },
    {
      "cell_type": "code",
      "metadata": {
        "id": "x4dQsSPKMnkV"
      },
      "source": [
        ""
      ],
      "execution_count": null,
      "outputs": []
    }
  ]
}