{
  "nbformat": 4,
  "nbformat_minor": 0,
  "metadata": {
    "colab": {
      "name": "MVA001.ipynb",
      "provenance": [],
      "authorship_tag": "ABX9TyPnNMJYzVkQbs7yauqMAQHM",
      "include_colab_link": true
    },
    "kernelspec": {
      "name": "python3",
      "display_name": "Python 3"
    }
  },
  "cells": [
    {
      "cell_type": "markdown",
      "metadata": {
        "id": "view-in-github",
        "colab_type": "text"
      },
      "source": [
        "<a href=\"https://colab.research.google.com/github/Jittiya/multivariate/blob/main/MVA001.ipynb\" target=\"_parent\"><img src=\"https://colab.research.google.com/assets/colab-badge.svg\" alt=\"Open In Colab\"/></a>"
      ]
    },
    {
      "cell_type": "markdown",
      "metadata": {
        "id": "3KRW8U9nTPcp"
      },
      "source": [
        "Scarlar, Vector, Matrix"
      ]
    },
    {
      "cell_type": "markdown",
      "metadata": {
        "id": "PKcNR5PyY13q"
      },
      "source": [
        "# Scalar"
      ]
    },
    {
      "cell_type": "code",
      "metadata": {
        "id": "m3XsPIrnTcez"
      },
      "source": [
        " import numpy as np"
      ],
      "execution_count": 4,
      "outputs": []
    },
    {
      "cell_type": "code",
      "metadata": {
        "colab": {
          "base_uri": "https://localhost:8080/"
        },
        "id": "r38FZEO6T-D3",
        "outputId": "85d2630e-dae7-4e0f-aa65-903f7299bfaf"
      },
      "source": [
        "scalar_a = 10 #scalar\r\n",
        "print(scalar_a)"
      ],
      "execution_count": 5,
      "outputs": [
        {
          "output_type": "stream",
          "text": [
            "10\n"
          ],
          "name": "stdout"
        }
      ]
    },
    {
      "cell_type": "markdown",
      "metadata": {
        "id": "PmC_E5N6r74s"
      },
      "source": [
        "# Vector"
      ]
    },
    {
      "cell_type": "code",
      "metadata": {
        "colab": {
          "base_uri": "https://localhost:8080/"
        },
        "id": "d4uvavvhURPd",
        "outputId": "808f00c5-5bbb-452c-c31e-bb34726737ce"
      },
      "source": [
        "vector_b = np.zeros([2,1])\r\n",
        "vector_b[0,0] =1\r\n",
        "vector_b[1,0] =3\r\n",
        "print(vector_b)\r\n",
        "print(vector_b.shape)"
      ],
      "execution_count": 6,
      "outputs": [
        {
          "output_type": "stream",
          "text": [
            "[[1.]\n",
            " [3.]]\n",
            "(2, 1)\n"
          ],
          "name": "stdout"
        }
      ]
    },
    {
      "cell_type": "code",
      "metadata": {
        "colab": {
          "base_uri": "https://localhost:8080/"
        },
        "id": "NVhrcoatUu0o",
        "outputId": "9011106a-5efb-4e15-972a-d5436ecca242"
      },
      "source": [
        "vector_c = np.array([[1],[2]])\r\n",
        "print(vector_c)\r\n",
        "print(vector_c.shape)\r\n"
      ],
      "execution_count": 7,
      "outputs": [
        {
          "output_type": "stream",
          "text": [
            "[[1]\n",
            " [2]]\n",
            "(2, 1)\n"
          ],
          "name": "stdout"
        }
      ]
    },
    {
      "cell_type": "code",
      "metadata": {
        "id": "NndnR1PzVWRM"
      },
      "source": [
        "from matplotlib import  pyplot as plt"
      ],
      "execution_count": 8,
      "outputs": []
    },
    {
      "cell_type": "code",
      "metadata": {
        "colab": {
          "base_uri": "https://localhost:8080/",
          "height": 282
        },
        "id": "2rCH90UyWPJr",
        "outputId": "b12800fe-d0f1-4ef4-f5a9-4c6083205dad"
      },
      "source": [
        "plt.plot(vector_b[0,0], vector_b[1,0], 'or')"
      ],
      "execution_count": 9,
      "outputs": [
        {
          "output_type": "execute_result",
          "data": {
            "text/plain": [
              "[<matplotlib.lines.Line2D at 0x7fc1c59852b0>]"
            ]
          },
          "metadata": {
            "tags": []
          },
          "execution_count": 9
        },
        {
          "output_type": "display_data",
          "data": {
            "image/png": "[encoded data removed]",
            "text/plain": [
              "<Figure size 432x288 with 1 Axes>"
            ]
          },
          "metadata": {
            "tags": [],
            "needs_background": "light"
          }
        }
      ]
    },
    {
      "cell_type": "markdown",
      "metadata": {
        "id": "sCckqX4GYDtJ"
      },
      "source": [
        "ขนาดของ vector คำนวณได้โดย พิธากอรัส"
      ]
    },
    {
      "cell_type": "code",
      "metadata": {
        "colab": {
          "base_uri": "https://localhost:8080/"
        },
        "id": "9qfK48EbYKyA",
        "outputId": "879a2f1e-2a77-44c6-b432-7254dadb9b72"
      },
      "source": [
        "vector_b_size = ((vector_b[0,0]**2) + (vector_b[1,0]**2))**0.5\r\n",
        "print(vector_b_size)"
      ],
      "execution_count": 10,
      "outputs": [
        {
          "output_type": "stream",
          "text": [
            "3.1622776601683795\n"
          ],
          "name": "stdout"
        }
      ]
    },
    {
      "cell_type": "code",
      "metadata": {
        "colab": {
          "base_uri": "https://localhost:8080/",
          "height": 282
        },
        "id": "FM3fFatRWiBE",
        "outputId": "e51f83f7-605d-47cd-e36b-7cc4ecc78391"
      },
      "source": [
        "plt.quiver(0,0,vector_b[0,0], vector_b[1,0])"
      ],
      "execution_count": 11,
      "outputs": [
        {
          "output_type": "execute_result",
          "data": {
            "text/plain": [
              "<matplotlib.quiver.Quiver at 0x7fc1c63375c0>"
            ]
          },
          "metadata": {
            "tags": []
          },
          "execution_count": 11
        },
        {
          "output_type": "display_data",
          "data": {
            "image/png": "[encoded data removed]",
            "text/plain": [
              "<Figure size 432x288 with 1 Axes>"
            ]
          },
          "metadata": {
            "tags": [],
            "needs_background": "light"
          }
        }
      ]
    },
    {
      "cell_type": "code",
      "metadata": {
        "id": "tb4ELUP_WxyL"
      },
      "source": [
        ""
      ],
      "execution_count": 11,
      "outputs": []
    },
    {
      "cell_type": "markdown",
      "metadata": {
        "id": "qlvLpHaPZOSS"
      },
      "source": [
        "# Matrix"
      ]
    },
    {
      "cell_type": "code",
      "metadata": {
        "colab": {
          "base_uri": "https://localhost:8080/"
        },
        "id": "LyH0mqTFZP9w",
        "outputId": "ce959ede-e1f9-4696-decc-7a0dfd9af92d"
      },
      "source": [
        "matrix_d = np.array([[2,3],[1,4],[-1,1]])\r\n",
        "print(matrix_d)"
      ],
      "execution_count": 12,
      "outputs": [
        {
          "output_type": "stream",
          "text": [
            "[[ 2  3]\n",
            " [ 1  4]\n",
            " [-1  1]]\n"
          ],
          "name": "stdout"
        }
      ]
    },
    {
      "cell_type": "code",
      "metadata": {
        "colab": {
          "base_uri": "https://localhost:8080/"
        },
        "id": "-odn-WWzZ7X6",
        "outputId": "d5affd70-673c-4172-e152-8eb5552c9dda"
      },
      "source": [
        "matrix_d = matrix_d.T\r\n",
        "print(matrix_d)"
      ],
      "execution_count": 13,
      "outputs": [
        {
          "output_type": "stream",
          "text": [
            "[[ 2  1 -1]\n",
            " [ 3  4  1]]\n"
          ],
          "name": "stdout"
        }
      ]
    },
    {
      "cell_type": "code",
      "metadata": {
        "colab": {
          "base_uri": "https://localhost:8080/",
          "height": 282
        },
        "id": "pCO9gRslabrY",
        "outputId": "4a44b889-16bd-4d27-ba74-06edb56b6f37"
      },
      "source": [
        "plt.plot(matrix_d[0,:], matrix_d[1,:], 'or')  #plot(ค่าx , ค่าy, หน้าตาของจุด)# plotจุดลงในspace\r\n",
        "plt.plot(0, 0, '.b')  #plot(ค่าx , ค่าy, หน้าตาของจุด)\r\n",
        "plt.plot([0,0], [-1,5], '^--k')\r\n",
        "plt.plot([-1.5,2.5], [0,0], '>--k')"
      ],
      "execution_count": 14,
      "outputs": [
        {
          "output_type": "execute_result",
          "data": {
            "text/plain": [
              "[<matplotlib.lines.Line2D at 0x7fc1bcc29cf8>]"
            ]
          },
          "metadata": {
            "tags": []
          },
          "execution_count": 14
        },
        {
          "output_type": "display_data",
          "data": {
            "image/png": "[encoded data removed]",
            "text/plain": [
              "<Figure size 432x288 with 1 Axes>"
            ]
          },
          "metadata": {
            "tags": [],
            "needs_background": "light"
          }
        }
      ]
    },
    {
      "cell_type": "markdown",
      "metadata": {
        "id": "hE4DW--CdfGI"
      },
      "source": [
        "web plt plot\r\n",
        "https://matplotlib.org/3.3.3/api/_as_gen/matplotlib.pyplot.plot.html"
      ]
    },
    {
      "cell_type": "code",
      "metadata": {
        "id": "PK6AERLWbGtn"
      },
      "source": [
        ""
      ],
      "execution_count": 14,
      "outputs": []
    },
    {
      "cell_type": "markdown",
      "metadata": {
        "id": "a3YD3uBFsY7u"
      },
      "source": [
        "# Determinant\r\n",
        "\r\n",
        "Det(B)\r\n"
      ]
    },
    {
      "cell_type": "code",
      "metadata": {
        "colab": {
          "base_uri": "https://localhost:8080/",
          "height": 164
        },
        "id": "n5khw8grsbuH",
        "outputId": "b3c04942-838f-40c4-a367-4f50fab18a40"
      },
      "source": [
        " np.linalg.det(B)"
      ],
      "execution_count": 16,
      "outputs": [
        {
          "output_type": "error",
          "ename": "NameError",
          "evalue": "ignored",
          "traceback": [
            "\u001b[0;31m---------------------------------------------------------------------------\u001b[0m",
            "\u001b[0;31mNameError\u001b[0m                                 Traceback (most recent call last)",
            "\u001b[0;32m<ipython-input-16-d42e99f36fb6>\u001b[0m in \u001b[0;36m<module>\u001b[0;34m()\u001b[0m\n\u001b[0;32m----> 1\u001b[0;31m \u001b[0mnp\u001b[0m\u001b[0;34m.\u001b[0m\u001b[0mlinalg\u001b[0m\u001b[0;34m.\u001b[0m\u001b[0mdet\u001b[0m\u001b[0;34m(\u001b[0m\u001b[0mB\u001b[0m\u001b[0;34m)\u001b[0m\u001b[0;34m\u001b[0m\u001b[0;34m\u001b[0m\u001b[0m\n\u001b[0m",
            "\u001b[0;31mNameError\u001b[0m: name 'B' is not defined"
          ]
        }
      ]
    },
    {
      "cell_type": "markdown",
      "metadata": {
        "id": "Aviy3Y4Csw2c"
      },
      "source": [
        "linalg = linear algebra\r\n"
      ]
    },
    {
      "cell_type": "markdown",
      "metadata": {
        "id": "ZDqZLL50tVp0"
      },
      "source": [
        "matrix algebra เพิ่มเติม"
      ]
    },
    {
      "cell_type": "code",
      "metadata": {
        "colab": {
          "base_uri": "https://localhost:8080/",
          "height": 282
        },
        "id": "QAbTfXOPstcH",
        "outputId": "67c98825-94e0-44bb-8b47-1710096beb9a"
      },
      "source": [
        "plt.plot([0,2**0.5],[0,2**0.5], '-r')    ## plot(ค่าx, ค่าy, หน้าตาของจุด)\r\n",
        "plt.plot(0,0, '.b')\r\n",
        "plt.plot([0,0], [-1,5], '^:k')\r\n",
        "plt.plot([-1.5,2.5], [0,0], '>:k')"
      ],
      "execution_count": 18,
      "outputs": [
        {
          "output_type": "execute_result",
          "data": {
            "text/plain": [
              "[<matplotlib.lines.Line2D at 0x7fc1b4823588>]"
            ]
          },
          "metadata": {
            "tags": []
          },
          "execution_count": 18
        },
        {
          "output_type": "display_data",
          "data": {
            "image/png": "[encoded data removed]",
            "text/plain": [
              "<Figure size 432x288 with 1 Axes>"
            ]
          },
          "metadata": {
            "tags": [],
            "needs_background": "light"
          }
        }
      ]
    },
    {
      "cell_type": "code",
      "metadata": {
        "colab": {
          "base_uri": "https://localhost:8080/"
        },
        "id": "YMByjZNOu2OJ",
        "outputId": "7349762a-821f-4a56-ce89-253be0e55aac"
      },
      "source": [
        "B = np.array([[1,2],[3,4]])\r\n",
        "B"
      ],
      "execution_count": 21,
      "outputs": [
        {
          "output_type": "execute_result",
          "data": {
            "text/plain": [
              "array([[1, 2],\n",
              "       [3, 4]])"
            ]
          },
          "metadata": {
            "tags": []
          },
          "execution_count": 21
        }
      ]
    },
    {
      "cell_type": "markdown",
      "metadata": {
        "id": "G-8od1SLvix2"
      },
      "source": [
        "การคูณ  Matrix ( $B.v$ ) คือ  linear tranformation"
      ]
    },
    {
      "cell_type": "code",
      "metadata": {
        "colab": {
          "base_uri": "https://localhost:8080/"
        },
        "id": "nUN8mWm0vA3s",
        "outputId": "a2743451-5e25-4ac9-bd63-6d4129907cf1"
      },
      "source": [
        "Bv  = np.dot(B, np.array([[1],[1]]))\r\n",
        "Bv"
      ],
      "execution_count": 23,
      "outputs": [
        {
          "output_type": "execute_result",
          "data": {
            "text/plain": [
              "array([[3],\n",
              "       [7]])"
            ]
          },
          "metadata": {
            "tags": []
          },
          "execution_count": 23
        }
      ]
    },
    {
      "cell_type": "code",
      "metadata": {
        "colab": {
          "base_uri": "https://localhost:8080/",
          "height": 282
        },
        "id": "GKWI9pYrvY0y",
        "outputId": "ebd89f29-833f-48fe-d762-826daff1e965"
      },
      "source": [
        "plt.plot([0,Bv[0,0]], [0,Bv[1,0]], '-g')     ## vector Bv\r\n",
        "plt.plot([0,1],[1,0], '-r')    ## vector  v    ([1,1])\r\n",
        "plt.plot(0,0, '.b')\r\n",
        "plt.plot([0,0],[-1,5], '^:k')\r\n",
        "plt.plot([-1.5,2.5],[0,0], '>:k')"
      ],
      "execution_count": 26,
      "outputs": [
        {
          "output_type": "execute_result",
          "data": {
            "text/plain": [
              "[<matplotlib.lines.Line2D at 0x7fc1b466aa20>]"
            ]
          },
          "metadata": {
            "tags": []
          },
          "execution_count": 26
        },
        {
          "output_type": "display_data",
          "data": {
            "image/png": "[encoded data removed]",
            "text/plain": [
              "<Figure size 432x288 with 1 Axes>"
            ]
          },
          "metadata": {
            "tags": [],
            "needs_background": "light"
          }
        }
      ]
    },
    {
      "cell_type": "markdown",
      "metadata": {
        "id": "DVXcFfbPv7x0"
      },
      "source": [
        "Determinant ของ Matrix ก็คือ ( $B.v$)  คือ พื้นที่ของ   unit vector  ที่ถูกเปลี่ยนไป โดย Matrix นั้นๆ"
      ]
    },
    {
      "cell_type": "code",
      "metadata": {
        "colab": {
          "base_uri": "https://localhost:8080/",
          "height": 282
        },
        "id": "BrzjwDZgwixU",
        "outputId": "d7271abb-4351-4f12-e3fc-403e091b13fa"
      },
      "source": [
        "plt.plot([0,Bv[0,0]], [0,Bv[1,0]], '-g')     ## vector Bv\r\n",
        "plt.plot([1,1],[1,0], ':r')   ## วาดจุดไข่ปลา  พื้นที่ของ Bv\r\n",
        "plt.plot([1,0],[1,1], ':r')   ## วาดจุดไข่ปลา   พื้นที่ของ Bv\r\n",
        "plt.plot([0,1],[1,0], '-r')    ## vector  v    ([1,1])\r\n",
        "plt.plot(0,0, '.b')\r\n",
        "plt.plot([0,0],[-1,5], '^:k')\r\n",
        "plt.plot([-1.5,2.5],[0,0], '>:k')"
      ],
      "execution_count": 24,
      "outputs": [
        {
          "output_type": "execute_result",
          "data": {
            "text/plain": [
              "[<matplotlib.lines.Line2D at 0x7fc1b475c8d0>]"
            ]
          },
          "metadata": {
            "tags": []
          },
          "execution_count": 24
        },
        {
          "output_type": "display_data",
          "data": {
            "image/png": "[encoded data removed]",
            "text/plain": [
              "<Figure size 432x288 with 1 Axes>"
            ]
          },
          "metadata": {
            "tags": [],
            "needs_background": "light"
          }
        }
      ]
    },
    {
      "cell_type": "code",
      "metadata": {
        "colab": {
          "base_uri": "https://localhost:8080/",
          "height": 282
        },
        "id": "u6pyoYAXy_B2",
        "outputId": "12e278b4-4af4-43fc-e0c0-9bd7e5d63d8d"
      },
      "source": [
        "plt.plot([0,Bv[0,0]], [0,Bv[1,0]], '-g')     ## vector Bv\r\n",
        "plt.plot([3,3],[7,0], ':g')   ## วาดจุดไข่ปลา  พื้นที่ของ Bv\r\n",
        "plt.plot([3,0],[7,7], ':g')   ## วาดจุดไข่ปลา   พื้นที่ของ Bv\r\n",
        "plt.plot([0,1],[1,0], '-r')    ## vector  v    ([1,1])\r\n",
        "plt.plot([1,1],[1,0], ':r')   ## วาดจุดไข่ปลา  พื้นที่ของ v\r\n",
        "plt.plot([1,0],[1,1], ':r')   ## วาดจุดไข่ปลา   พื้นที่ของ v\r\n",
        "plt.plot(0,0, '.b')\r\n",
        "plt.plot([0,0],[-1,8], '^:k')\r\n",
        "plt.plot([-1.5,3.5],[0,0], '>:k')"
      ],
      "execution_count": 28,
      "outputs": [
        {
          "output_type": "execute_result",
          "data": {
            "text/plain": [
              "[<matplotlib.lines.Line2D at 0x7fc1b4568828>]"
            ]
          },
          "metadata": {
            "tags": []
          },
          "execution_count": 28
        },
        {
          "output_type": "display_data",
          "data": {
            "image/png": "[encoded data removed]",
            "text/plain": [
              "<Figure size 432x288 with 1 Axes>"
            ]
          },
          "metadata": {
            "tags": [],
            "needs_background": "light"
          }
        }
      ]
    },
    {
      "cell_type": "markdown",
      "metadata": {
        "id": "u74U2MxO03Pr"
      },
      "source": [
        "# Identity  Matrix    ($I$)\r\n",
        "\r\n",
        "$BI   =    A     =   IB$"
      ]
    },
    {
      "cell_type": "code",
      "metadata": {
        "id": "zvAhJQHc0Ynp"
      },
      "source": [
        "iden2  =  np.identity(2)"
      ],
      "execution_count": 33,
      "outputs": []
    },
    {
      "cell_type": "code",
      "metadata": {
        "colab": {
          "base_uri": "https://localhost:8080/"
        },
        "id": "duQoEwvS2OZ_",
        "outputId": "4827b88c-1bd5-491f-e591-c700cac9b7fe"
      },
      "source": [
        "B"
      ],
      "execution_count": 34,
      "outputs": [
        {
          "output_type": "execute_result",
          "data": {
            "text/plain": [
              "array([[1, 2],\n",
              "       [3, 4]])"
            ]
          },
          "metadata": {
            "tags": []
          },
          "execution_count": 34
        }
      ]
    },
    {
      "cell_type": "code",
      "metadata": {
        "colab": {
          "base_uri": "https://localhost:8080/"
        },
        "id": "l2F_E04r2D5e",
        "outputId": "13c6e9cd-a19f-4a7c-bb17-e83e296ecc61"
      },
      "source": [
        "np.dot(B, iden2)"
      ],
      "execution_count": 36,
      "outputs": [
        {
          "output_type": "execute_result",
          "data": {
            "text/plain": [
              "array([[1., 2.],\n",
              "       [3., 4.]])"
            ]
          },
          "metadata": {
            "tags": []
          },
          "execution_count": 36
        }
      ]
    },
    {
      "cell_type": "code",
      "metadata": {
        "colab": {
          "base_uri": "https://localhost:8080/"
        },
        "id": "pFGkZS2u2SzN",
        "outputId": "ddabc584-ba71-482f-fde5-2bd369057d6c"
      },
      "source": [
        "np.dot(iden2, B)"
      ],
      "execution_count": 37,
      "outputs": [
        {
          "output_type": "execute_result",
          "data": {
            "text/plain": [
              "array([[1., 2.],\n",
              "       [3., 4.]])"
            ]
          },
          "metadata": {
            "tags": []
          },
          "execution_count": 37
        }
      ]
    },
    {
      "cell_type": "code",
      "metadata": {
        "colab": {
          "base_uri": "https://localhost:8080/"
        },
        "id": "jkXAU2ru2d89",
        "outputId": "9d49a5ad-937a-4838-ee23-b442d1cbe174"
      },
      "source": [
        "C = np.array([[-1,2],[2,4]])\r\n",
        "C"
      ],
      "execution_count": 38,
      "outputs": [
        {
          "output_type": "execute_result",
          "data": {
            "text/plain": [
              "array([[-1,  2],\n",
              "       [ 2,  4]])"
            ]
          },
          "metadata": {
            "tags": []
          },
          "execution_count": 38
        }
      ]
    },
    {
      "cell_type": "code",
      "metadata": {
        "colab": {
          "base_uri": "https://localhost:8080/"
        },
        "id": "8ZNxDihk2pqU",
        "outputId": "e1b1fca6-4651-4227-e9cf-363b15d5c10a"
      },
      "source": [
        "np.dot(B,C)"
      ],
      "execution_count": 39,
      "outputs": [
        {
          "output_type": "execute_result",
          "data": {
            "text/plain": [
              "array([[ 3, 10],\n",
              "       [ 5, 22]])"
            ]
          },
          "metadata": {
            "tags": []
          },
          "execution_count": 39
        }
      ]
    },
    {
      "cell_type": "code",
      "metadata": {
        "colab": {
          "base_uri": "https://localhost:8080/"
        },
        "id": "hDHwyX_n2vVa",
        "outputId": "2a98d572-c57b-4407-878c-2af1ca2d4935"
      },
      "source": [
        "np.dot(C,B)"
      ],
      "execution_count": 40,
      "outputs": [
        {
          "output_type": "execute_result",
          "data": {
            "text/plain": [
              "array([[ 5,  6],\n",
              "       [14, 20]])"
            ]
          },
          "metadata": {
            "tags": []
          },
          "execution_count": 40
        }
      ]
    },
    {
      "cell_type": "markdown",
      "metadata": {
        "id": "ExcOiKm64SxF"
      },
      "source": [
        "การบ้านในห้อง   ( Quiz 1  -commit:  quiz 1feb21 )"
      ]
    },
    {
      "cell_type": "code",
      "metadata": {
        "colab": {
          "base_uri": "https://localhost:8080/"
        },
        "id": "DbxtNu-92zPg",
        "outputId": "070bd7ea-4623-406d-adf3-554ea8eb9749"
      },
      "source": [
        "Ex  =  np.array([[3,1,6],[7,4,5],[2,-7,1]])\r\n",
        "Ex"
      ],
      "execution_count": 41,
      "outputs": [
        {
          "output_type": "execute_result",
          "data": {
            "text/plain": [
              "array([[ 3,  1,  6],\n",
              "       [ 7,  4,  5],\n",
              "       [ 2, -7,  1]])"
            ]
          },
          "metadata": {
            "tags": []
          },
          "execution_count": 41
        }
      ]
    },
    {
      "cell_type": "code",
      "metadata": {
        "colab": {
          "base_uri": "https://localhost:8080/"
        },
        "id": "NKOWeatS4NfB",
        "outputId": "52a4c26a-5c25-48df-8999-32f1ebd45643"
      },
      "source": [
        "np.linalg.det(Ex)"
      ],
      "execution_count": 42,
      "outputs": [
        {
          "output_type": "execute_result",
          "data": {
            "text/plain": [
              "-221.99999999999997"
            ]
          },
          "metadata": {
            "tags": []
          },
          "execution_count": 42
        }
      ]
    },
    {
      "cell_type": "markdown",
      "metadata": {
        "id": "RUIN4AaO6xWD"
      },
      "source": [
        "Eigen  value  กับ  Eigen vector\r\n",
        "\r\n",
        "Eigen  value   ($\\lambda$)     - >   $|A-\\lambda  I|  =  0$     ## $latex$\r\n",
        "\r\n",
        "Eigen  vector   ($x$)     - >   $Ax  =  \\lambda\r\n",
        "\r\n"
      ]
    },
    {
      "cell_type": "code",
      "metadata": {
        "id": "iskGr9LA6czC"
      },
      "source": [
        ""
      ],
      "execution_count": null,
      "outputs": []
    },
    {
      "cell_type": "markdown",
      "metadata": {
        "id": "hne6JJjw9pL6"
      },
      "source": [
        "HW   5   หา  Eigen  value  กับ  Eigen  vector  "
      ]
    },
    {
      "cell_type": "code",
      "metadata": {
        "id": "R_cPnFMw-LzM"
      },
      "source": [
        ""
      ],
      "execution_count": null,
      "outputs": []
    }
  ]
}