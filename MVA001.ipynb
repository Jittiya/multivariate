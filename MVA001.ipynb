{
  "nbformat": 4,
  "nbformat_minor": 0,
  "metadata": {
    "colab": {
      "name": "MVA001.ipynb",
      "provenance": [],
      "authorship_tag": "ABX9TyMlwg7qdHCTtOMVLYxnk8eg",
      "include_colab_link": true
    },
    "kernelspec": {
      "name": "python3",
      "display_name": "Python 3"
    }
  },
  "cells": [
    {
      "cell_type": "markdown",
      "metadata": {
        "id": "view-in-github",
        "colab_type": "text"
      },
      "source": [
        "<a href=\"https://colab.research.google.com/github/Jittiya/multivariate/blob/main/MVA001.ipynb\" target=\"_parent\"><img src=\"https://colab.research.google.com/assets/colab-badge.svg\" alt=\"Open In Colab\"/></a>"
      ]
    },
    {
      "cell_type": "markdown",
      "metadata": {
        "id": "3KRW8U9nTPcp"
      },
      "source": [
        "Scarlar, Vector, Matrix"
      ]
    },
    {
      "cell_type": "markdown",
      "metadata": {
        "id": "PKcNR5PyY13q"
      },
      "source": [
        "# Scalar"
      ]
    },
    {
      "cell_type": "code",
      "metadata": {
        "id": "m3XsPIrnTcez"
      },
      "source": [
        " import numpy as np"
      ],
      "execution_count": 1,
      "outputs": []
    },
    {
      "cell_type": "code",
      "metadata": {
        "colab": {
          "base_uri": "https://localhost:8080/"
        },
        "id": "r38FZEO6T-D3",
        "outputId": "2576ae43-f794-44bf-8f5f-d41112961c2c"
      },
      "source": [
        "scalar_a = 10 #scalar\r\n",
        "print(scalar_a)"
      ],
      "execution_count": 2,
      "outputs": [
        {
          "output_type": "stream",
          "text": [
            "10\n"
          ],
          "name": "stdout"
        }
      ]
    },
    {
      "cell_type": "markdown",
      "metadata": {
        "id": "PmC_E5N6r74s"
      },
      "source": [
        "# Vector"
      ]
    },
    {
      "cell_type": "code",
      "metadata": {
        "colab": {
          "base_uri": "https://localhost:8080/"
        },
        "id": "d4uvavvhURPd",
        "outputId": "a7756250-9e6e-445d-eafe-f633cff7478a"
      },
      "source": [
        "vector_b = np.zeros([2,1])\r\n",
        "vector_b[0,0] =1\r\n",
        "vector_b[1,0] =3\r\n",
        "print(vector_b)\r\n",
        "print(vector_b.shape)"
      ],
      "execution_count": 3,
      "outputs": [
        {
          "output_type": "stream",
          "text": [
            "[[1.]\n",
            " [3.]]\n",
            "(2, 1)\n"
          ],
          "name": "stdout"
        }
      ]
    },
    {
      "cell_type": "code",
      "metadata": {
        "colab": {
          "base_uri": "https://localhost:8080/"
        },
        "id": "NVhrcoatUu0o",
        "outputId": "0ff015f6-56a7-47ba-f5f5-c16bdc716533"
      },
      "source": [
        "vector_c = np.array([[1],[2]])\r\n",
        "print(vector_c)\r\n",
        "print(vector_c.shape)\r\n"
      ],
      "execution_count": 4,
      "outputs": [
        {
          "output_type": "stream",
          "text": [
            "[[1]\n",
            " [2]]\n",
            "(2, 1)\n"
          ],
          "name": "stdout"
        }
      ]
    },
    {
      "cell_type": "code",
      "metadata": {
        "id": "NndnR1PzVWRM"
      },
      "source": [
        "from matplotlib import  pyplot as plt"
      ],
      "execution_count": 5,
      "outputs": []
    },
    {
      "cell_type": "code",
      "metadata": {
        "colab": {
          "base_uri": "https://localhost:8080/",
          "height": 282
        },
        "id": "2rCH90UyWPJr",
        "outputId": "07b8203f-1663-4a3c-8798-41254476b950"
      },
      "source": [
        "plt.plot(vector_b[0,0], vector_b[1,0], 'or')"
      ],
      "execution_count": 6,
      "outputs": [
        {
          "output_type": "execute_result",
          "data": {
            "text/plain": [
              "[<matplotlib.lines.Line2D at 0x7f3c1cf9aa90>]"
            ]
          },
          "metadata": {
            "tags": []
          },
          "execution_count": 6
        },
        {
          "output_type": "display_data",
          "data": {
            "image/png": "[encoded data removed]",
            "text/plain": [
              "<Figure size 432x288 with 1 Axes>"
            ]
          },
          "metadata": {
            "tags": [],
            "needs_background": "light"
          }
        }
      ]
    },
    {
      "cell_type": "markdown",
      "metadata": {
        "id": "sCckqX4GYDtJ"
      },
      "source": [
        "ขนาดของ vector คำนวณได้โดย พิธากอรัส"
      ]
    },
    {
      "cell_type": "code",
      "metadata": {
        "colab": {
          "base_uri": "https://localhost:8080/"
        },
        "id": "9qfK48EbYKyA",
        "outputId": "d0bff8fa-1584-4733-b2bb-4948d98beeba"
      },
      "source": [
        "vector_b_size = ((vector_b[0,0]**2) + (vector_b[1,0]**2))**0.5\r\n",
        "print(vector_b_size)"
      ],
      "execution_count": 7,
      "outputs": [
        {
          "output_type": "stream",
          "text": [
            "3.1622776601683795\n"
          ],
          "name": "stdout"
        }
      ]
    },
    {
      "cell_type": "code",
      "metadata": {
        "colab": {
          "base_uri": "https://localhost:8080/",
          "height": 282
        },
        "id": "FM3fFatRWiBE",
        "outputId": "76007bb6-1203-456d-ed7f-12172a3b95f6"
      },
      "source": [
        "plt.quiver(0,0,vector_b[0,0], vector_b[1,0])"
      ],
      "execution_count": 8,
      "outputs": [
        {
          "output_type": "execute_result",
          "data": {
            "text/plain": [
              "<matplotlib.quiver.Quiver at 0x7f3c1cf3b320>"
            ]
          },
          "metadata": {
            "tags": []
          },
          "execution_count": 8
        },
        {
          "output_type": "display_data",
          "data": {
            "image/png": "[encoded data removed]",
            "text/plain": [
              "<Figure size 432x288 with 1 Axes>"
            ]
          },
          "metadata": {
            "tags": [],
            "needs_background": "light"
          }
        }
      ]
    },
    {
      "cell_type": "code",
      "metadata": {
        "id": "tb4ELUP_WxyL"
      },
      "source": [
        ""
      ],
      "execution_count": 8,
      "outputs": []
    },
    {
      "cell_type": "markdown",
      "metadata": {
        "id": "qlvLpHaPZOSS"
      },
      "source": [
        "# Matrix"
      ]
    },
    {
      "cell_type": "code",
      "metadata": {
        "colab": {
          "base_uri": "https://localhost:8080/"
        },
        "id": "LyH0mqTFZP9w",
        "outputId": "45956033-87ec-4f06-e91d-a39cfc1ae7bd"
      },
      "source": [
        "matrix_d = np.array([[2,3],[1,4],[-1,1]])\r\n",
        "print(matrix_d)"
      ],
      "execution_count": 9,
      "outputs": [
        {
          "output_type": "stream",
          "text": [
            "[[ 2  3]\n",
            " [ 1  4]\n",
            " [-1  1]]\n"
          ],
          "name": "stdout"
        }
      ]
    },
    {
      "cell_type": "code",
      "metadata": {
        "colab": {
          "base_uri": "https://localhost:8080/"
        },
        "id": "-odn-WWzZ7X6",
        "outputId": "0d224d64-a85d-4f76-8e25-bb9102b48ece"
      },
      "source": [
        "matrix_d = matrix_d.T\r\n",
        "print(matrix_d)"
      ],
      "execution_count": 10,
      "outputs": [
        {
          "output_type": "stream",
          "text": [
            "[[ 2  1 -1]\n",
            " [ 3  4  1]]\n"
          ],
          "name": "stdout"
        }
      ]
    },
    {
      "cell_type": "code",
      "metadata": {
        "colab": {
          "base_uri": "https://localhost:8080/",
          "height": 282
        },
        "id": "pCO9gRslabrY",
        "outputId": "e38585ee-c10b-446e-ce5b-0c53f1eebf33"
      },
      "source": [
        "plt.plot(matrix_d[0,:], matrix_d[1,:], 'or')  #plot(ค่าx , ค่าy, หน้าตาของจุด)# plotจุดลงในspace\r\n",
        "plt.plot(0, 0, '.b')  #plot(ค่าx , ค่าy, หน้าตาของจุด)\r\n",
        "plt.plot([0,0], [-1,5], '^--k')\r\n",
        "plt.plot([-1.5,2.5], [0,0], '>--k')"
      ],
      "execution_count": 11,
      "outputs": [
        {
          "output_type": "execute_result",
          "data": {
            "text/plain": [
              "[<matplotlib.lines.Line2D at 0x7f3c14256f60>]"
            ]
          },
          "metadata": {
            "tags": []
          },
          "execution_count": 11
        },
        {
          "output_type": "display_data",
          "data": {
            "image/png": "[encoded data removed]",
            "text/plain": [
              "<Figure size 432x288 with 1 Axes>"
            ]
          },
          "metadata": {
            "tags": [],
            "needs_background": "light"
          }
        }
      ]
    },
    {
      "cell_type": "markdown",
      "metadata": {
        "id": "hE4DW--CdfGI"
      },
      "source": [
        "web plt plot\r\n",
        "https://matplotlib.org/3.3.3/api/_as_gen/matplotlib.pyplot.plot.html"
      ]
    },
    {
      "cell_type": "code",
      "metadata": {
        "id": "PK6AERLWbGtn"
      },
      "source": [
        ""
      ],
      "execution_count": 11,
      "outputs": []
    },
    {
      "cell_type": "markdown",
      "metadata": {
        "id": "a3YD3uBFsY7u"
      },
      "source": [
        "# Determinant\r\n",
        "\r\n",
        "Det(B)\r\n"
      ]
    },
    {
      "cell_type": "code",
      "metadata": {
        "colab": {
          "base_uri": "https://localhost:8080/",
          "height": 164
        },
        "id": "n5khw8grsbuH",
        "outputId": "c331a607-a8ba-4b9f-d47d-a1f31267684c"
      },
      "source": [
        " np.linalg.det(B)"
      ],
      "execution_count": 12,
      "outputs": [
        {
          "output_type": "error",
          "ename": "NameError",
          "evalue": "ignored",
          "traceback": [
            "\u001b[0;31m---------------------------------------------------------------------------\u001b[0m",
            "\u001b[0;31mNameError\u001b[0m                                 Traceback (most recent call last)",
            "\u001b[0;32m<ipython-input-12-d42e99f36fb6>\u001b[0m in \u001b[0;36m<module>\u001b[0;34m()\u001b[0m\n\u001b[0;32m----> 1\u001b[0;31m \u001b[0mnp\u001b[0m\u001b[0;34m.\u001b[0m\u001b[0mlinalg\u001b[0m\u001b[0;34m.\u001b[0m\u001b[0mdet\u001b[0m\u001b[0;34m(\u001b[0m\u001b[0mB\u001b[0m\u001b[0;34m)\u001b[0m\u001b[0;34m\u001b[0m\u001b[0;34m\u001b[0m\u001b[0m\n\u001b[0m",
            "\u001b[0;31mNameError\u001b[0m: name 'B' is not defined"
          ]
        }
      ]
    },
    {
      "cell_type": "markdown",
      "metadata": {
        "id": "Aviy3Y4Csw2c"
      },
      "source": [
        "linalg = linear algebra\r\n"
      ]
    },
    {
      "cell_type": "markdown",
      "metadata": {
        "id": "ZDqZLL50tVp0"
      },
      "source": [
        "matrix algebra เพิ่มเติม"
      ]
    },
    {
      "cell_type": "code",
      "metadata": {
        "id": "QAbTfXOPstcH"
      },
      "source": [
        "plt.plot([0,2**0.5],[0,2**0.5], '-r')    ## plot(ค่าx, ค่าy, หน้าตาของจุด)\r\n",
        "plt.plot(0,0, '.b')\r\n",
        "plt.plot([0,0], [-1,5], '^:k')\r\n",
        "plt.plot([-1.5,2.5], [0,0], '>:k')"
      ],
      "execution_count": null,
      "outputs": []
    },
    {
      "cell_type": "code",
      "metadata": {
        "id": "YMByjZNOu2OJ"
      },
      "source": [
        "B = np.array([[1,2],[3,4]])\r\n",
        "B"
      ],
      "execution_count": null,
      "outputs": []
    },
    {
      "cell_type": "markdown",
      "metadata": {
        "id": "G-8od1SLvix2"
      },
      "source": [
        "การคูณ  Matrix ( $B.v$ ) คือ  linear tranformation"
      ]
    },
    {
      "cell_type": "code",
      "metadata": {
        "id": "nUN8mWm0vA3s"
      },
      "source": [
        "Bv  = np.dot(B, np.array([[1],[1]]))\r\n",
        "Bv"
      ],
      "execution_count": null,
      "outputs": []
    },
    {
      "cell_type": "code",
      "metadata": {
        "id": "GKWI9pYrvY0y"
      },
      "source": [
        "plt.plot([0,Bv[0,0]], [0,Bv[1,0]], '-g')     ## vector Bv\r\n",
        "plt.plot([0,1],[1,0], '-r')    ## vector  v    ([1,1])\r\n",
        "plt.plot(0,0, '.b')\r\n",
        "plt.plot([0,0],[-1,5], '^:k')\r\n",
        "plt.plot([-1.5,2.5],[0,0], '>:k')"
      ],
      "execution_count": null,
      "outputs": []
    },
    {
      "cell_type": "markdown",
      "metadata": {
        "id": "DVXcFfbPv7x0"
      },
      "source": [
        "Determinant ของ Matrix ก็คือ ( $B.v$)  คือ พื้นที่ของ   unit vector  ที่ถูกเปลี่ยนไป โดย Matrix นั้นๆ"
      ]
    },
    {
      "cell_type": "code",
      "metadata": {
        "id": "BrzjwDZgwixU"
      },
      "source": [
        "plt.plot([0,Bv[0,0]], [0,Bv[1,0]], '-g')     ## vector Bv\r\n",
        "plt.plot([1,1],[1,0], ':r')   ## วาดจุดไข่ปลา  พื้นที่ของ Bv\r\n",
        "plt.plot([1,0],[1,1], ':r')   ## วาดจุดไข่ปลา   พื้นที่ของ Bv\r\n",
        "plt.plot([0,1],[1,0], '-r')    ## vector  v    ([1,1])\r\n",
        "plt.plot(0,0, '.b')\r\n",
        "plt.plot([0,0],[-1,5], '^:k')\r\n",
        "plt.plot([-1.5,2.5],[0,0], '>:k')"
      ],
      "execution_count": null,
      "outputs": []
    },
    {
      "cell_type": "code",
      "metadata": {
        "id": "u6pyoYAXy_B2"
      },
      "source": [
        "plt.plot([0,Bv[0,0]], [0,Bv[1,0]], '-g')     ## vector Bv\r\n",
        "plt.plot([3,3],[7,0], ':g')   ## วาดจุดไข่ปลา  พื้นที่ของ Bv\r\n",
        "plt.plot([3,0],[7,7], ':g')   ## วาดจุดไข่ปลา   พื้นที่ของ Bv\r\n",
        "plt.plot([0,1],[1,0], '-r')    ## vector  v    ([1,1])\r\n",
        "plt.plot([1,1],[1,0], ':r')   ## วาดจุดไข่ปลา  พื้นที่ของ v\r\n",
        "plt.plot([1,0],[1,1], ':r')   ## วาดจุดไข่ปลา   พื้นที่ของ v\r\n",
        "plt.plot(0,0, '.b')\r\n",
        "plt.plot([0,0],[-1,8], '^:k')\r\n",
        "plt.plot([-1.5,3.5],[0,0], '>:k')"
      ],
      "execution_count": null,
      "outputs": []
    },
    {
      "cell_type": "markdown",
      "metadata": {
        "id": "u74U2MxO03Pr"
      },
      "source": [
        "# Identity  Matrix    ($I$)\r\n",
        "\r\n",
        "$BI   =    A     =   IB$"
      ]
    },
    {
      "cell_type": "code",
      "metadata": {
        "id": "zvAhJQHc0Ynp"
      },
      "source": [
        "iden2  =  np.identity(2)"
      ],
      "execution_count": 13,
      "outputs": []
    },
    {
      "cell_type": "code",
      "metadata": {
        "colab": {
          "base_uri": "https://localhost:8080/",
          "height": 164
        },
        "id": "duQoEwvS2OZ_",
        "outputId": "b93a76af-9d22-4566-bfaa-cd104c870818"
      },
      "source": [
        "B"
      ],
      "execution_count": 15,
      "outputs": [
        {
          "output_type": "error",
          "ename": "NameError",
          "evalue": "ignored",
          "traceback": [
            "\u001b[0;31m---------------------------------------------------------------------------\u001b[0m",
            "\u001b[0;31mNameError\u001b[0m                                 Traceback (most recent call last)",
            "\u001b[0;32m<ipython-input-15-31836aeaab22>\u001b[0m in \u001b[0;36m<module>\u001b[0;34m()\u001b[0m\n\u001b[0;32m----> 1\u001b[0;31m \u001b[0mB\u001b[0m\u001b[0;34m\u001b[0m\u001b[0;34m\u001b[0m\u001b[0m\n\u001b[0m",
            "\u001b[0;31mNameError\u001b[0m: name 'B' is not defined"
          ]
        }
      ]
    },
    {
      "cell_type": "code",
      "metadata": {
        "colab": {
          "base_uri": "https://localhost:8080/",
          "height": 164
        },
        "id": "l2F_E04r2D5e",
        "outputId": "142a96b2-1505-4737-aded-46446c8c5f51"
      },
      "source": [
        "np.dot(B, iden2)"
      ],
      "execution_count": 16,
      "outputs": [
        {
          "output_type": "error",
          "ename": "NameError",
          "evalue": "ignored",
          "traceback": [
            "\u001b[0;31m---------------------------------------------------------------------------\u001b[0m",
            "\u001b[0;31mNameError\u001b[0m                                 Traceback (most recent call last)",
            "\u001b[0;32m<ipython-input-16-0cbd67066f95>\u001b[0m in \u001b[0;36m<module>\u001b[0;34m()\u001b[0m\n\u001b[0;32m----> 1\u001b[0;31m \u001b[0mnp\u001b[0m\u001b[0;34m.\u001b[0m\u001b[0mdot\u001b[0m\u001b[0;34m(\u001b[0m\u001b[0mB\u001b[0m\u001b[0;34m,\u001b[0m \u001b[0miden2\u001b[0m\u001b[0;34m)\u001b[0m\u001b[0;34m\u001b[0m\u001b[0;34m\u001b[0m\u001b[0m\n\u001b[0m",
            "\u001b[0;31mNameError\u001b[0m: name 'B' is not defined"
          ]
        }
      ]
    },
    {
      "cell_type": "code",
      "metadata": {
        "colab": {
          "base_uri": "https://localhost:8080/",
          "height": 164
        },
        "id": "pFGkZS2u2SzN",
        "outputId": "e259665b-578b-4e78-9f7d-709079031119"
      },
      "source": [
        "np.dot(iden2, B)"
      ],
      "execution_count": 17,
      "outputs": [
        {
          "output_type": "error",
          "ename": "NameError",
          "evalue": "ignored",
          "traceback": [
            "\u001b[0;31m---------------------------------------------------------------------------\u001b[0m",
            "\u001b[0;31mNameError\u001b[0m                                 Traceback (most recent call last)",
            "\u001b[0;32m<ipython-input-17-c8c25098bf11>\u001b[0m in \u001b[0;36m<module>\u001b[0;34m()\u001b[0m\n\u001b[0;32m----> 1\u001b[0;31m \u001b[0mnp\u001b[0m\u001b[0;34m.\u001b[0m\u001b[0mdot\u001b[0m\u001b[0;34m(\u001b[0m\u001b[0miden2\u001b[0m\u001b[0;34m,\u001b[0m \u001b[0mB\u001b[0m\u001b[0;34m)\u001b[0m\u001b[0;34m\u001b[0m\u001b[0;34m\u001b[0m\u001b[0m\n\u001b[0m",
            "\u001b[0;31mNameError\u001b[0m: name 'B' is not defined"
          ]
        }
      ]
    },
    {
      "cell_type": "code",
      "metadata": {
        "id": "jkXAU2ru2d89"
      },
      "source": [
        "C = np.array([[-1,2],[2,4]])\r\n",
        "C"
      ],
      "execution_count": null,
      "outputs": []
    },
    {
      "cell_type": "code",
      "metadata": {
        "id": "8ZNxDihk2pqU"
      },
      "source": [
        "np.dot(B,C)"
      ],
      "execution_count": null,
      "outputs": []
    },
    {
      "cell_type": "code",
      "metadata": {
        "id": "hDHwyX_n2vVa"
      },
      "source": [
        "np.dot(C,B)"
      ],
      "execution_count": null,
      "outputs": []
    },
    {
      "cell_type": "markdown",
      "metadata": {
        "id": "ExcOiKm64SxF"
      },
      "source": [
        "การบ้านในห้อง   ( Quiz 1  -commit:  quiz 1feb21 )"
      ]
    },
    {
      "cell_type": "code",
      "metadata": {
        "colab": {
          "base_uri": "https://localhost:8080/"
        },
        "id": "DbxtNu-92zPg",
        "outputId": "4cd9190a-dc85-4aa3-c2e9-43c81140ccb7"
      },
      "source": [
        "Ex  =  np.array([[3,1,6],[7,4,5],[2,-7,1]])\r\n",
        "Ex"
      ],
      "execution_count": 18,
      "outputs": [
        {
          "output_type": "execute_result",
          "data": {
            "text/plain": [
              "array([[ 3,  1,  6],\n",
              "       [ 7,  4,  5],\n",
              "       [ 2, -7,  1]])"
            ]
          },
          "metadata": {
            "tags": []
          },
          "execution_count": 18
        }
      ]
    },
    {
      "cell_type": "code",
      "metadata": {
        "colab": {
          "base_uri": "https://localhost:8080/"
        },
        "id": "NKOWeatS4NfB",
        "outputId": "281a2602-2d7e-435e-9d72-bc7be4400d17"
      },
      "source": [
        "np.linalg.det(Ex)"
      ],
      "execution_count": 19,
      "outputs": [
        {
          "output_type": "execute_result",
          "data": {
            "text/plain": [
              "-221.99999999999997"
            ]
          },
          "metadata": {
            "tags": []
          },
          "execution_count": 19
        }
      ]
    },
    {
      "cell_type": "markdown",
      "metadata": {
        "id": "RUIN4AaO6xWD"
      },
      "source": [
        "Eigen  value  กับ  Eigen vector\r\n",
        "\r\n",
        "Eigen value ($\\lambda$) -> $|A-\\lambda I| = 0$\r\n",
        "\r\n",
        "Eigen vector ($x$) -> $Ax = \\lambda x$"
      ]
    },
    {
      "cell_type": "markdown",
      "metadata": {
        "id": "hne6JJjw9pL6"
      },
      "source": [
        "HW   5   หา  Eigen  value  กับ  Eigen  vector  "
      ]
    },
    {
      "cell_type": "markdown",
      "metadata": {
        "id": "WX-HHb3rLxiD"
      },
      "source": [
        "![Unknown.png](data:image/png;base64,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)"
      ]
    },
    {
      "cell_type": "code",
      "metadata": {
        "id": "l_umOTKJL0gd",
        "outputId": "9b48f0c0-7993-4a27-dda7-e3c6d99400e5",
        "colab": {
          "base_uri": "https://localhost:8080/"
        }
      },
      "source": [
        "B = np.array([[1,0],[1,3]])\r\n",
        "B"
      ],
      "execution_count": 20,
      "outputs": [
        {
          "output_type": "execute_result",
          "data": {
            "text/plain": [
              "array([[1, 0],\n",
              "       [1, 3]])"
            ]
          },
          "metadata": {
            "tags": []
          },
          "execution_count": 20
        }
      ]
    },
    {
      "cell_type": "code",
      "metadata": {
        "id": "R_cPnFMw-LzM",
        "outputId": "9d776849-79ff-4245-c8ec-64f10a9b3289",
        "colab": {
          "base_uri": "https://localhost:8080/"
        }
      },
      "source": [
        "B = np.array([[1,0],[1,3]]) #Eigen vector\r\n",
        "w,v = np.linalg.eig(B)\r\n",
        "w;v"
      ],
      "execution_count": 21,
      "outputs": [
        {
          "output_type": "execute_result",
          "data": {
            "text/plain": [
              "array([[ 0.        ,  0.89442719],\n",
              "       [ 1.        , -0.4472136 ]])"
            ]
          },
          "metadata": {
            "tags": []
          },
          "execution_count": 21
        }
      ]
    },
    {
      "cell_type": "code",
      "metadata": {
        "id": "FSrHnphML6dH",
        "outputId": "a4dad898-ebfb-497f-c958-c11cdc3bf349",
        "colab": {
          "base_uri": "https://localhost:8080/"
        }
      },
      "source": [
        "B = np.array([[1,0],[1,3]]) #Eigen value\r\n",
        "np.linalg.eigvals(B)"
      ],
      "execution_count": 22,
      "outputs": [
        {
          "output_type": "execute_result",
          "data": {
            "text/plain": [
              "array([3., 1.])"
            ]
          },
          "metadata": {
            "tags": []
          },
          "execution_count": 22
        }
      ]
    },
    {
      "cell_type": "code",
      "metadata": {
        "id": "Vz74_tY0L9Qd"
      },
      "source": [
        ""
      ],
      "execution_count": null,
      "outputs": []
    }
  ]
}