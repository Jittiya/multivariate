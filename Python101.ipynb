{
  "nbformat": 4,
  "nbformat_minor": 0,
  "metadata": {
    "colab": {
      "name": "Python101.ipynb",
      "provenance": [],
      "collapsed_sections": [],
      "authorship_tag": "ABX9TyPhtcBaRu0OMJToOp05Zqoi",
      "include_colab_link": true
    },
    "kernelspec": {
      "name": "python3",
      "display_name": "Python 3"
    }
  },
  "cells": [
    {
      "cell_type": "markdown",
      "metadata": {
        "id": "view-in-github",
        "colab_type": "text"
      },
      "source": [
        "<a href=\"https://colab.research.google.com/github/Jittiya/multivariate/blob/main/Python101.ipynb\" target=\"_parent\"><img src=\"https://colab.research.google.com/assets/colab-badge.svg\" alt=\"Open In Colab\"/></a>"
      ]
    },
    {
      "cell_type": "markdown",
      "metadata": {
        "id": "-H7u-jR0EXku"
      },
      "source": [
        "ตัวแปร variable"
      ]
    },
    {
      "cell_type": "markdown",
      "metadata": {
        "id": "BmlCHsENEdYe"
      },
      "source": [
        "หลักการตั้งชื่อตัวแปร\r\n",
        "\r\n",
        "1. ตั้งให้สื่อ\r\n",
        "2. ภาษาอังกฤษ\r\n",
        "3. ใช้ตัวเลขได้แต่ห้ามขึ้นต้นด้วยตัวเลข\r\n",
        "4. ห้ามเว้นวรรค\r\n",
        "5. ตัวเล็กกับตัวใหญ่ไม่เหมือนกัน"
      ]
    },
    {
      "cell_type": "markdown",
      "metadata": {
        "id": "1kxy06KKE-K0"
      },
      "source": [
        "มี output 2 mode : ออกหน้าจอ กับเข้าไปเก็บในตัวแปร"
      ]
    },
    {
      "cell_type": "code",
      "metadata": {
        "colab": {
          "base_uri": "https://localhost:8080/"
        },
        "id": "rK1XR8I8EWWO",
        "outputId": "06990444-4576-4ca5-97d7-c921a1e085f6"
      },
      "source": [
        "3.14159        # hashtag หรือ sharp # คือ comment   >>>  อันนี้คือ  output ที่ออกหน้าจอ"
      ],
      "execution_count": null,
      "outputs": [
        {
          "output_type": "execute_result",
          "data": {
            "text/plain": [
              "3.14159"
            ]
          },
          "metadata": {
            "tags": []
          },
          "execution_count": 13
        }
      ]
    },
    {
      "cell_type": "code",
      "metadata": {
        "id": "9osttx28Exv-"
      },
      "source": [
        "Pi = 3.14159         # อันนี้คือ output   ที่เข้าไปอยู่ในตัวแปร"
      ],
      "execution_count": null,
      "outputs": []
    },
    {
      "cell_type": "code",
      "metadata": {
        "colab": {
          "base_uri": "https://localhost:8080/"
        },
        "id": "eYenvpjRE6d3",
        "outputId": "ca7b8012-48a9-49a2-b5f0-04e66dba36f3"
      },
      "source": [
        "Pi"
      ],
      "execution_count": null,
      "outputs": [
        {
          "output_type": "execute_result",
          "data": {
            "text/plain": [
              "3.14159"
            ]
          },
          "metadata": {
            "tags": []
          },
          "execution_count": 15
        }
      ]
    },
    {
      "cell_type": "code",
      "metadata": {
        "colab": {
          "base_uri": "https://localhost:8080/"
        },
        "id": "fDnzQBc9FJAD",
        "outputId": "8a4c65ac-63b0-43f7-b12a-902354200217"
      },
      "source": [
        "a = 1234567\r\n",
        "print(a)"
      ],
      "execution_count": null,
      "outputs": [
        {
          "output_type": "stream",
          "text": [
            "1234567\n"
          ],
          "name": "stdout"
        }
      ]
    },
    {
      "cell_type": "markdown",
      "metadata": {
        "id": "pjhAK-iqFxJB"
      },
      "source": [
        "# ชนิดของตัวแปร 3ชนิด"
      ]
    },
    {
      "cell_type": "markdown",
      "metadata": {
        "id": "7ANJBuUeGvmC"
      },
      "source": [
        "# จำนวนเต็ม (integer, int)"
      ]
    },
    {
      "cell_type": "code",
      "metadata": {
        "colab": {
          "base_uri": "https://localhost:8080/"
        },
        "id": "IfLVldYtFWsR",
        "outputId": "5a563c23-2fcc-4bc3-cb88-0db52899eefe"
      },
      "source": [
        "aaa = 1092\r\n",
        "print(aaa)"
      ],
      "execution_count": null,
      "outputs": [
        {
          "output_type": "stream",
          "text": [
            "1092\n"
          ],
          "name": "stdout"
        }
      ]
    },
    {
      "cell_type": "markdown",
      "metadata": {
        "id": "lm0u6B4aG8ld"
      },
      "source": [
        "### จำวนจริง (float)"
      ]
    },
    {
      "cell_type": "code",
      "metadata": {
        "colab": {
          "base_uri": "https://localhost:8080/"
        },
        "id": "JqaeB5JpG63W",
        "outputId": "b9b0e9ab-d8ac-4701-c4db-918e9eb06a37"
      },
      "source": [
        "bbb = 11\r\n",
        "print (bbb)"
      ],
      "execution_count": null,
      "outputs": [
        {
          "output_type": "stream",
          "text": [
            "11\n"
          ],
          "name": "stdout"
        }
      ]
    },
    {
      "cell_type": "markdown",
      "metadata": {
        "id": "84ddmv2EHSHN"
      },
      "source": [
        "### ตัวอักษร-ข้อความ (charater และ text, string)"
      ]
    },
    {
      "cell_type": "code",
      "metadata": {
        "colab": {
          "base_uri": "https://localhost:8080/"
        },
        "id": "pvv4GYjaHQ52",
        "outputId": "ac7af6bf-e7cc-4bb0-ca4d-17cbd8b6ad76"
      },
      "source": [
        "ccc = '123456'  # เราใช้ single quote หรือ double quote ล้อมรอบตัวหนังสือเพื่อระบุว่าเป็น charater-string \r\n",
        "print (ccc)"
      ],
      "execution_count": null,
      "outputs": [
        {
          "output_type": "stream",
          "text": [
            "123456\n"
          ],
          "name": "stdout"
        }
      ]
    },
    {
      "cell_type": "code",
      "metadata": {
        "colab": {
          "base_uri": "https://localhost:8080/"
        },
        "id": "hcaKo53NIKLX",
        "outputId": "fb7114c7-63d2-4781-cd32-3d8c664dd9ae"
      },
      "source": [
        "aaa + bbb    # float + int = float"
      ],
      "execution_count": null,
      "outputs": [
        {
          "output_type": "execute_result",
          "data": {
            "text/plain": [
              "1103"
            ]
          },
          "metadata": {
            "tags": []
          },
          "execution_count": 19
        }
      ]
    },
    {
      "cell_type": "code",
      "metadata": {
        "colab": {
          "base_uri": "https://localhost:8080/"
        },
        "id": "Ew9JSQpCIXOy",
        "outputId": "67aeb130-7c78-472a-8f23-41c4fdd8ae67"
      },
      "source": [
        "ddd = 'จิตติยา'\r\n",
        "print(ddd)"
      ],
      "execution_count": null,
      "outputs": [
        {
          "output_type": "stream",
          "text": [
            "จิตติยา\n"
          ],
          "name": "stdout"
        }
      ]
    },
    {
      "cell_type": "markdown",
      "metadata": {
        "id": "nGnszIEEJC2T"
      },
      "source": [
        "### การเปลี่ยนชนิดของตัวแปร variable casting"
      ]
    },
    {
      "cell_type": "code",
      "metadata": {
        "colab": {
          "base_uri": "https://localhost:8080/"
        },
        "id": "qzztQpmlJh0x",
        "outputId": "0d27750e-7634-427a-826a-09e6c44cb16e"
      },
      "source": [
        "bbb + int (ccc) "
      ],
      "execution_count": null,
      "outputs": [
        {
          "output_type": "execute_result",
          "data": {
            "text/plain": [
              "123467"
            ]
          },
          "metadata": {
            "tags": []
          },
          "execution_count": 20
        }
      ]
    },
    {
      "cell_type": "code",
      "metadata": {
        "colab": {
          "base_uri": "https://localhost:8080/"
        },
        "id": "WpZZntPpJwTD",
        "outputId": "06d45019-8bd9-432f-d1f3-f9792c644a0c"
      },
      "source": [
        "aaa + float (ccc)"
      ],
      "execution_count": null,
      "outputs": [
        {
          "output_type": "execute_result",
          "data": {
            "text/plain": [
              "124548.0"
            ]
          },
          "metadata": {
            "tags": []
          },
          "execution_count": 21
        }
      ]
    },
    {
      "cell_type": "code",
      "metadata": {
        "colab": {
          "base_uri": "https://localhost:8080/",
          "height": 34
        },
        "id": "hHeAWebXJ3Wa",
        "outputId": "33b4f337-365a-4847-c740-6c23e88a79ff"
      },
      "source": [
        "str(aaa)"
      ],
      "execution_count": null,
      "outputs": [
        {
          "output_type": "execute_result",
          "data": {
            "application/vnd.google.colaboratory.intrinsic+json": {
              "type": "string"
            },
            "text/plain": [
              "'1092'"
            ]
          },
          "metadata": {
            "tags": []
          },
          "execution_count": 22
        }
      ]
    },
    {
      "cell_type": "markdown",
      "metadata": {
        "id": "HR7SUk_5KWOF"
      },
      "source": [
        "# การดำเนินการ Operation (Operatord +,-,*,/,%)"
      ]
    },
    {
      "cell_type": "code",
      "metadata": {
        "colab": {
          "base_uri": "https://localhost:8080/",
          "height": 164
        },
        "id": "l9pibdL-J7lP",
        "outputId": "1e184ba9-270d-4c04-f33d-8ff72f0fddb0"
      },
      "source": [
        "a + b"
      ],
      "execution_count": null,
      "outputs": [
        {
          "output_type": "error",
          "ename": "NameError",
          "evalue": "ignored",
          "traceback": [
            "\u001b[0;31m---------------------------------------------------------------------------\u001b[0m",
            "\u001b[0;31mNameError\u001b[0m                                 Traceback (most recent call last)",
            "\u001b[0;32m<ipython-input-23-bd58363a63fc>\u001b[0m in \u001b[0;36m<module>\u001b[0;34m()\u001b[0m\n\u001b[0;32m----> 1\u001b[0;31m \u001b[0ma\u001b[0m \u001b[0;34m+\u001b[0m \u001b[0mb\u001b[0m\u001b[0;34m\u001b[0m\u001b[0;34m\u001b[0m\u001b[0m\n\u001b[0m",
            "\u001b[0;31mNameError\u001b[0m: name 'b' is not defined"
          ]
        }
      ]
    },
    {
      "cell_type": "code",
      "metadata": {
        "colab": {
          "base_uri": "https://localhost:8080/"
        },
        "id": "bFVGXkcBK5pi",
        "outputId": "759a5e23-cafe-42da-bd67-316fd3510018"
      },
      "source": [
        "aaa + bbb"
      ],
      "execution_count": null,
      "outputs": [
        {
          "output_type": "execute_result",
          "data": {
            "text/plain": [
              "1103"
            ]
          },
          "metadata": {
            "tags": []
          },
          "execution_count": 24
        }
      ]
    },
    {
      "cell_type": "code",
      "metadata": {
        "colab": {
          "base_uri": "https://localhost:8080/"
        },
        "id": "P4D6hDPRK90Q",
        "outputId": "5782cf6b-bdee-4b36-cb0c-fed24c62d168"
      },
      "source": [
        "aaa - bbb"
      ],
      "execution_count": null,
      "outputs": [
        {
          "output_type": "execute_result",
          "data": {
            "text/plain": [
              "1081"
            ]
          },
          "metadata": {
            "tags": []
          },
          "execution_count": 25
        }
      ]
    },
    {
      "cell_type": "code",
      "metadata": {
        "colab": {
          "base_uri": "https://localhost:8080/"
        },
        "id": "EJnGk2SSK7kY",
        "outputId": "e2923e54-c3cf-463b-f2a2-0da24a454e2c"
      },
      "source": [
        "ab = aaa*bbb\r\n",
        "print(ab)"
      ],
      "execution_count": null,
      "outputs": [
        {
          "output_type": "stream",
          "text": [
            "12012\n"
          ],
          "name": "stdout"
        }
      ]
    },
    {
      "cell_type": "code",
      "metadata": {
        "colab": {
          "base_uri": "https://localhost:8080/"
        },
        "id": "8FbSKS0xLGTI",
        "outputId": "28beded3-f98c-4591-aa3a-36ce8a02e849"
      },
      "source": [
        "ab + int (ccc)"
      ],
      "execution_count": null,
      "outputs": [
        {
          "output_type": "execute_result",
          "data": {
            "text/plain": [
              "135468"
            ]
          },
          "metadata": {
            "tags": []
          },
          "execution_count": 27
        }
      ]
    },
    {
      "cell_type": "markdown",
      "metadata": {
        "id": "gaSPnRo_LMRv"
      },
      "source": [
        "# % เครื่องหมาย modulo"
      ]
    },
    {
      "cell_type": "markdown",
      "metadata": {
        "id": "05fTSaFULwtQ"
      },
      "source": [
        "คือการหารเอาเศษ"
      ]
    },
    {
      "cell_type": "code",
      "metadata": {
        "colab": {
          "base_uri": "https://localhost:8080/"
        },
        "id": "PVewZJ_HLKRj",
        "outputId": "fcce4cb7-31af-449b-d7b7-49e4e72a352b"
      },
      "source": [
        "5%3"
      ],
      "execution_count": null,
      "outputs": [
        {
          "output_type": "execute_result",
          "data": {
            "text/plain": [
              "2"
            ]
          },
          "metadata": {
            "tags": []
          },
          "execution_count": 28
        }
      ]
    },
    {
      "cell_type": "code",
      "metadata": {
        "colab": {
          "base_uri": "https://localhost:8080/"
        },
        "id": "eDOe7hxhL2NS",
        "outputId": "c4191c0e-3b20-43f8-9bf7-97b5c010352d"
      },
      "source": [
        "7%3"
      ],
      "execution_count": null,
      "outputs": [
        {
          "output_type": "execute_result",
          "data": {
            "text/plain": [
              "1"
            ]
          },
          "metadata": {
            "tags": []
          },
          "execution_count": 29
        }
      ]
    },
    {
      "cell_type": "markdown",
      "metadata": {
        "id": "0TRViclKL4-H"
      },
      "source": [
        "# คำสัง print แบบพิเศษ (การ format string)"
      ]
    },
    {
      "cell_type": "code",
      "metadata": {
        "colab": {
          "base_uri": "https://localhost:8080/"
        },
        "id": "BpJzsH3LL3uI",
        "outputId": "e189152e-81d8-467f-9aad-0d5c596bd895"
      },
      "source": [
        "print('ตัวแปร') #สิ่งที่อยู่ในวงเล็บคือ ตัวแปร และ string"
      ],
      "execution_count": null,
      "outputs": [
        {
          "output_type": "stream",
          "text": [
            "ตัวแปร\n"
          ],
          "name": "stdout"
        }
      ]
    },
    {
      "cell_type": "code",
      "metadata": {
        "colab": {
          "base_uri": "https://localhost:8080/"
        },
        "id": "MP660RFgMc1J",
        "outputId": "c7e355bb-3bda-414e-c0b6-4b49b8923d6d"
      },
      "source": [
        "print(f'% คือการหารเอาเศษ เช่น 7%3 = {7%3}')  # เพิ่ม f หน้า 'string'  และใช้ {} ใส่code"
      ],
      "execution_count": null,
      "outputs": [
        {
          "output_type": "stream",
          "text": [
            "% คือการหารเอาเศษ เช่น 7%3 = 1\n"
          ],
          "name": "stdout"
        }
      ]
    },
    {
      "cell_type": "code",
      "metadata": {
        "id": "soWB5GLjM4W_",
        "colab": {
          "base_uri": "https://localhost:8080/"
        },
        "outputId": "d2371a7c-94eb-4f2f-c89f-6524af23d211"
      },
      "source": [
        "print(f' % คือการหารเอาเศษ เช่น 7%3 = {7%3} \\\r\n",
        "        แต่ \\n / คือการหารปกติ เช่น 7/3 = {7/3} \\\r\n",
        "        และ \\n // คือการหารเอาส่วน เช่น  7//3 = {7//3} \\\r\n",
        "        หรือ \\n ใช้ int() เพื่อหารเอาส่วน เช่น int(7/3) = {int(7/3)}') # \\n คือการขึ้นบรรทัดใหม่  \\ ใช้ในการตัด code แต่ com จะไม่เห็น"
      ],
      "execution_count": null,
      "outputs": [
        {
          "output_type": "stream",
          "text": [
            " % คือการหารเอาเศษ เช่น 7%3 = 1         แต่ \n",
            " / คือการหารปกติ เช่น 7/3 = 2.3333333333333335         และ \n",
            " // คือการหารเอาส่วน เช่น  7//3 = 2         หรือ \n",
            " ใช้ int() เพื่อหารเอาส่วน เช่น int(7/3) = 2\n"
          ],
          "name": "stdout"
        }
      ]
    },
    {
      "cell_type": "code",
      "metadata": {
        "id": "-mXQxT2Qw5M_"
      },
      "source": [
        ""
      ],
      "execution_count": null,
      "outputs": []
    },
    {
      "cell_type": "markdown",
      "metadata": {
        "id": "BzgwL90qxmHR"
      },
      "source": [
        "## DATA STRUCTURE (โครงสร้างข้อมูล)"
      ]
    },
    {
      "cell_type": "code",
      "metadata": {
        "colab": {
          "base_uri": "https://localhost:8080/"
        },
        "id": "zvpFHmNox6kY",
        "outputId": "b80ae0bc-575e-4bf9-e3ef-fae3a614688b"
      },
      "source": [
        "[111, ' c ', ' งง ',aaa ]"
      ],
      "execution_count": null,
      "outputs": [
        {
          "output_type": "execute_result",
          "data": {
            "text/plain": [
              "[111, ' c ', ' งง ', 1092]"
            ]
          },
          "metadata": {
            "tags": []
          },
          "execution_count": 19
        }
      ]
    },
    {
      "cell_type": "code",
      "metadata": {
        "id": "x2RTHVdTy5Ew"
      },
      "source": [
        ""
      ],
      "execution_count": null,
      "outputs": []
    },
    {
      "cell_type": "markdown",
      "metadata": {
        "id": "5mjEujjJy673"
      },
      "source": [
        "# List คือ การเอาข้อมูลหลายๆตัวมาเรียงกัน"
      ]
    },
    {
      "cell_type": "markdown",
      "metadata": {
        "id": "x-j4YCz3zKZ6"
      },
      "source": [
        "# list สามารถสร้างได้ 2 แบบดังนี้"
      ]
    },
    {
      "cell_type": "markdown",
      "metadata": {
        "id": "D-RFl8NQzSt8"
      },
      "source": [
        "# แบบที่ 1> square brackets"
      ]
    },
    {
      "cell_type": "code",
      "metadata": {
        "colab": {
          "base_uri": "https://localhost:8080/"
        },
        "id": "uAEhygfqzFD0",
        "outputId": "77664145-6647-4bdf-cc6f-766154a0855b"
      },
      "source": [
        "list_a = []\r\n",
        "print(list_a)"
      ],
      "execution_count": null,
      "outputs": [
        {
          "output_type": "stream",
          "text": [
            "[]\n"
          ],
          "name": "stdout"
        }
      ]
    },
    {
      "cell_type": "code",
      "metadata": {
        "colab": {
          "base_uri": "https://localhost:8080/"
        },
        "id": "5j9GxcwlzlKN",
        "outputId": "5718544c-0402-40b4-85ac-c2cc29523884"
      },
      "source": [
        "list_b = [111, 'c', 'งง',aaa]\r\n",
        "print(list_b)"
      ],
      "execution_count": null,
      "outputs": [
        {
          "output_type": "stream",
          "text": [
            "[111, 'c', 'งง', 1092]\n"
          ],
          "name": "stdout"
        }
      ]
    },
    {
      "cell_type": "markdown",
      "metadata": {
        "id": "Qgej-pu91d7E"
      },
      "source": [
        "# ลำดับที่อยู่ใน list มีความสำคัญ (ลำดับใน list เริ่มจาก  0,1,2,...)"
      ]
    },
    {
      "cell_type": "code",
      "metadata": {
        "colab": {
          "base_uri": "https://localhost:8080/",
          "height": 34
        },
        "id": "tmQIyx4A0FtY",
        "outputId": "d3b06ecf-5e33-4aa0-ca24-f88b7fe7702e"
      },
      "source": [
        "list_b[2]"
      ],
      "execution_count": null,
      "outputs": [
        {
          "output_type": "execute_result",
          "data": {
            "application/vnd.google.colaboratory.intrinsic+json": {
              "type": "string"
            },
            "text/plain": [
              "'งง'"
            ]
          },
          "metadata": {
            "tags": []
          },
          "execution_count": 21
        }
      ]
    },
    {
      "cell_type": "markdown",
      "metadata": {
        "id": "-Uy251lT1yTB"
      },
      "source": [
        "แบบที่ 2"
      ]
    },
    {
      "cell_type": "code",
      "metadata": {
        "colab": {
          "base_uri": "https://localhost:8080/"
        },
        "id": "0isMDNfG1wh2",
        "outputId": "ee63f8d8-f6ed-498a-cb33-12f36e0448dd"
      },
      "source": [
        "list_c = list()\r\n",
        "print(list_c)"
      ],
      "execution_count": null,
      "outputs": [
        {
          "output_type": "stream",
          "text": [
            "[]\n"
          ],
          "name": "stdout"
        }
      ]
    },
    {
      "cell_type": "markdown",
      "metadata": {
        "id": "OaBfzITm2BW-"
      },
      "source": [
        "# append() เพิ่มสามชิกใน list"
      ]
    },
    {
      "cell_type": "code",
      "metadata": {
        "colab": {
          "base_uri": "https://localhost:8080/"
        },
        "id": "gmTwnO_j1-dj",
        "outputId": "cb62b178-af46-4fe3-afde-f54d74e90117"
      },
      "source": [
        "list_b.append('u')\r\n",
        "print(list_b)"
      ],
      "execution_count": null,
      "outputs": [
        {
          "output_type": "stream",
          "text": [
            "[111, 'c', 'งง', 1092, 'u']\n"
          ],
          "name": "stdout"
        }
      ]
    },
    {
      "cell_type": "markdown",
      "metadata": {
        "id": "JXsAkNHT2ZqO"
      },
      "source": [
        "ตัวที่อยู่ในวงเล็บหลังจากตัวแปร list เรียกว่า index ใช้สำหรับชี้ข้อมูลใน list\r\n"
      ]
    },
    {
      "cell_type": "markdown",
      "metadata": {
        "id": "ymjrvlbf3BRF"
      },
      "source": [
        "(ชี้จากข้างหน้า, ชี้ขากข้างหลัง)"
      ]
    },
    {
      "cell_type": "markdown",
      "metadata": {
        "id": "34mIAb4b3KFK"
      },
      "source": [
        "0 คือสมาชิกตัวแรก , -1 คือสมาชิกตัวสุดท้าย"
      ]
    },
    {
      "cell_type": "code",
      "metadata": {
        "colab": {
          "base_uri": "https://localhost:8080/",
          "height": 34
        },
        "id": "mbRVwKxY2YPL",
        "outputId": "479e8efb-5d8e-4972-e4cb-5cee3f1c24d2"
      },
      "source": [
        "list_b[-1]"
      ],
      "execution_count": null,
      "outputs": [
        {
          "output_type": "execute_result",
          "data": {
            "application/vnd.google.colaboratory.intrinsic+json": {
              "type": "string"
            },
            "text/plain": [
              "'u'"
            ]
          },
          "metadata": {
            "tags": []
          },
          "execution_count": 24
        }
      ]
    },
    {
      "cell_type": "code",
      "metadata": {
        "id": "NWrllV1C3VBN"
      },
      "source": [
        ""
      ],
      "execution_count": null,
      "outputs": []
    },
    {
      "cell_type": "markdown",
      "metadata": {
        "id": "R1IgbEGJ3W-l"
      },
      "source": [
        "# String > list of characture"
      ]
    },
    {
      "cell_type": "code",
      "metadata": {
        "colab": {
          "base_uri": "https://localhost:8080/"
        },
        "id": "vEacRl283crM",
        "outputId": "0fb11dd5-a63d-45bf-b87a-ac4bbb93c6f7"
      },
      "source": [
        "t = 'python is  difficult'\r\n",
        "print(t)"
      ],
      "execution_count": null,
      "outputs": [
        {
          "output_type": "stream",
          "text": [
            "python is  difficult\n"
          ],
          "name": "stdout"
        }
      ]
    },
    {
      "cell_type": "code",
      "metadata": {
        "colab": {
          "base_uri": "https://localhost:8080/",
          "height": 34
        },
        "id": "pPyN7yiL3soe",
        "outputId": "38053f51-8e2b-48ee-a103-cabf61fc07c5"
      },
      "source": [
        "t[1]"
      ],
      "execution_count": null,
      "outputs": [
        {
          "output_type": "execute_result",
          "data": {
            "application/vnd.google.colaboratory.intrinsic+json": {
              "type": "string"
            },
            "text/plain": [
              "'y'"
            ]
          },
          "metadata": {
            "tags": []
          },
          "execution_count": 26
        }
      ]
    },
    {
      "cell_type": "code",
      "metadata": {
        "colab": {
          "base_uri": "https://localhost:8080/",
          "height": 34
        },
        "id": "oSaQJL7l3uoL",
        "outputId": "626abd85-704a-4f7f-a18a-d1d515197ceb"
      },
      "source": [
        "t[-4]"
      ],
      "execution_count": null,
      "outputs": [
        {
          "output_type": "execute_result",
          "data": {
            "application/vnd.google.colaboratory.intrinsic+json": {
              "type": "string"
            },
            "text/plain": [
              "'c'"
            ]
          },
          "metadata": {
            "tags": []
          },
          "execution_count": 27
        }
      ]
    },
    {
      "cell_type": "code",
      "metadata": {
        "colab": {
          "base_uri": "https://localhost:8080/",
          "height": 34
        },
        "id": "xjczGIRD3ydM",
        "outputId": "b89b293c-2ac4-413b-c671-08701533abc1"
      },
      "source": [
        "t[6]"
      ],
      "execution_count": null,
      "outputs": [
        {
          "output_type": "execute_result",
          "data": {
            "application/vnd.google.colaboratory.intrinsic+json": {
              "type": "string"
            },
            "text/plain": [
              "' '"
            ]
          },
          "metadata": {
            "tags": []
          },
          "execution_count": 28
        }
      ]
    },
    {
      "cell_type": "markdown",
      "metadata": {
        "id": "r_qIxrWOsqF8"
      },
      "source": [
        "# คาบ 3 (11 มกราคม 2564)"
      ]
    },
    {
      "cell_type": "markdown",
      "metadata": {
        "id": "3kufC3QMtOxm"
      },
      "source": [
        "len คือ ตรวจสอบความยาวของ list"
      ]
    },
    {
      "cell_type": "code",
      "metadata": {
        "id": "Yk7n39Jps1VI",
        "outputId": "38660b5e-4461-4d0b-9eee-2f57cb9f282a",
        "colab": {
          "base_uri": "https://localhost:8080/"
        }
      },
      "source": [
        "len(t)"
      ],
      "execution_count": 65,
      "outputs": [
        {
          "output_type": "execute_result",
          "data": {
            "text/plain": [
              "20"
            ]
          },
          "metadata": {
            "tags": []
          },
          "execution_count": 65
        }
      ]
    },
    {
      "cell_type": "code",
      "metadata": {
        "id": "NmJHg4m6s-CV",
        "outputId": "ed5e725e-2549-4616-ed75-a15856253bc6",
        "colab": {
          "base_uri": "https://localhost:8080/"
        }
      },
      "source": [
        "len(list_b) # len คือคำสั่งตรวจสอบความยาวของ list (จำนวนสมาชิก)"
      ],
      "execution_count": 66,
      "outputs": [
        {
          "output_type": "execute_result",
          "data": {
            "text/plain": [
              "6"
            ]
          },
          "metadata": {
            "tags": []
          },
          "execution_count": 66
        }
      ]
    },
    {
      "cell_type": "code",
      "metadata": {
        "id": "E5FFQGwutUZW",
        "outputId": "22a2bfd2-4488-466f-878b-00ede8ce0f38",
        "colab": {
          "base_uri": "https://localhost:8080/",
          "height": 38
        }
      },
      "source": [
        "t[-4]"
      ],
      "execution_count": 67,
      "outputs": [
        {
          "output_type": "execute_result",
          "data": {
            "application/vnd.google.colaboratory.intrinsic+json": {
              "type": "string"
            },
            "text/plain": [
              "'c'"
            ]
          },
          "metadata": {
            "tags": []
          },
          "execution_count": 67
        }
      ]
    },
    {
      "cell_type": "code",
      "metadata": {
        "id": "BZHPk7rdtX2y",
        "outputId": "22a3baef-b545-4af1-e043-fa3bb8f7fd93",
        "colab": {
          "base_uri": "https://localhost:8080/"
        }
      },
      "source": [
        "list_b.append(t)\n",
        "print(list_b)"
      ],
      "execution_count": 68,
      "outputs": [
        {
          "output_type": "stream",
          "text": [
            "[111, 'c', 'งง', 1092, 'u', 'python is  difficult', 'python is  difficult']\n"
          ],
          "name": "stdout"
        }
      ]
    },
    {
      "cell_type": "markdown",
      "metadata": {
        "id": "-DzGp5ZPnaqc"
      },
      "source": [
        "# ตัวที่อยู่ข้างใน [] เรียกว่า index (ตัวชี้วัด)"
      ]
    },
    {
      "cell_type": "markdown",
      "metadata": {
        "id": "rKiKLSFwoKG7"
      },
      "source": [
        "List slicing สามารถทำได้โดยใช้ colon :"
      ]
    },
    {
      "cell_type": "code",
      "metadata": {
        "id": "r-p6W8xV4E0W",
        "outputId": "57aae3a3-03ce-4070-d049-6aa6cdb39654",
        "colab": {
          "base_uri": "https://localhost:8080/"
        }
      },
      "source": [
        "print(t)\n",
        "print(t[7:9])\n",
        "print(len(t[7:9]))"
      ],
      "execution_count": 52,
      "outputs": [
        {
          "output_type": "stream",
          "text": [
            "python is  difficult\n",
            "is\n",
            "2\n"
          ],
          "name": "stdout"
        }
      ]
    },
    {
      "cell_type": "code",
      "metadata": {
        "id": "y_UU9l_xntGL",
        "outputId": "7d982727-7947-4e16-8410-670637858172",
        "colab": {
          "base_uri": "https://localhost:8080/",
          "height": 38
        }
      },
      "source": [
        "t[0:20:2]"
      ],
      "execution_count": 53,
      "outputs": [
        {
          "output_type": "execute_result",
          "data": {
            "application/vnd.google.colaboratory.intrinsic+json": {
              "type": "string"
            },
            "text/plain": [
              "'pto s ifcl'"
            ]
          },
          "metadata": {
            "tags": []
          },
          "execution_count": 53
        }
      ]
    },
    {
      "cell_type": "markdown",
      "metadata": {
        "id": "oGxHE3J8nLOl"
      },
      "source": [
        "ถ้าเว้นว่างหน้า : หมายความว่า เริ่มตั้งแต่ตัวแรก"
      ]
    },
    {
      "cell_type": "markdown",
      "metadata": {
        "id": "lgWVXkcqn6_9"
      },
      "source": [
        "ถ้าเว้นว่างหลัง : หมายความว่า ไปจนถึงตัวสุดท้าย"
      ]
    },
    {
      "cell_type": "markdown",
      "metadata": {
        "id": "hbuhe71tpLdi"
      },
      "source": [
        "#quiz"
      ]
    },
    {
      "cell_type": "markdown",
      "metadata": {
        "id": "55dK_c8TpNsl"
      },
      "source": [
        "ให้ใช้ list slicing เลือกมาเฉพาะเลขคู่"
      ]
    },
    {
      "cell_type": "code",
      "metadata": {
        "id": "EMKNQQm_ohgI",
        "outputId": "ef3b4173-0e5f-4197-cb3c-811ca3ee452c",
        "colab": {
          "base_uri": "https://localhost:8080/"
        }
      },
      "source": [
        "z = [1,2,3,4,5,6,7,8,9,10]\n",
        "print(z[1:10:2])"
      ],
      "execution_count": 57,
      "outputs": [
        {
          "output_type": "stream",
          "text": [
            "[2, 4, 6, 8, 10]\n"
          ],
          "name": "stdout"
        }
      ]
    },
    {
      "cell_type": "code",
      "metadata": {
        "id": "2mntrXHcol_L"
      },
      "source": [
        ""
      ],
      "execution_count": null,
      "outputs": []
    },
    {
      "cell_type": "markdown",
      "metadata": {
        "id": "eE2z5epIpclE"
      },
      "source": [
        "ถ้าเว้นว่างหน้า : หมายความว่า เริ่มตั้งแต่ตัวแรก (0)"
      ]
    },
    {
      "cell_type": "markdown",
      "metadata": {
        "id": "j_lwuYfQppDG"
      },
      "source": [
        "ถ้าเว้นว่างหลัง : หมายความว่า ไปจนถึงตัวสุดท้าย (len(list))"
      ]
    },
    {
      "cell_type": "code",
      "metadata": {
        "id": "FKZ6dm_qrmVf",
        "outputId": "78f51f32-66b2-4a96-d5fa-67d9c0bb443e",
        "colab": {
          "base_uri": "https://localhost:8080/"
        }
      },
      "source": [
        "print(t)\n",
        "print(t[:6])\n",
        "print(t[10:])\n",
        "print(t[-4:])\n",
        "print(t[:])"
      ],
      "execution_count": 58,
      "outputs": [
        {
          "output_type": "stream",
          "text": [
            "python is  difficult\n",
            "python\n",
            " difficult\n",
            "cult\n",
            "python is  difficult\n"
          ],
          "name": "stdout"
        }
      ]
    },
    {
      "cell_type": "code",
      "metadata": {
        "id": "C95yrCworyyH",
        "outputId": "3b89b771-a360-4943-c6f7-1ff42c5090e6",
        "colab": {
          "base_uri": "https://localhost:8080/"
        }
      },
      "source": [
        "print (z[::2])"
      ],
      "execution_count": 59,
      "outputs": [
        {
          "output_type": "stream",
          "text": [
            "[1, 3, 5, 7, 9]\n"
          ],
          "name": "stdout"
        }
      ]
    },
    {
      "cell_type": "markdown",
      "metadata": {
        "id": "sU0WLwsDr5G3"
      },
      "source": [
        "# เราสามารถ เอา list มาต่อกันได้ด้วย"
      ]
    },
    {
      "cell_type": "code",
      "metadata": {
        "id": "dRgGuuLEr4zQ",
        "outputId": "0015088f-0025-4516-c253-486040782edc",
        "colab": {
          "base_uri": "https://localhost:8080/",
          "height": 38
        }
      },
      "source": [
        "t + '??'"
      ],
      "execution_count": 62,
      "outputs": [
        {
          "output_type": "execute_result",
          "data": {
            "application/vnd.google.colaboratory.intrinsic+json": {
              "type": "string"
            },
            "text/plain": [
              "'python is  difficult??'"
            ]
          },
          "metadata": {
            "tags": []
          },
          "execution_count": 62
        }
      ]
    },
    {
      "cell_type": "code",
      "metadata": {
        "id": "5AisTragr3HO",
        "outputId": "de495324-7d22-42c1-a37b-44f91369d07a",
        "colab": {
          "base_uri": "https://localhost:8080/",
          "height": 207
        }
      },
      "source": [
        "t + list_b ## ไม่สามารถเอา list ปกติมาต่อกับ string ได้"
      ],
      "execution_count": 63,
      "outputs": [
        {
          "output_type": "error",
          "ename": "TypeError",
          "evalue": "ignored",
          "traceback": [
            "\u001b[0;31m---------------------------------------------------------------------------\u001b[0m",
            "\u001b[0;31mTypeError\u001b[0m                                 Traceback (most recent call last)",
            "\u001b[0;32m<ipython-input-63-8ceeb7529eac>\u001b[0m in \u001b[0;36m<module>\u001b[0;34m()\u001b[0m\n\u001b[0;32m----> 1\u001b[0;31m \u001b[0mt\u001b[0m \u001b[0;34m+\u001b[0m \u001b[0mlist_b\u001b[0m \u001b[0;31m## ไม่สามารถเอา list ปกติมาต่อกับ string ได้\u001b[0m\u001b[0;34m\u001b[0m\u001b[0;34m\u001b[0m\u001b[0m\n\u001b[0m",
            "\u001b[0;31mTypeError\u001b[0m: must be str, not list"
          ]
        }
      ]
    },
    {
      "cell_type": "code",
      "metadata": {
        "id": "-tMhexUksZK9",
        "outputId": "0fc365b5-0b62-4f75-bb8f-c7d72def5a6d",
        "colab": {
          "base_uri": "https://localhost:8080/"
        }
      },
      "source": [
        "print(list_a)\n",
        "list_b = [111,'c']\n",
        "print(list_b)\n",
        "print(list_b + list_a)"
      ],
      "execution_count": 69,
      "outputs": [
        {
          "output_type": "stream",
          "text": [
            "[]\n",
            "[111, 'c']\n",
            "[111, 'c']\n"
          ],
          "name": "stdout"
        }
      ]
    },
    {
      "cell_type": "code",
      "metadata": {
        "id": "_vNdonNzsjrR",
        "outputId": "6264e745-40bc-4925-f402-6a7cdc0c37ae",
        "colab": {
          "base_uri": "https://localhost:8080/"
        }
      },
      "source": [
        "list_b.append(list_a)\n",
        "print(list_b)"
      ],
      "execution_count": 74,
      "outputs": [
        {
          "output_type": "stream",
          "text": [
            "[111, 'c', []]\n"
          ],
          "name": "stdout"
        }
      ]
    },
    {
      "cell_type": "markdown",
      "metadata": {
        "id": "VimsaYwct2SR"
      },
      "source": [
        "# การแบ่ง string ตามสัญลักษณ์ที่กำหนด -> split string"
      ]
    },
    {
      "cell_type": "code",
      "metadata": {
        "id": "IAr0H4a0uDbW",
        "outputId": "9ffae20c-2f0e-4bc1-958b-b565aa2f5b83",
        "colab": {
          "base_uri": "https://localhost:8080/",
          "height": 38
        }
      },
      "source": [
        "t"
      ],
      "execution_count": 70,
      "outputs": [
        {
          "output_type": "execute_result",
          "data": {
            "application/vnd.google.colaboratory.intrinsic+json": {
              "type": "string"
            },
            "text/plain": [
              "'python is  difficult'"
            ]
          },
          "metadata": {
            "tags": []
          },
          "execution_count": 70
        }
      ]
    },
    {
      "cell_type": "code",
      "metadata": {
        "id": "sCOQXTJXuEZq",
        "outputId": "6300b52e-4c28-4bb0-c71e-92a936290580",
        "colab": {
          "base_uri": "https://localhost:8080/"
        }
      },
      "source": [
        "t.split(' ')"
      ],
      "execution_count": 77,
      "outputs": [
        {
          "output_type": "execute_result",
          "data": {
            "text/plain": [
              "['python', 'is', '', 'difficult']"
            ]
          },
          "metadata": {
            "tags": []
          },
          "execution_count": 77
        }
      ]
    },
    {
      "cell_type": "code",
      "metadata": {
        "id": "Z0w9hf2Kuoay"
      },
      "source": [
        "time = '12:30:15'"
      ],
      "execution_count": 78,
      "outputs": []
    },
    {
      "cell_type": "markdown",
      "metadata": {
        "id": "DEtT_Ts8uuby"
      },
      "source": [
        "'ชั่วโมง:นาที:วินาที'"
      ]
    },
    {
      "cell_type": "code",
      "metadata": {
        "id": "dclcdZrrutNT",
        "outputId": "732e0c0c-1961-48ff-8712-6fcd63be7812",
        "colab": {
          "base_uri": "https://localhost:8080/"
        }
      },
      "source": [
        "time.split(':')"
      ],
      "execution_count": 79,
      "outputs": [
        {
          "output_type": "execute_result",
          "data": {
            "text/plain": [
              "['12', '30', '15']"
            ]
          },
          "metadata": {
            "tags": []
          },
          "execution_count": 79
        }
      ]
    },
    {
      "cell_type": "code",
      "metadata": {
        "id": "1ku7sAbGu53v",
        "outputId": "097e9cd6-dddb-4c58-a5b0-dbd17f8cf702",
        "colab": {
          "base_uri": "https://localhost:8080/"
        }
      },
      "source": [
        "t_sp = t.split(' ')\n",
        "print(t_sp)"
      ],
      "execution_count": 80,
      "outputs": [
        {
          "output_type": "stream",
          "text": [
            "['python', 'is', '', 'difficult']\n"
          ],
          "name": "stdout"
        }
      ]
    },
    {
      "cell_type": "code",
      "metadata": {
        "id": "N22fR7MGvCo3",
        "outputId": "cb56e487-0c40-435f-b259-4f370ebd7065",
        "colab": {
          "base_uri": "https://localhost:8080/"
        }
      },
      "source": [
        "### วิธีรวมกลับ\n",
        "print(':'.join(t_sp))"
      ],
      "execution_count": 81,
      "outputs": [
        {
          "output_type": "stream",
          "text": [
            "python:is::difficult\n"
          ],
          "name": "stdout"
        }
      ]
    },
    {
      "cell_type": "code",
      "metadata": {
        "id": "INCPaRIzvMlI",
        "outputId": "77fc5750-0b98-483b-8d86-a5dcd163ca6a",
        "colab": {
          "base_uri": "https://localhost:8080/",
          "height": 135
        }
      },
      "source": [
        "### HW คำนวณเวลาเป็นวินาทีของเวลาต่อไปนี้โดยใช้คำสั่ง split() ช่วย (print ออกมาให้สวยงาม)\n",
        "\n",
        "12:30:15\n",
        "\n",
        "13:41:07\n",
        "\n",
        "12:53:15\n",
        "\n",
        "00:59:25\n",
        "\n",
        "11:11:11\n",
        "\n",
        "16:06:09\n",
        "\n",
        "21:12:09"
      ],
      "execution_count": 86,
      "outputs": [
        {
          "output_type": "error",
          "ename": "SyntaxError",
          "evalue": "ignored",
          "traceback": [
            "\u001b[0;36m  File \u001b[0;32m\"<ipython-input-86-7df70ad6fd96>\"\u001b[0;36m, line \u001b[0;32m3\u001b[0m\n\u001b[0;31m    12:30:15\u001b[0m\n\u001b[0m         ^\u001b[0m\n\u001b[0;31mSyntaxError\u001b[0m\u001b[0;31m:\u001b[0m invalid syntax\n"
          ]
        }
      ]
    },
    {
      "cell_type": "code",
      "metadata": {
        "id": "jI3is7lvvlT8",
        "outputId": "1bde0f29-ea45-4860-b245-118470347a64",
        "colab": {
          "base_uri": "https://localhost:8080/",
          "height": 135
        }
      },
      "source": [
        "ตัวอย่าง > 00:01:10 = 70 วินาที"
      ],
      "execution_count": 87,
      "outputs": [
        {
          "output_type": "error",
          "ename": "SyntaxError",
          "evalue": "ignored",
          "traceback": [
            "\u001b[0;36m  File \u001b[0;32m\"<ipython-input-87-930dd256a86c>\"\u001b[0;36m, line \u001b[0;32m1\u001b[0m\n\u001b[0;31m    ตัวอย่าง > 00:01:10 = 70 วินาที\u001b[0m\n\u001b[0m                   ^\u001b[0m\n\u001b[0;31mSyntaxError\u001b[0m\u001b[0;31m:\u001b[0m invalid token\n"
          ]
        }
      ]
    },
    {
      "cell_type": "code",
      "metadata": {
        "id": "TV8_JzLjwXVf"
      },
      "source": [
        ""
      ],
      "execution_count": null,
      "outputs": []
    }
  ]
}