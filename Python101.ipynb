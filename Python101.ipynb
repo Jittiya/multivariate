{
  "nbformat": 4,
  "nbformat_minor": 0,
  "metadata": {
    "colab": {
      "name": "Python101.ipynb",
      "provenance": [],
      "authorship_tag": "ABX9TyPBSryUa4aev2yRy/SedhVH",
      "include_colab_link": true
    },
    "kernelspec": {
      "name": "python3",
      "display_name": "Python 3"
    }
  },
  "cells": [
    {
      "cell_type": "markdown",
      "metadata": {
        "id": "view-in-github",
        "colab_type": "text"
      },
      "source": [
        "<a href=\"https://colab.research.google.com/github/Jittiya/multivariate/blob/main/Python101.ipynb\" target=\"_parent\"><img src=\"https://colab.research.google.com/assets/colab-badge.svg\" alt=\"Open In Colab\"/></a>"
      ]
    },
    {
      "cell_type": "markdown",
      "metadata": {
        "id": "-H7u-jR0EXku"
      },
      "source": [
        "ตัวแปร variable"
      ]
    },
    {
      "cell_type": "markdown",
      "metadata": {
        "id": "BmlCHsENEdYe"
      },
      "source": [
        "หลักการตั้งชื่อตัวแปร\r\n",
        "\r\n",
        "1. ตั้งให้สื่อ\r\n",
        "2. ภาษาอังกฤษ\r\n",
        "3. ใช้ตัวเลขได้แต่ห้ามขึ้นต้นด้วยตัวเลข\r\n",
        "4. ห้ามเว้นวรรค\r\n",
        "5. ตัวเล็กกับตัวใหญ่ไม่เหมือนกัน"
      ]
    },
    {
      "cell_type": "markdown",
      "metadata": {
        "id": "1kxy06KKE-K0"
      },
      "source": [
        "มี output 2 mode : ออกหน้าจอ กับเข้าไปเก็บในตัวแปร"
      ]
    },
    {
      "cell_type": "code",
      "metadata": {
        "colab": {
          "base_uri": "https://localhost:8080/"
        },
        "id": "rK1XR8I8EWWO",
        "outputId": "b2ee6a43-2468-4ae5-ec75-02c6ffa36135"
      },
      "source": [
        "3.14159        # hashtag หรือ sharp # คือ comment   >>>  อันนี้คือ  output ที่ออกหน้าจอ"
      ],
      "execution_count": 7,
      "outputs": [
        {
          "output_type": "execute_result",
          "data": {
            "text/plain": [
              "3.14159"
            ]
          },
          "metadata": {
            "tags": []
          },
          "execution_count": 7
        }
      ]
    },
    {
      "cell_type": "code",
      "metadata": {
        "id": "9osttx28Exv-"
      },
      "source": [
        "Pi = 3.14159         # อันนี้คือ output   ที่เข้าไปอยู่ในตัวแปร"
      ],
      "execution_count": 8,
      "outputs": []
    },
    {
      "cell_type": "code",
      "metadata": {
        "colab": {
          "base_uri": "https://localhost:8080/"
        },
        "id": "eYenvpjRE6d3",
        "outputId": "5d35b00f-c696-4ba1-f5a6-300d16291715"
      },
      "source": [
        "Pi"
      ],
      "execution_count": 3,
      "outputs": [
        {
          "output_type": "execute_result",
          "data": {
            "text/plain": [
              "3.14159"
            ]
          },
          "metadata": {
            "tags": []
          },
          "execution_count": 3
        }
      ]
    },
    {
      "cell_type": "code",
      "metadata": {
        "colab": {
          "base_uri": "https://localhost:8080/"
        },
        "id": "fDnzQBc9FJAD",
        "outputId": "d270cca6-ebb1-44bf-cd64-5d7bd1ae97a7"
      },
      "source": [
        "a = 1234567\r\n",
        "print(a)"
      ],
      "execution_count": 6,
      "outputs": [
        {
          "output_type": "stream",
          "text": [
            "1234567\n"
          ],
          "name": "stdout"
        }
      ]
    },
    {
      "cell_type": "markdown",
      "metadata": {
        "id": "pjhAK-iqFxJB"
      },
      "source": [
        "# ชนิดของตัวแปร 3ชนิด"
      ]
    },
    {
      "cell_type": "markdown",
      "metadata": {
        "id": "7ANJBuUeGvmC"
      },
      "source": [
        "# จำนวนเต็ม (integer, int)"
      ]
    },
    {
      "cell_type": "code",
      "metadata": {
        "colab": {
          "base_uri": "https://localhost:8080/"
        },
        "id": "IfLVldYtFWsR",
        "outputId": "e237bd46-c59b-4ead-f80f-70e33eda9a91"
      },
      "source": [
        "aaa = 1092\r\n",
        "print(aaa)"
      ],
      "execution_count": 9,
      "outputs": [
        {
          "output_type": "stream",
          "text": [
            "1092\n"
          ],
          "name": "stdout"
        }
      ]
    },
    {
      "cell_type": "markdown",
      "metadata": {
        "id": "lm0u6B4aG8ld"
      },
      "source": [
        "### จำวนจริง (float)"
      ]
    },
    {
      "cell_type": "code",
      "metadata": {
        "colab": {
          "base_uri": "https://localhost:8080/"
        },
        "id": "JqaeB5JpG63W",
        "outputId": "41348815-52b5-4863-ebca-c09becc146ca"
      },
      "source": [
        "bbb = 11\r\n",
        "print (bbb)"
      ],
      "execution_count": 18,
      "outputs": [
        {
          "output_type": "stream",
          "text": [
            "11\n"
          ],
          "name": "stdout"
        }
      ]
    },
    {
      "cell_type": "markdown",
      "metadata": {
        "id": "84ddmv2EHSHN"
      },
      "source": [
        "### ตัวอักษร-ข้อความ (charater และ text, string)"
      ]
    },
    {
      "cell_type": "code",
      "metadata": {
        "colab": {
          "base_uri": "https://localhost:8080/"
        },
        "id": "pvv4GYjaHQ52",
        "outputId": "ac7af6bf-e7cc-4bb0-ca4d-17cbd8b6ad76"
      },
      "source": [
        "ccc = '123456'  # เราใช้ single quote หรือ double quote ล้อมรอบตัวหนังสือเพื่อระบุว่าเป็น charater-string \r\n",
        "print (ccc)"
      ],
      "execution_count": 13,
      "outputs": [
        {
          "output_type": "stream",
          "text": [
            "123456\n"
          ],
          "name": "stdout"
        }
      ]
    },
    {
      "cell_type": "code",
      "metadata": {
        "colab": {
          "base_uri": "https://localhost:8080/"
        },
        "id": "hcaKo53NIKLX",
        "outputId": "fb7114c7-63d2-4781-cd32-3d8c664dd9ae"
      },
      "source": [
        "aaa + bbb    # float + int = float"
      ],
      "execution_count": 19,
      "outputs": [
        {
          "output_type": "execute_result",
          "data": {
            "text/plain": [
              "1103"
            ]
          },
          "metadata": {
            "tags": []
          },
          "execution_count": 19
        }
      ]
    },
    {
      "cell_type": "code",
      "metadata": {
        "colab": {
          "base_uri": "https://localhost:8080/"
        },
        "id": "Ew9JSQpCIXOy",
        "outputId": "67aeb130-7c78-472a-8f23-41c4fdd8ae67"
      },
      "source": [
        "ddd = 'จิตติยา'\r\n",
        "print(ddd)"
      ],
      "execution_count": 16,
      "outputs": [
        {
          "output_type": "stream",
          "text": [
            "จิตติยา\n"
          ],
          "name": "stdout"
        }
      ]
    },
    {
      "cell_type": "markdown",
      "metadata": {
        "id": "nGnszIEEJC2T"
      },
      "source": [
        "### การเปลี่ยนชนิดของตัวแปร variable casting"
      ]
    },
    {
      "cell_type": "code",
      "metadata": {
        "colab": {
          "base_uri": "https://localhost:8080/"
        },
        "id": "qzztQpmlJh0x",
        "outputId": "0d27750e-7634-427a-826a-09e6c44cb16e"
      },
      "source": [
        "bbb + int (ccc) "
      ],
      "execution_count": 20,
      "outputs": [
        {
          "output_type": "execute_result",
          "data": {
            "text/plain": [
              "123467"
            ]
          },
          "metadata": {
            "tags": []
          },
          "execution_count": 20
        }
      ]
    },
    {
      "cell_type": "code",
      "metadata": {
        "colab": {
          "base_uri": "https://localhost:8080/"
        },
        "id": "WpZZntPpJwTD",
        "outputId": "06d45019-8bd9-432f-d1f3-f9792c644a0c"
      },
      "source": [
        "aaa + float (ccc)"
      ],
      "execution_count": 21,
      "outputs": [
        {
          "output_type": "execute_result",
          "data": {
            "text/plain": [
              "124548.0"
            ]
          },
          "metadata": {
            "tags": []
          },
          "execution_count": 21
        }
      ]
    },
    {
      "cell_type": "code",
      "metadata": {
        "colab": {
          "base_uri": "https://localhost:8080/",
          "height": 34
        },
        "id": "hHeAWebXJ3Wa",
        "outputId": "33b4f337-365a-4847-c740-6c23e88a79ff"
      },
      "source": [
        "str(aaa)"
      ],
      "execution_count": 22,
      "outputs": [
        {
          "output_type": "execute_result",
          "data": {
            "application/vnd.google.colaboratory.intrinsic+json": {
              "type": "string"
            },
            "text/plain": [
              "'1092'"
            ]
          },
          "metadata": {
            "tags": []
          },
          "execution_count": 22
        }
      ]
    },
    {
      "cell_type": "markdown",
      "metadata": {
        "id": "HR7SUk_5KWOF"
      },
      "source": [
        "# การดำเนินการ Operation (Operatord +,-,*,/,%)"
      ]
    },
    {
      "cell_type": "code",
      "metadata": {
        "colab": {
          "base_uri": "https://localhost:8080/",
          "height": 164
        },
        "id": "l9pibdL-J7lP",
        "outputId": "1e184ba9-270d-4c04-f33d-8ff72f0fddb0"
      },
      "source": [
        "a + b"
      ],
      "execution_count": 23,
      "outputs": [
        {
          "output_type": "error",
          "ename": "NameError",
          "evalue": "ignored",
          "traceback": [
            "\u001b[0;31m---------------------------------------------------------------------------\u001b[0m",
            "\u001b[0;31mNameError\u001b[0m                                 Traceback (most recent call last)",
            "\u001b[0;32m<ipython-input-23-bd58363a63fc>\u001b[0m in \u001b[0;36m<module>\u001b[0;34m()\u001b[0m\n\u001b[0;32m----> 1\u001b[0;31m \u001b[0ma\u001b[0m \u001b[0;34m+\u001b[0m \u001b[0mb\u001b[0m\u001b[0;34m\u001b[0m\u001b[0;34m\u001b[0m\u001b[0m\n\u001b[0m",
            "\u001b[0;31mNameError\u001b[0m: name 'b' is not defined"
          ]
        }
      ]
    },
    {
      "cell_type": "code",
      "metadata": {
        "colab": {
          "base_uri": "https://localhost:8080/"
        },
        "id": "bFVGXkcBK5pi",
        "outputId": "759a5e23-cafe-42da-bd67-316fd3510018"
      },
      "source": [
        "aaa + bbb"
      ],
      "execution_count": 24,
      "outputs": [
        {
          "output_type": "execute_result",
          "data": {
            "text/plain": [
              "1103"
            ]
          },
          "metadata": {
            "tags": []
          },
          "execution_count": 24
        }
      ]
    },
    {
      "cell_type": "code",
      "metadata": {
        "colab": {
          "base_uri": "https://localhost:8080/"
        },
        "id": "P4D6hDPRK90Q",
        "outputId": "5782cf6b-bdee-4b36-cb0c-fed24c62d168"
      },
      "source": [
        "aaa - bbb"
      ],
      "execution_count": 25,
      "outputs": [
        {
          "output_type": "execute_result",
          "data": {
            "text/plain": [
              "1081"
            ]
          },
          "metadata": {
            "tags": []
          },
          "execution_count": 25
        }
      ]
    },
    {
      "cell_type": "code",
      "metadata": {
        "colab": {
          "base_uri": "https://localhost:8080/"
        },
        "id": "EJnGk2SSK7kY",
        "outputId": "e2923e54-c3cf-463b-f2a2-0da24a454e2c"
      },
      "source": [
        "ab = aaa*bbb\r\n",
        "print(ab)"
      ],
      "execution_count": 26,
      "outputs": [
        {
          "output_type": "stream",
          "text": [
            "12012\n"
          ],
          "name": "stdout"
        }
      ]
    },
    {
      "cell_type": "code",
      "metadata": {
        "colab": {
          "base_uri": "https://localhost:8080/"
        },
        "id": "8FbSKS0xLGTI",
        "outputId": "28beded3-f98c-4591-aa3a-36ce8a02e849"
      },
      "source": [
        "ab + int (ccc)"
      ],
      "execution_count": 27,
      "outputs": [
        {
          "output_type": "execute_result",
          "data": {
            "text/plain": [
              "135468"
            ]
          },
          "metadata": {
            "tags": []
          },
          "execution_count": 27
        }
      ]
    },
    {
      "cell_type": "markdown",
      "metadata": {
        "id": "gaSPnRo_LMRv"
      },
      "source": [
        "# % เครื่องหมาย modulo"
      ]
    },
    {
      "cell_type": "markdown",
      "metadata": {
        "id": "05fTSaFULwtQ"
      },
      "source": [
        "คือการหารเอาเศษ"
      ]
    },
    {
      "cell_type": "code",
      "metadata": {
        "colab": {
          "base_uri": "https://localhost:8080/"
        },
        "id": "PVewZJ_HLKRj",
        "outputId": "fcce4cb7-31af-449b-d7b7-49e4e72a352b"
      },
      "source": [
        "5%3"
      ],
      "execution_count": 28,
      "outputs": [
        {
          "output_type": "execute_result",
          "data": {
            "text/plain": [
              "2"
            ]
          },
          "metadata": {
            "tags": []
          },
          "execution_count": 28
        }
      ]
    },
    {
      "cell_type": "code",
      "metadata": {
        "colab": {
          "base_uri": "https://localhost:8080/"
        },
        "id": "eDOe7hxhL2NS",
        "outputId": "c4191c0e-3b20-43f8-9bf7-97b5c010352d"
      },
      "source": [
        "7%3"
      ],
      "execution_count": 29,
      "outputs": [
        {
          "output_type": "execute_result",
          "data": {
            "text/plain": [
              "1"
            ]
          },
          "metadata": {
            "tags": []
          },
          "execution_count": 29
        }
      ]
    },
    {
      "cell_type": "markdown",
      "metadata": {
        "id": "0TRViclKL4-H"
      },
      "source": [
        "# คำสัง print แบบพิเศษ (การ format string)"
      ]
    },
    {
      "cell_type": "code",
      "metadata": {
        "colab": {
          "base_uri": "https://localhost:8080/"
        },
        "id": "BpJzsH3LL3uI",
        "outputId": "e189152e-81d8-467f-9aad-0d5c596bd895"
      },
      "source": [
        "print('ตัวแปร') #สิ่งที่อยู่ในวงเล็บคือ ตัวแปร และ string"
      ],
      "execution_count": 30,
      "outputs": [
        {
          "output_type": "stream",
          "text": [
            "ตัวแปร\n"
          ],
          "name": "stdout"
        }
      ]
    },
    {
      "cell_type": "code",
      "metadata": {
        "colab": {
          "base_uri": "https://localhost:8080/"
        },
        "id": "MP660RFgMc1J",
        "outputId": "c7e355bb-3bda-414e-c0b6-4b49b8923d6d"
      },
      "source": [
        "print(f'% คือการหารเอาเศษ เช่น 7%3 = {7%3}')  # เพิ่ม f หน้า 'string'  และใช้ {} ใส่code"
      ],
      "execution_count": 31,
      "outputs": [
        {
          "output_type": "stream",
          "text": [
            "% คือการหารเอาเศษ เช่น 7%3 = 1\n"
          ],
          "name": "stdout"
        }
      ]
    },
    {
      "cell_type": "code",
      "metadata": {
        "id": "soWB5GLjM4W_"
      },
      "source": [
        "print (f '% คือการหารเอาเศษ เช่น 7%3 = {7%3} \\\r\n",
        "        แต่\\n/ คือการหารปกติ เช่น 7/3 = {7/3} \\\r\n",
        "        และ \\n// คือการหารเอาส่วน เช่น  7//3 = {7//3} \\\r\n",
        "        หรือ \\n ใช้ int() เพื่อหารเอาส่วน เช่น int(7/3) = {int(7/3)}')"
      ],
      "execution_count": null,
      "outputs": []
    }
  ]
}