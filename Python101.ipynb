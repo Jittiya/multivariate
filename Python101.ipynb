{
  "nbformat": 4,
  "nbformat_minor": 0,
  "metadata": {
    "colab": {
      "name": "Python101.ipynb",
      "provenance": [],
      "collapsed_sections": [],
      "include_colab_link": true
    },
    "kernelspec": {
      "name": "python3",
      "display_name": "Python 3"
    }
  },
  "cells": [
    {
      "cell_type": "markdown",
      "metadata": {
        "id": "view-in-github",
        "colab_type": "text"
      },
      "source": [
        "<a href=\"https://colab.research.google.com/github/Jittiya/multivariate/blob/main/Python101.ipynb\" target=\"_parent\"><img src=\"https://colab.research.google.com/assets/colab-badge.svg\" alt=\"Open In Colab\"/></a>"
      ]
    },
    {
      "cell_type": "markdown",
      "metadata": {
        "id": "-H7u-jR0EXku"
      },
      "source": [
        "ตัวแปร variable"
      ]
    },
    {
      "cell_type": "markdown",
      "metadata": {
        "id": "BmlCHsENEdYe"
      },
      "source": [
        "หลักการตั้งชื่อตัวแปร\r\n",
        "\r\n",
        "1. ตั้งให้สื่อ\r\n",
        "2. ภาษาอังกฤษ\r\n",
        "3. ใช้ตัวเลขได้แต่ห้ามขึ้นต้นด้วยตัวเลข\r\n",
        "4. ห้ามเว้นวรรค\r\n",
        "5. ตัวเล็กกับตัวใหญ่ไม่เหมือนกัน"
      ]
    },
    {
      "cell_type": "markdown",
      "metadata": {
        "id": "1kxy06KKE-K0"
      },
      "source": [
        "มี output 2 mode : ออกหน้าจอ กับเข้าไปเก็บในตัวแปร"
      ]
    },
    {
      "cell_type": "code",
      "metadata": {
        "colab": {
          "base_uri": "https://localhost:8080/"
        },
        "id": "rK1XR8I8EWWO",
        "outputId": "491057f2-0ca8-4370-ea74-f75da0064041"
      },
      "source": [
        "3.14159        # hashtag หรือ sharp # คือ comment   >>>  อันนี้คือ  output ที่ออกหน้าจอ"
      ],
      "execution_count": 1,
      "outputs": [
        {
          "output_type": "execute_result",
          "data": {
            "text/plain": [
              "3.14159"
            ]
          },
          "metadata": {
            "tags": []
          },
          "execution_count": 1
        }
      ]
    },
    {
      "cell_type": "code",
      "metadata": {
        "id": "9osttx28Exv-"
      },
      "source": [
        "Pi = 3.14159         # อันนี้คือ output   ที่เข้าไปอยู่ในตัวแปร"
      ],
      "execution_count": 2,
      "outputs": []
    },
    {
      "cell_type": "code",
      "metadata": {
        "colab": {
          "base_uri": "https://localhost:8080/"
        },
        "id": "eYenvpjRE6d3",
        "outputId": "a7601a28-e24b-4cad-a424-f339333c1e19"
      },
      "source": [
        "Pi"
      ],
      "execution_count": 3,
      "outputs": [
        {
          "output_type": "execute_result",
          "data": {
            "text/plain": [
              "3.14159"
            ]
          },
          "metadata": {
            "tags": []
          },
          "execution_count": 3
        }
      ]
    },
    {
      "cell_type": "code",
      "metadata": {
        "colab": {
          "base_uri": "https://localhost:8080/"
        },
        "id": "fDnzQBc9FJAD",
        "outputId": "556d93fd-229b-4ea3-9990-570230936a90"
      },
      "source": [
        "a = 1234567\r\n",
        "print(a)"
      ],
      "execution_count": 4,
      "outputs": [
        {
          "output_type": "stream",
          "text": [
            "1234567\n"
          ],
          "name": "stdout"
        }
      ]
    },
    {
      "cell_type": "markdown",
      "metadata": {
        "id": "pjhAK-iqFxJB"
      },
      "source": [
        "# ชนิดของตัวแปร 3ชนิด"
      ]
    },
    {
      "cell_type": "markdown",
      "metadata": {
        "id": "7ANJBuUeGvmC"
      },
      "source": [
        "# จำนวนเต็ม (integer, int)"
      ]
    },
    {
      "cell_type": "code",
      "metadata": {
        "colab": {
          "base_uri": "https://localhost:8080/"
        },
        "id": "IfLVldYtFWsR",
        "outputId": "4517829f-39a0-471d-d56d-bc2d9018b7ed"
      },
      "source": [
        "aaa = 1092\r\n",
        "print(aaa)"
      ],
      "execution_count": 5,
      "outputs": [
        {
          "output_type": "stream",
          "text": [
            "1092\n"
          ],
          "name": "stdout"
        }
      ]
    },
    {
      "cell_type": "markdown",
      "metadata": {
        "id": "lm0u6B4aG8ld"
      },
      "source": [
        "### จำวนจริง (float)"
      ]
    },
    {
      "cell_type": "code",
      "metadata": {
        "colab": {
          "base_uri": "https://localhost:8080/"
        },
        "id": "JqaeB5JpG63W",
        "outputId": "67e3d13f-c850-4460-a072-a60c44a525de"
      },
      "source": [
        "bbb = 11\r\n",
        "print (bbb)"
      ],
      "execution_count": 6,
      "outputs": [
        {
          "output_type": "stream",
          "text": [
            "11\n"
          ],
          "name": "stdout"
        }
      ]
    },
    {
      "cell_type": "markdown",
      "metadata": {
        "id": "84ddmv2EHSHN"
      },
      "source": [
        "### ตัวอักษร-ข้อความ (charater และ text, string)"
      ]
    },
    {
      "cell_type": "code",
      "metadata": {
        "colab": {
          "base_uri": "https://localhost:8080/"
        },
        "id": "pvv4GYjaHQ52",
        "outputId": "b76f79d8-e3fb-46a5-f1b4-4a901e193943"
      },
      "source": [
        "ccc = '123456'  # เราใช้ single quote หรือ double quote ล้อมรอบตัวหนังสือเพื่อระบุว่าเป็น charater-string \r\n",
        "print (ccc)"
      ],
      "execution_count": 7,
      "outputs": [
        {
          "output_type": "stream",
          "text": [
            "123456\n"
          ],
          "name": "stdout"
        }
      ]
    },
    {
      "cell_type": "code",
      "metadata": {
        "colab": {
          "base_uri": "https://localhost:8080/"
        },
        "id": "hcaKo53NIKLX",
        "outputId": "f8a81669-203c-42c1-f58f-8f1eeac86362"
      },
      "source": [
        "aaa + bbb    # float + int = float"
      ],
      "execution_count": 8,
      "outputs": [
        {
          "output_type": "execute_result",
          "data": {
            "text/plain": [
              "1103"
            ]
          },
          "metadata": {
            "tags": []
          },
          "execution_count": 8
        }
      ]
    },
    {
      "cell_type": "code",
      "metadata": {
        "colab": {
          "base_uri": "https://localhost:8080/"
        },
        "id": "Ew9JSQpCIXOy",
        "outputId": "8ee91744-617e-4803-926e-96219e439c2c"
      },
      "source": [
        "ddd = 'จิตติยา'\r\n",
        "print(ddd)"
      ],
      "execution_count": 9,
      "outputs": [
        {
          "output_type": "stream",
          "text": [
            "จิตติยา\n"
          ],
          "name": "stdout"
        }
      ]
    },
    {
      "cell_type": "markdown",
      "metadata": {
        "id": "nGnszIEEJC2T"
      },
      "source": [
        "### การเปลี่ยนชนิดของตัวแปร variable casting"
      ]
    },
    {
      "cell_type": "code",
      "metadata": {
        "colab": {
          "base_uri": "https://localhost:8080/"
        },
        "id": "qzztQpmlJh0x",
        "outputId": "2ee3ffbf-ea66-4ae8-844a-cdd74d237d12"
      },
      "source": [
        "bbb + int (ccc) "
      ],
      "execution_count": 10,
      "outputs": [
        {
          "output_type": "execute_result",
          "data": {
            "text/plain": [
              "123467"
            ]
          },
          "metadata": {
            "tags": []
          },
          "execution_count": 10
        }
      ]
    },
    {
      "cell_type": "code",
      "metadata": {
        "colab": {
          "base_uri": "https://localhost:8080/"
        },
        "id": "WpZZntPpJwTD",
        "outputId": "6a254f6e-7c9c-4564-b749-a751343ecb35"
      },
      "source": [
        "aaa + float (ccc)"
      ],
      "execution_count": 11,
      "outputs": [
        {
          "output_type": "execute_result",
          "data": {
            "text/plain": [
              "124548.0"
            ]
          },
          "metadata": {
            "tags": []
          },
          "execution_count": 11
        }
      ]
    },
    {
      "cell_type": "code",
      "metadata": {
        "colab": {
          "base_uri": "https://localhost:8080/",
          "height": 34
        },
        "id": "hHeAWebXJ3Wa",
        "outputId": "41651581-f729-4e08-93b6-6e305ff2b214"
      },
      "source": [
        "str(aaa)"
      ],
      "execution_count": 12,
      "outputs": [
        {
          "output_type": "execute_result",
          "data": {
            "application/vnd.google.colaboratory.intrinsic+json": {
              "type": "string"
            },
            "text/plain": [
              "'1092'"
            ]
          },
          "metadata": {
            "tags": []
          },
          "execution_count": 12
        }
      ]
    },
    {
      "cell_type": "markdown",
      "metadata": {
        "id": "HR7SUk_5KWOF"
      },
      "source": [
        "# การดำเนินการ Operation (Operatord +,-,*,/,%)"
      ]
    },
    {
      "cell_type": "code",
      "metadata": {
        "colab": {
          "base_uri": "https://localhost:8080/",
          "height": 164
        },
        "id": "l9pibdL-J7lP",
        "outputId": "93ab0067-01f9-4b36-cf2e-18fe03be8842"
      },
      "source": [
        "a + b"
      ],
      "execution_count": 13,
      "outputs": [
        {
          "output_type": "error",
          "ename": "NameError",
          "evalue": "ignored",
          "traceback": [
            "\u001b[0;31m---------------------------------------------------------------------------\u001b[0m",
            "\u001b[0;31mNameError\u001b[0m                                 Traceback (most recent call last)",
            "\u001b[0;32m<ipython-input-13-bd58363a63fc>\u001b[0m in \u001b[0;36m<module>\u001b[0;34m()\u001b[0m\n\u001b[0;32m----> 1\u001b[0;31m \u001b[0ma\u001b[0m \u001b[0;34m+\u001b[0m \u001b[0mb\u001b[0m\u001b[0;34m\u001b[0m\u001b[0;34m\u001b[0m\u001b[0m\n\u001b[0m",
            "\u001b[0;31mNameError\u001b[0m: name 'b' is not defined"
          ]
        }
      ]
    },
    {
      "cell_type": "code",
      "metadata": {
        "id": "bFVGXkcBK5pi"
      },
      "source": [
        "aaa + bbb"
      ],
      "execution_count": null,
      "outputs": []
    },
    {
      "cell_type": "code",
      "metadata": {
        "colab": {
          "base_uri": "https://localhost:8080/"
        },
        "id": "P4D6hDPRK90Q",
        "outputId": "2bf96e98-50bf-4cc7-bfe3-3846b67ddff0"
      },
      "source": [
        "aaa - bbb"
      ],
      "execution_count": 14,
      "outputs": [
        {
          "output_type": "execute_result",
          "data": {
            "text/plain": [
              "1081"
            ]
          },
          "metadata": {
            "tags": []
          },
          "execution_count": 14
        }
      ]
    },
    {
      "cell_type": "code",
      "metadata": {
        "colab": {
          "base_uri": "https://localhost:8080/"
        },
        "id": "EJnGk2SSK7kY",
        "outputId": "ae903643-e54e-4716-bdee-063daf7ba74f"
      },
      "source": [
        "ab = aaa*bbb\r\n",
        "print(ab)"
      ],
      "execution_count": 15,
      "outputs": [
        {
          "output_type": "stream",
          "text": [
            "12012\n"
          ],
          "name": "stdout"
        }
      ]
    },
    {
      "cell_type": "code",
      "metadata": {
        "colab": {
          "base_uri": "https://localhost:8080/"
        },
        "id": "8FbSKS0xLGTI",
        "outputId": "bd9458bc-020f-45be-c4af-8ba7d5c8507d"
      },
      "source": [
        "ab + int (ccc)"
      ],
      "execution_count": 16,
      "outputs": [
        {
          "output_type": "execute_result",
          "data": {
            "text/plain": [
              "135468"
            ]
          },
          "metadata": {
            "tags": []
          },
          "execution_count": 16
        }
      ]
    },
    {
      "cell_type": "markdown",
      "metadata": {
        "id": "gaSPnRo_LMRv"
      },
      "source": [
        "# % เครื่องหมาย modulo"
      ]
    },
    {
      "cell_type": "markdown",
      "metadata": {
        "id": "05fTSaFULwtQ"
      },
      "source": [
        "คือการหารเอาเศษ"
      ]
    },
    {
      "cell_type": "code",
      "metadata": {
        "colab": {
          "base_uri": "https://localhost:8080/"
        },
        "id": "PVewZJ_HLKRj",
        "outputId": "8bc30e50-7e46-4c8f-cc00-105494bb20f3"
      },
      "source": [
        "5%3"
      ],
      "execution_count": 17,
      "outputs": [
        {
          "output_type": "execute_result",
          "data": {
            "text/plain": [
              "2"
            ]
          },
          "metadata": {
            "tags": []
          },
          "execution_count": 17
        }
      ]
    },
    {
      "cell_type": "code",
      "metadata": {
        "colab": {
          "base_uri": "https://localhost:8080/"
        },
        "id": "eDOe7hxhL2NS",
        "outputId": "f753e980-cdd0-4811-851c-022f463ebe72"
      },
      "source": [
        "7%3"
      ],
      "execution_count": 18,
      "outputs": [
        {
          "output_type": "execute_result",
          "data": {
            "text/plain": [
              "1"
            ]
          },
          "metadata": {
            "tags": []
          },
          "execution_count": 18
        }
      ]
    },
    {
      "cell_type": "markdown",
      "metadata": {
        "id": "0TRViclKL4-H"
      },
      "source": [
        "# คำสัง print แบบพิเศษ (การ format string)"
      ]
    },
    {
      "cell_type": "code",
      "metadata": {
        "colab": {
          "base_uri": "https://localhost:8080/"
        },
        "id": "BpJzsH3LL3uI",
        "outputId": "074860ae-9322-498a-93fc-a10a15d7f25e"
      },
      "source": [
        "print('ตัวแปร') #สิ่งที่อยู่ในวงเล็บคือ ตัวแปร และ string"
      ],
      "execution_count": 19,
      "outputs": [
        {
          "output_type": "stream",
          "text": [
            "ตัวแปร\n"
          ],
          "name": "stdout"
        }
      ]
    },
    {
      "cell_type": "code",
      "metadata": {
        "colab": {
          "base_uri": "https://localhost:8080/"
        },
        "id": "MP660RFgMc1J",
        "outputId": "45c8160d-deb3-4ef6-8de7-ac82c8834b71"
      },
      "source": [
        "print(f'% คือการหารเอาเศษ เช่น 7%3 = {7%3}')  # เพิ่ม f หน้า 'string'  และใช้ {} ใส่code"
      ],
      "execution_count": 20,
      "outputs": [
        {
          "output_type": "stream",
          "text": [
            "% คือการหารเอาเศษ เช่น 7%3 = 1\n"
          ],
          "name": "stdout"
        }
      ]
    },
    {
      "cell_type": "code",
      "metadata": {
        "id": "soWB5GLjM4W_",
        "colab": {
          "base_uri": "https://localhost:8080/"
        },
        "outputId": "c5dffae8-4e1a-4887-9e9f-ebddb2939db8"
      },
      "source": [
        "print(f' % คือการหารเอาเศษ เช่น 7%3 = {7%3} \\\r\n",
        "        แต่ \\n / คือการหารปกติ เช่น 7/3 = {7/3} \\\r\n",
        "        และ \\n // คือการหารเอาส่วน เช่น  7//3 = {7//3} \\\r\n",
        "        หรือ \\n ใช้ int() เพื่อหารเอาส่วน เช่น int(7/3) = {int(7/3)}') # \\n คือการขึ้นบรรทัดใหม่  \\ ใช้ในการตัด code แต่ com จะไม่เห็น"
      ],
      "execution_count": 21,
      "outputs": [
        {
          "output_type": "stream",
          "text": [
            " % คือการหารเอาเศษ เช่น 7%3 = 1         แต่ \n",
            " / คือการหารปกติ เช่น 7/3 = 2.3333333333333335         และ \n",
            " // คือการหารเอาส่วน เช่น  7//3 = 2         หรือ \n",
            " ใช้ int() เพื่อหารเอาส่วน เช่น int(7/3) = 2\n"
          ],
          "name": "stdout"
        }
      ]
    },
    {
      "cell_type": "code",
      "metadata": {
        "id": "-mXQxT2Qw5M_"
      },
      "source": [
        ""
      ],
      "execution_count": 21,
      "outputs": []
    },
    {
      "cell_type": "markdown",
      "metadata": {
        "id": "BzgwL90qxmHR"
      },
      "source": [
        "## DATA STRUCTURE (โครงสร้างข้อมูล)"
      ]
    },
    {
      "cell_type": "code",
      "metadata": {
        "colab": {
          "base_uri": "https://localhost:8080/"
        },
        "id": "zvpFHmNox6kY",
        "outputId": "33218755-8f02-4fd1-fe31-ca6b289c8c9b"
      },
      "source": [
        "[111, ' c ', ' งง ',aaa ]"
      ],
      "execution_count": 22,
      "outputs": [
        {
          "output_type": "execute_result",
          "data": {
            "text/plain": [
              "[111, ' c ', ' งง ', 1092]"
            ]
          },
          "metadata": {
            "tags": []
          },
          "execution_count": 22
        }
      ]
    },
    {
      "cell_type": "code",
      "metadata": {
        "id": "x2RTHVdTy5Ew"
      },
      "source": [
        ""
      ],
      "execution_count": 22,
      "outputs": []
    },
    {
      "cell_type": "markdown",
      "metadata": {
        "id": "5mjEujjJy673"
      },
      "source": [
        "# List คือ การเอาข้อมูลหลายๆตัวมาเรียงกัน"
      ]
    },
    {
      "cell_type": "markdown",
      "metadata": {
        "id": "x-j4YCz3zKZ6"
      },
      "source": [
        "# list สามารถสร้างได้ 2 แบบดังนี้"
      ]
    },
    {
      "cell_type": "markdown",
      "metadata": {
        "id": "D-RFl8NQzSt8"
      },
      "source": [
        "# แบบที่ 1> square brackets"
      ]
    },
    {
      "cell_type": "code",
      "metadata": {
        "colab": {
          "base_uri": "https://localhost:8080/"
        },
        "id": "uAEhygfqzFD0",
        "outputId": "0a96cca2-0040-4934-8e05-ed5f30dea122"
      },
      "source": [
        "list_a = []\r\n",
        "print(list_a)"
      ],
      "execution_count": 23,
      "outputs": [
        {
          "output_type": "stream",
          "text": [
            "[]\n"
          ],
          "name": "stdout"
        }
      ]
    },
    {
      "cell_type": "code",
      "metadata": {
        "colab": {
          "base_uri": "https://localhost:8080/"
        },
        "id": "5j9GxcwlzlKN",
        "outputId": "e46a9dc8-666f-46cf-a291-0ef5a22f4df8"
      },
      "source": [
        "list_b = [111, 'c', 'งง',aaa]\r\n",
        "print(list_b)"
      ],
      "execution_count": 24,
      "outputs": [
        {
          "output_type": "stream",
          "text": [
            "[111, 'c', 'งง', 1092]\n"
          ],
          "name": "stdout"
        }
      ]
    },
    {
      "cell_type": "markdown",
      "metadata": {
        "id": "Qgej-pu91d7E"
      },
      "source": [
        "# ลำดับที่อยู่ใน list มีความสำคัญ (ลำดับใน list เริ่มจาก  0,1,2,...)"
      ]
    },
    {
      "cell_type": "code",
      "metadata": {
        "colab": {
          "base_uri": "https://localhost:8080/",
          "height": 34
        },
        "id": "tmQIyx4A0FtY",
        "outputId": "a9270acb-233b-4090-9eae-9dabb8960441"
      },
      "source": [
        "list_b[2]"
      ],
      "execution_count": 25,
      "outputs": [
        {
          "output_type": "execute_result",
          "data": {
            "application/vnd.google.colaboratory.intrinsic+json": {
              "type": "string"
            },
            "text/plain": [
              "'งง'"
            ]
          },
          "metadata": {
            "tags": []
          },
          "execution_count": 25
        }
      ]
    },
    {
      "cell_type": "markdown",
      "metadata": {
        "id": "-Uy251lT1yTB"
      },
      "source": [
        "แบบที่ 2"
      ]
    },
    {
      "cell_type": "code",
      "metadata": {
        "colab": {
          "base_uri": "https://localhost:8080/"
        },
        "id": "0isMDNfG1wh2",
        "outputId": "08097248-b4fa-40f1-e6de-1b0c37f50819"
      },
      "source": [
        "list_c = list()\r\n",
        "print(list_c)"
      ],
      "execution_count": 26,
      "outputs": [
        {
          "output_type": "stream",
          "text": [
            "[]\n"
          ],
          "name": "stdout"
        }
      ]
    },
    {
      "cell_type": "markdown",
      "metadata": {
        "id": "OaBfzITm2BW-"
      },
      "source": [
        "# append() เพิ่มสามชิกใน list"
      ]
    },
    {
      "cell_type": "code",
      "metadata": {
        "colab": {
          "base_uri": "https://localhost:8080/"
        },
        "id": "gmTwnO_j1-dj",
        "outputId": "7ef63981-aba8-4bee-facd-c4b991e5c41b"
      },
      "source": [
        "list_b.append('u')\r\n",
        "print(list_b)"
      ],
      "execution_count": 27,
      "outputs": [
        {
          "output_type": "stream",
          "text": [
            "[111, 'c', 'งง', 1092, 'u']\n"
          ],
          "name": "stdout"
        }
      ]
    },
    {
      "cell_type": "markdown",
      "metadata": {
        "id": "JXsAkNHT2ZqO"
      },
      "source": [
        "ตัวที่อยู่ในวงเล็บหลังจากตัวแปร list เรียกว่า index ใช้สำหรับชี้ข้อมูลใน list\r\n"
      ]
    },
    {
      "cell_type": "markdown",
      "metadata": {
        "id": "ymjrvlbf3BRF"
      },
      "source": [
        "(ชี้จากข้างหน้า, ชี้ขากข้างหลัง)"
      ]
    },
    {
      "cell_type": "markdown",
      "metadata": {
        "id": "34mIAb4b3KFK"
      },
      "source": [
        "0 คือสมาชิกตัวแรก , -1 คือสมาชิกตัวสุดท้าย"
      ]
    },
    {
      "cell_type": "code",
      "metadata": {
        "colab": {
          "base_uri": "https://localhost:8080/",
          "height": 34
        },
        "id": "mbRVwKxY2YPL",
        "outputId": "a4e4f3db-843d-4018-ffa4-320a0177e38a"
      },
      "source": [
        "list_b[-1]"
      ],
      "execution_count": 28,
      "outputs": [
        {
          "output_type": "execute_result",
          "data": {
            "application/vnd.google.colaboratory.intrinsic+json": {
              "type": "string"
            },
            "text/plain": [
              "'u'"
            ]
          },
          "metadata": {
            "tags": []
          },
          "execution_count": 28
        }
      ]
    },
    {
      "cell_type": "code",
      "metadata": {
        "id": "NWrllV1C3VBN"
      },
      "source": [
        ""
      ],
      "execution_count": 28,
      "outputs": []
    },
    {
      "cell_type": "markdown",
      "metadata": {
        "id": "R1IgbEGJ3W-l"
      },
      "source": [
        "# String > list of characture"
      ]
    },
    {
      "cell_type": "code",
      "metadata": {
        "colab": {
          "base_uri": "https://localhost:8080/"
        },
        "id": "vEacRl283crM",
        "outputId": "1b240253-4a0c-4340-bae7-8b3096b1bc31"
      },
      "source": [
        "t = 'python is  difficult'\r\n",
        "print(t)"
      ],
      "execution_count": 29,
      "outputs": [
        {
          "output_type": "stream",
          "text": [
            "python is  difficult\n"
          ],
          "name": "stdout"
        }
      ]
    },
    {
      "cell_type": "code",
      "metadata": {
        "colab": {
          "base_uri": "https://localhost:8080/",
          "height": 34
        },
        "id": "pPyN7yiL3soe",
        "outputId": "7427bcf7-bc0a-42d2-da7b-04664d639e2e"
      },
      "source": [
        "t[1]"
      ],
      "execution_count": 30,
      "outputs": [
        {
          "output_type": "execute_result",
          "data": {
            "application/vnd.google.colaboratory.intrinsic+json": {
              "type": "string"
            },
            "text/plain": [
              "'y'"
            ]
          },
          "metadata": {
            "tags": []
          },
          "execution_count": 30
        }
      ]
    },
    {
      "cell_type": "code",
      "metadata": {
        "colab": {
          "base_uri": "https://localhost:8080/",
          "height": 34
        },
        "id": "oSaQJL7l3uoL",
        "outputId": "94d6f251-c03e-439b-ec61-1cd9a3ef2d57"
      },
      "source": [
        "t[-4]"
      ],
      "execution_count": 31,
      "outputs": [
        {
          "output_type": "execute_result",
          "data": {
            "application/vnd.google.colaboratory.intrinsic+json": {
              "type": "string"
            },
            "text/plain": [
              "'c'"
            ]
          },
          "metadata": {
            "tags": []
          },
          "execution_count": 31
        }
      ]
    },
    {
      "cell_type": "code",
      "metadata": {
        "colab": {
          "base_uri": "https://localhost:8080/",
          "height": 34
        },
        "id": "xjczGIRD3ydM",
        "outputId": "0dbf7ab1-3e75-4a88-eb9b-250270a57cfd"
      },
      "source": [
        "t[6]"
      ],
      "execution_count": 32,
      "outputs": [
        {
          "output_type": "execute_result",
          "data": {
            "application/vnd.google.colaboratory.intrinsic+json": {
              "type": "string"
            },
            "text/plain": [
              "' '"
            ]
          },
          "metadata": {
            "tags": []
          },
          "execution_count": 32
        }
      ]
    },
    {
      "cell_type": "markdown",
      "metadata": {
        "id": "r_qIxrWOsqF8"
      },
      "source": [
        "# คาบ 3 (11 มกราคม 2564)"
      ]
    },
    {
      "cell_type": "markdown",
      "metadata": {
        "id": "3kufC3QMtOxm"
      },
      "source": [
        "len คือ ตรวจสอบความยาวของ list"
      ]
    },
    {
      "cell_type": "code",
      "metadata": {
        "id": "Yk7n39Jps1VI",
        "colab": {
          "base_uri": "https://localhost:8080/"
        },
        "outputId": "9e6b94d7-0678-469d-b36b-b35819ce8501"
      },
      "source": [
        "len(t)"
      ],
      "execution_count": 33,
      "outputs": [
        {
          "output_type": "execute_result",
          "data": {
            "text/plain": [
              "20"
            ]
          },
          "metadata": {
            "tags": []
          },
          "execution_count": 33
        }
      ]
    },
    {
      "cell_type": "code",
      "metadata": {
        "id": "NmJHg4m6s-CV",
        "colab": {
          "base_uri": "https://localhost:8080/"
        },
        "outputId": "4b0f9811-402a-47d7-a32b-e3229239eb5e"
      },
      "source": [
        "len(list_b) # len คือคำสั่งตรวจสอบความยาวของ list (จำนวนสมาชิก)"
      ],
      "execution_count": 34,
      "outputs": [
        {
          "output_type": "execute_result",
          "data": {
            "text/plain": [
              "5"
            ]
          },
          "metadata": {
            "tags": []
          },
          "execution_count": 34
        }
      ]
    },
    {
      "cell_type": "code",
      "metadata": {
        "id": "E5FFQGwutUZW",
        "colab": {
          "base_uri": "https://localhost:8080/",
          "height": 34
        },
        "outputId": "1d1daae6-c040-4811-a6f9-daa6fd7f4a97"
      },
      "source": [
        "t[-4]"
      ],
      "execution_count": 35,
      "outputs": [
        {
          "output_type": "execute_result",
          "data": {
            "application/vnd.google.colaboratory.intrinsic+json": {
              "type": "string"
            },
            "text/plain": [
              "'c'"
            ]
          },
          "metadata": {
            "tags": []
          },
          "execution_count": 35
        }
      ]
    },
    {
      "cell_type": "code",
      "metadata": {
        "id": "BZHPk7rdtX2y",
        "colab": {
          "base_uri": "https://localhost:8080/"
        },
        "outputId": "e4a8cc85-b0cf-44db-fc41-dc18a28b1e68"
      },
      "source": [
        "list_b.append(t)\n",
        "print(list_b)"
      ],
      "execution_count": 36,
      "outputs": [
        {
          "output_type": "stream",
          "text": [
            "[111, 'c', 'งง', 1092, 'u', 'python is  difficult']\n"
          ],
          "name": "stdout"
        }
      ]
    },
    {
      "cell_type": "markdown",
      "metadata": {
        "id": "-DzGp5ZPnaqc"
      },
      "source": [
        "# ตัวที่อยู่ข้างใน [] เรียกว่า index (ตัวชี้วัด)"
      ]
    },
    {
      "cell_type": "markdown",
      "metadata": {
        "id": "rKiKLSFwoKG7"
      },
      "source": [
        "List slicing สามารถทำได้โดยใช้ colon :"
      ]
    },
    {
      "cell_type": "code",
      "metadata": {
        "id": "r-p6W8xV4E0W",
        "colab": {
          "base_uri": "https://localhost:8080/"
        },
        "outputId": "4b5518f6-ef03-476d-e8a6-562e7b3c9e54"
      },
      "source": [
        "print(t)\n",
        "print(t[7:9])\n",
        "print(len(t[7:9]))"
      ],
      "execution_count": 37,
      "outputs": [
        {
          "output_type": "stream",
          "text": [
            "python is  difficult\n",
            "is\n",
            "2\n"
          ],
          "name": "stdout"
        }
      ]
    },
    {
      "cell_type": "code",
      "metadata": {
        "id": "y_UU9l_xntGL",
        "colab": {
          "base_uri": "https://localhost:8080/",
          "height": 34
        },
        "outputId": "e4e7b555-677f-42e2-e44e-450d97f77600"
      },
      "source": [
        "t[0:20:2]"
      ],
      "execution_count": 38,
      "outputs": [
        {
          "output_type": "execute_result",
          "data": {
            "application/vnd.google.colaboratory.intrinsic+json": {
              "type": "string"
            },
            "text/plain": [
              "'pto s ifcl'"
            ]
          },
          "metadata": {
            "tags": []
          },
          "execution_count": 38
        }
      ]
    },
    {
      "cell_type": "markdown",
      "metadata": {
        "id": "oGxHE3J8nLOl"
      },
      "source": [
        "ถ้าเว้นว่างหน้า : หมายความว่า เริ่มตั้งแต่ตัวแรก"
      ]
    },
    {
      "cell_type": "markdown",
      "metadata": {
        "id": "lgWVXkcqn6_9"
      },
      "source": [
        "ถ้าเว้นว่างหลัง : หมายความว่า ไปจนถึงตัวสุดท้าย"
      ]
    },
    {
      "cell_type": "markdown",
      "metadata": {
        "id": "hbuhe71tpLdi"
      },
      "source": [
        "#quiz"
      ]
    },
    {
      "cell_type": "markdown",
      "metadata": {
        "id": "55dK_c8TpNsl"
      },
      "source": [
        "ให้ใช้ list slicing เลือกมาเฉพาะเลขคู่"
      ]
    },
    {
      "cell_type": "code",
      "metadata": {
        "id": "EMKNQQm_ohgI",
        "colab": {
          "base_uri": "https://localhost:8080/"
        },
        "outputId": "05cd7004-10a9-42b0-eb9a-b69151999c35"
      },
      "source": [
        "z = [1,2,3,4,5,6,7,8,9,10]\n",
        "print(z[1:10:2])"
      ],
      "execution_count": 39,
      "outputs": [
        {
          "output_type": "stream",
          "text": [
            "[2, 4, 6, 8, 10]\n"
          ],
          "name": "stdout"
        }
      ]
    },
    {
      "cell_type": "code",
      "metadata": {
        "id": "2mntrXHcol_L"
      },
      "source": [
        ""
      ],
      "execution_count": 39,
      "outputs": []
    },
    {
      "cell_type": "markdown",
      "metadata": {
        "id": "eE2z5epIpclE"
      },
      "source": [
        "ถ้าเว้นว่างหน้า : หมายความว่า เริ่มตั้งแต่ตัวแรก (0)"
      ]
    },
    {
      "cell_type": "markdown",
      "metadata": {
        "id": "j_lwuYfQppDG"
      },
      "source": [
        "ถ้าเว้นว่างหลัง : หมายความว่า ไปจนถึงตัวสุดท้าย (len(list))"
      ]
    },
    {
      "cell_type": "code",
      "metadata": {
        "id": "FKZ6dm_qrmVf",
        "colab": {
          "base_uri": "https://localhost:8080/"
        },
        "outputId": "d449f798-8a71-441a-c643-96667a66da64"
      },
      "source": [
        "print(t)\n",
        "print(t[:6])\n",
        "print(t[10:])\n",
        "print(t[-4:])\n",
        "print(t[:])"
      ],
      "execution_count": 40,
      "outputs": [
        {
          "output_type": "stream",
          "text": [
            "python is  difficult\n",
            "python\n",
            " difficult\n",
            "cult\n",
            "python is  difficult\n"
          ],
          "name": "stdout"
        }
      ]
    },
    {
      "cell_type": "code",
      "metadata": {
        "id": "C95yrCworyyH",
        "colab": {
          "base_uri": "https://localhost:8080/"
        },
        "outputId": "01ca3e49-26fa-496d-cf37-7af5b3624e70"
      },
      "source": [
        "print (z[::2])"
      ],
      "execution_count": 41,
      "outputs": [
        {
          "output_type": "stream",
          "text": [
            "[1, 3, 5, 7, 9]\n"
          ],
          "name": "stdout"
        }
      ]
    },
    {
      "cell_type": "markdown",
      "metadata": {
        "id": "sU0WLwsDr5G3"
      },
      "source": [
        "# เราสามารถ เอา list มาต่อกันได้ด้วย"
      ]
    },
    {
      "cell_type": "code",
      "metadata": {
        "id": "dRgGuuLEr4zQ",
        "colab": {
          "base_uri": "https://localhost:8080/",
          "height": 34
        },
        "outputId": "f6b7280c-3a06-4bb8-9bad-58780447b9fd"
      },
      "source": [
        "t + '??'"
      ],
      "execution_count": 42,
      "outputs": [
        {
          "output_type": "execute_result",
          "data": {
            "application/vnd.google.colaboratory.intrinsic+json": {
              "type": "string"
            },
            "text/plain": [
              "'python is  difficult??'"
            ]
          },
          "metadata": {
            "tags": []
          },
          "execution_count": 42
        }
      ]
    },
    {
      "cell_type": "code",
      "metadata": {
        "id": "5AisTragr3HO",
        "colab": {
          "base_uri": "https://localhost:8080/",
          "height": 164
        },
        "outputId": "13b79e55-b7cf-42d6-b3e1-64d609bf72e0"
      },
      "source": [
        "t + list_b ## ไม่สามารถเอา list ปกติมาต่อกับ string ได้"
      ],
      "execution_count": 43,
      "outputs": [
        {
          "output_type": "error",
          "ename": "TypeError",
          "evalue": "ignored",
          "traceback": [
            "\u001b[0;31m---------------------------------------------------------------------------\u001b[0m",
            "\u001b[0;31mTypeError\u001b[0m                                 Traceback (most recent call last)",
            "\u001b[0;32m<ipython-input-43-8ceeb7529eac>\u001b[0m in \u001b[0;36m<module>\u001b[0;34m()\u001b[0m\n\u001b[0;32m----> 1\u001b[0;31m \u001b[0mt\u001b[0m \u001b[0;34m+\u001b[0m \u001b[0mlist_b\u001b[0m \u001b[0;31m## ไม่สามารถเอา list ปกติมาต่อกับ string ได้\u001b[0m\u001b[0;34m\u001b[0m\u001b[0;34m\u001b[0m\u001b[0m\n\u001b[0m",
            "\u001b[0;31mTypeError\u001b[0m: must be str, not list"
          ]
        }
      ]
    },
    {
      "cell_type": "code",
      "metadata": {
        "id": "-tMhexUksZK9",
        "colab": {
          "base_uri": "https://localhost:8080/"
        },
        "outputId": "76f4bccd-2218-452f-fd80-42710aa9d35a"
      },
      "source": [
        "print(list_a)\n",
        "list_b = [111,'c']\n",
        "print(list_b)\n",
        "print(list_b + list_a)"
      ],
      "execution_count": 44,
      "outputs": [
        {
          "output_type": "stream",
          "text": [
            "[]\n",
            "[111, 'c']\n",
            "[111, 'c']\n"
          ],
          "name": "stdout"
        }
      ]
    },
    {
      "cell_type": "code",
      "metadata": {
        "id": "_vNdonNzsjrR",
        "colab": {
          "base_uri": "https://localhost:8080/"
        },
        "outputId": "0e611c17-a581-4b86-b9b5-0de3de3022c0"
      },
      "source": [
        "list_b.append(list_a)\n",
        "print(list_b)"
      ],
      "execution_count": 45,
      "outputs": [
        {
          "output_type": "stream",
          "text": [
            "[111, 'c', []]\n"
          ],
          "name": "stdout"
        }
      ]
    },
    {
      "cell_type": "markdown",
      "metadata": {
        "id": "VimsaYwct2SR"
      },
      "source": [
        "# การแบ่ง string ตามสัญลักษณ์ที่กำหนด -> split string"
      ]
    },
    {
      "cell_type": "code",
      "metadata": {
        "id": "IAr0H4a0uDbW",
        "colab": {
          "base_uri": "https://localhost:8080/",
          "height": 34
        },
        "outputId": "10b583e2-8076-4380-db31-b4bbfd87260c"
      },
      "source": [
        "t"
      ],
      "execution_count": 46,
      "outputs": [
        {
          "output_type": "execute_result",
          "data": {
            "application/vnd.google.colaboratory.intrinsic+json": {
              "type": "string"
            },
            "text/plain": [
              "'python is  difficult'"
            ]
          },
          "metadata": {
            "tags": []
          },
          "execution_count": 46
        }
      ]
    },
    {
      "cell_type": "code",
      "metadata": {
        "id": "sCOQXTJXuEZq",
        "colab": {
          "base_uri": "https://localhost:8080/"
        },
        "outputId": "f0fe884f-31b2-4d6a-9ff6-8d76dfdbe94a"
      },
      "source": [
        "t.split(' ')"
      ],
      "execution_count": 47,
      "outputs": [
        {
          "output_type": "execute_result",
          "data": {
            "text/plain": [
              "['python', 'is', '', 'difficult']"
            ]
          },
          "metadata": {
            "tags": []
          },
          "execution_count": 47
        }
      ]
    },
    {
      "cell_type": "code",
      "metadata": {
        "id": "Z0w9hf2Kuoay"
      },
      "source": [
        "time = '12:30:15'"
      ],
      "execution_count": 48,
      "outputs": []
    },
    {
      "cell_type": "markdown",
      "metadata": {
        "id": "DEtT_Ts8uuby"
      },
      "source": [
        "'ชั่วโมง:นาที:วินาที'"
      ]
    },
    {
      "cell_type": "code",
      "metadata": {
        "id": "dclcdZrrutNT",
        "colab": {
          "base_uri": "https://localhost:8080/"
        },
        "outputId": "09961385-faea-482d-846d-49d0a96b5c53"
      },
      "source": [
        "time.split(':')"
      ],
      "execution_count": 49,
      "outputs": [
        {
          "output_type": "execute_result",
          "data": {
            "text/plain": [
              "['12', '30', '15']"
            ]
          },
          "metadata": {
            "tags": []
          },
          "execution_count": 49
        }
      ]
    },
    {
      "cell_type": "code",
      "metadata": {
        "id": "1ku7sAbGu53v",
        "colab": {
          "base_uri": "https://localhost:8080/"
        },
        "outputId": "816777a1-24f8-4705-ed6a-23a55e10e5ea"
      },
      "source": [
        "t_sp = t.split(' ')\n",
        "print(t_sp)"
      ],
      "execution_count": 50,
      "outputs": [
        {
          "output_type": "stream",
          "text": [
            "['python', 'is', '', 'difficult']\n"
          ],
          "name": "stdout"
        }
      ]
    },
    {
      "cell_type": "code",
      "metadata": {
        "id": "N22fR7MGvCo3",
        "colab": {
          "base_uri": "https://localhost:8080/"
        },
        "outputId": "594e894c-b978-4268-da65-5d3edf9c4010"
      },
      "source": [
        "### วิธีรวมกลับ\n",
        "print(':'.join(t_sp))"
      ],
      "execution_count": 51,
      "outputs": [
        {
          "output_type": "stream",
          "text": [
            "python:is::difficult\n"
          ],
          "name": "stdout"
        }
      ]
    },
    {
      "cell_type": "markdown",
      "metadata": {
        "id": "XqtiCPhDjMgD"
      },
      "source": [
        "HW คำนวณเวลาเป็นวินาทีของเวลาต่อไปนี้โดยใช้คำสั่ง split () ช่วย (print ออกมาให้สวยงาม)\r\n",
        "12:30:15\r\n",
        "\r\n",
        "13:41:07\r\n",
        "\r\n",
        "12:53:15\r\n",
        "\r\n",
        "00:59:25\r\n",
        "\r\n",
        "11:11:11\r\n",
        "\r\n",
        "16:06:09\r\n",
        "\r\n",
        "21:12:30\r\n",
        "\r\n",
        "10:06:15\r\n",
        "\r\n",
        "ตัวอย่าง > 00:01:10 = 70 วินาที \\\r\n",
        "ตัวอย่าง > 01:00:01 = 3601 วินาที"
      ]
    },
    {
      "cell_type": "code",
      "metadata": {
        "id": "TV8_JzLjwXVf",
        "outputId": "1aea0e25-5026-4bed-d80c-205b33f0eb1d",
        "colab": {
          "base_uri": "https://localhost:8080/"
        }
      },
      "source": [
        "q1 = '12:30:15'\r\n",
        "q1.split(':')\r\n",
        "list_q1 = [12,30,15]\r\n",
        "hr = list_q1[0]*3600 #แปลงชั่วโมงเป็นวินาที\r\n",
        "mi = list_q1[1]*60   #แปลงนาทีเป็นวินาที\r\n",
        "s = list_q1[2]\r\n",
        "aq1 = hr+mi+s\r\n",
        "print(aq1)"
      ],
      "execution_count": 52,
      "outputs": [
        {
          "output_type": "stream",
          "text": [
            "45015\n"
          ],
          "name": "stdout"
        }
      ]
    },
    {
      "cell_type": "code",
      "metadata": {
        "id": "tqGtWufUjdFl",
        "outputId": "de848535-d038-451c-a161-6070f660c63a",
        "colab": {
          "base_uri": "https://localhost:8080/"
        }
      },
      "source": [
        "q2 = '13:41:07'\r\n",
        "q2.split(':')\r\n",
        "list_q2 = [13,41,7]\r\n",
        "hr2 = list_q2[0]*3600\r\n",
        "mi2 = list_q2[1]*60\r\n",
        "s2 = list_q2[2]\r\n",
        "aq2 = hr2+mi2+s2\r\n",
        "print(aq2)"
      ],
      "execution_count": 53,
      "outputs": [
        {
          "output_type": "stream",
          "text": [
            "49267\n"
          ],
          "name": "stdout"
        }
      ]
    },
    {
      "cell_type": "code",
      "metadata": {
        "id": "JR9qjLrwjfYA",
        "outputId": "8596f62a-e08c-4bd3-f2a5-87ca621f3c12",
        "colab": {
          "base_uri": "https://localhost:8080/"
        }
      },
      "source": [
        "q3 = '12:53:15'\r\n",
        "q3.split(':')\r\n",
        "list_q3 = [12,53,15]\r\n",
        "hr3 = list_q3[0]*3600\r\n",
        "mi3 = list_q3[1]*60\r\n",
        "s3 = list_q3[2]\r\n",
        "aq3 = hr3+mi3+s3\r\n",
        "print(aq3)"
      ],
      "execution_count": 54,
      "outputs": [
        {
          "output_type": "stream",
          "text": [
            "46395\n"
          ],
          "name": "stdout"
        }
      ]
    },
    {
      "cell_type": "code",
      "metadata": {
        "id": "REhlKBwFjjA9",
        "outputId": "132b2a41-c4fa-490b-d968-b28c62dddac9",
        "colab": {
          "base_uri": "https://localhost:8080/"
        }
      },
      "source": [
        "q4 = '00:59:25'\r\n",
        "q4.split(':')\r\n",
        "list_q4 = [00,59,25]\r\n",
        "hr4 = list_q4[0]*3600\r\n",
        "mi4 = list_q4[1]*60\r\n",
        "s4 = list_q4[2]\r\n",
        "aq4 = hr4+mi4+s4\r\n",
        "print(aq4)"
      ],
      "execution_count": 55,
      "outputs": [
        {
          "output_type": "stream",
          "text": [
            "3565\n"
          ],
          "name": "stdout"
        }
      ]
    },
    {
      "cell_type": "code",
      "metadata": {
        "id": "lUVuUvJojlHJ",
        "outputId": "3fce5ab5-76d5-49cc-e6bc-43970e39ae2a",
        "colab": {
          "base_uri": "https://localhost:8080/"
        }
      },
      "source": [
        "q5 = '11:11:11'\r\n",
        "q5.split(':')\r\n",
        "list_q5 = [11,11,11]\r\n",
        "hr5 = list_q5[0]*3600\r\n",
        "mi5 = list_q5[1]*60\r\n",
        "s5 = list_q5[2]\r\n",
        "aq5 = hr5+mi5+s5\r\n",
        "print(aq5)"
      ],
      "execution_count": 56,
      "outputs": [
        {
          "output_type": "stream",
          "text": [
            "40271\n"
          ],
          "name": "stdout"
        }
      ]
    },
    {
      "cell_type": "code",
      "metadata": {
        "id": "7BieNhbvjoKI",
        "outputId": "e8b6b46c-fe09-4f53-9ee9-519c1d75a632",
        "colab": {
          "base_uri": "https://localhost:8080/"
        }
      },
      "source": [
        "q6 = '16:06:09'\r\n",
        "q6.split(':')\r\n",
        "list_q6 = [16,6,9]\r\n",
        "hr6 = list_q6[0]*3600\r\n",
        "mi6 = list_q6[1]*60\r\n",
        "s6 = list_q6[2]\r\n",
        "aq6 = hr6+mi6+s6\r\n",
        "print(aq6)"
      ],
      "execution_count": 57,
      "outputs": [
        {
          "output_type": "stream",
          "text": [
            "57969\n"
          ],
          "name": "stdout"
        }
      ]
    },
    {
      "cell_type": "code",
      "metadata": {
        "id": "ZxUtyT05jxQi",
        "outputId": "ba27f6b5-9520-43a8-ab78-3d858954925f",
        "colab": {
          "base_uri": "https://localhost:8080/"
        }
      },
      "source": [
        "q7 = '21:12:30'\r\n",
        "q7.split(':')\r\n",
        "list_q7 = [21,12,30]\r\n",
        "hr7 = list_q7[0]*3600\r\n",
        "mi7 = list_q7[1]*60\r\n",
        "s7 = list_q7[2]\r\n",
        "aq7 = hr7+mi7+s7\r\n",
        "print(aq7)"
      ],
      "execution_count": 59,
      "outputs": [
        {
          "output_type": "stream",
          "text": [
            "76350\n"
          ],
          "name": "stdout"
        }
      ]
    },
    {
      "cell_type": "code",
      "metadata": {
        "id": "pKIUjRnEjqbA",
        "outputId": "fe83140c-281d-49b7-c112-ebb1849bd7b5",
        "colab": {
          "base_uri": "https://localhost:8080/"
        }
      },
      "source": [
        "q8 = '10:06:15'\r\n",
        "q8.split(':')\r\n",
        "list_q8 = [10,6,15]\r\n",
        "hr8 = list_q8[0]*3600\r\n",
        "mi8 = list_q8[1]*60\r\n",
        "s8 = list_q8[2]\r\n",
        "aq8 = hr8+mi8+s8\r\n",
        "print(aq8)"
      ],
      "execution_count": 58,
      "outputs": [
        {
          "output_type": "stream",
          "text": [
            "36375\n"
          ],
          "name": "stdout"
        }
      ]
    },
    {
      "cell_type": "markdown",
      "metadata": {
        "id": "GUWgImZVj3Hq"
      },
      "source": [
        "ทำการบ้านเสร็จแล้ว 12 Jan 2021"
      ]
    },
    {
      "cell_type": "code",
      "metadata": {
        "id": "Wgj169oRjwSS"
      },
      "source": [
        ""
      ],
      "execution_count": null,
      "outputs": []
    }
  ]
}