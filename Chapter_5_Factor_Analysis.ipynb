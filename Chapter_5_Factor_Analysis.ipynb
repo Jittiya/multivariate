{
  "nbformat": 4,
  "nbformat_minor": 0,
  "metadata": {
    "colab": {
      "name": "Chapter 5 Factor Analysis.ipynb",
      "provenance": [],
      "authorship_tag": "ABX9TyPzOWDKw6puGOoL5g7co8Wq",
      "include_colab_link": true
    },
    "kernelspec": {
      "name": "python3",
      "display_name": "Python 3"
    },
    "language_info": {
      "name": "python"
    }
  },
  "cells": [
    {
      "cell_type": "markdown",
      "metadata": {
        "id": "view-in-github",
        "colab_type": "text"
      },
      "source": [
        "<a href=\"https://colab.research.google.com/github/Jittiya/multivariate/blob/main/Chapter_5_Factor_Analysis.ipynb\" target=\"_parent\"><img src=\"https://colab.research.google.com/assets/colab-badge.svg\" alt=\"Open In Colab\"/></a>"
      ]
    },
    {
      "cell_type": "markdown",
      "metadata": {
        "id": "9haYekROE0Js"
      },
      "source": [
        "https://www.datacamp.com/community/tutorials/introduction-factor-analysis?fbclid=IwAR0i1h5xhdJLGhJ3Pty5JieF47lablYiHAD4q16OIHGhsCIEGUQJGT4-DeE"
      ]
    },
    {
      "cell_type": "markdown",
      "metadata": {
        "id": "hmVn2P2DGRr1"
      },
      "source": [
        "Assumptions:"
      ]
    },
    {
      "cell_type": "code",
      "metadata": {
        "id": "iUZTqa_kDNkz"
      },
      "source": [
        "import pandas as pd"
      ],
      "execution_count": 171,
      "outputs": []
    },
    {
      "cell_type": "code",
      "metadata": {
        "colab": {
          "base_uri": "https://localhost:8080/",
          "height": 241
        },
        "id": "q9G27XwIGXOj",
        "outputId": "d2d05564-ebca-4e52-87fe-83864db289e7"
      },
      "source": [
        "BFI_data = pd.read_csv('/content/bfi.csv')\n",
        "BFI_data.head()"
      ],
      "execution_count": 172,
      "outputs": [
        {
          "output_type": "execute_result",
          "data": {
            "text/html": [
              "<div>\n",
              "<style scoped>\n",
              "    .dataframe tbody tr th:only-of-type {\n",
              "        vertical-align: middle;\n",
              "    }\n",
              "\n",
              "    .dataframe tbody tr th {\n",
              "        vertical-align: top;\n",
              "    }\n",
              "\n",
              "    .dataframe thead th {\n",
              "        text-align: right;\n",
              "    }\n",
              "</style>\n",
              "<table border=\"1\" class=\"dataframe\">\n",
              "  <thead>\n",
              "    <tr style=\"text-align: right;\">\n",
              "      <th></th>\n",
              "      <th>Unnamed: 0</th>\n",
              "      <th>A1</th>\n",
              "      <th>A2</th>\n",
              "      <th>A3</th>\n",
              "      <th>A4</th>\n",
              "      <th>A5</th>\n",
              "      <th>C1</th>\n",
              "      <th>C2</th>\n",
              "      <th>C3</th>\n",
              "      <th>C4</th>\n",
              "      <th>C5</th>\n",
              "      <th>E1</th>\n",
              "      <th>E2</th>\n",
              "      <th>E3</th>\n",
              "      <th>E4</th>\n",
              "      <th>E5</th>\n",
              "      <th>N1</th>\n",
              "      <th>N2</th>\n",
              "      <th>N3</th>\n",
              "      <th>N4</th>\n",
              "      <th>N5</th>\n",
              "      <th>O1</th>\n",
              "      <th>O2</th>\n",
              "      <th>O3</th>\n",
              "      <th>O4</th>\n",
              "      <th>O5</th>\n",
              "      <th>gender</th>\n",
              "      <th>education</th>\n",
              "      <th>age</th>\n",
              "    </tr>\n",
              "  </thead>\n",
              "  <tbody>\n",
              "    <tr>\n",
              "      <th>0</th>\n",
              "      <td>61617</td>\n",
              "      <td>2.0</td>\n",
              "      <td>4.0</td>\n",
              "      <td>3.0</td>\n",
              "      <td>4.0</td>\n",
              "      <td>4.0</td>\n",
              "      <td>2.0</td>\n",
              "      <td>3.0</td>\n",
              "      <td>3.0</td>\n",
              "      <td>4.0</td>\n",
              "      <td>4.0</td>\n",
              "      <td>3.0</td>\n",
              "      <td>3.0</td>\n",
              "      <td>3.0</td>\n",
              "      <td>4.0</td>\n",
              "      <td>4.0</td>\n",
              "      <td>3.0</td>\n",
              "      <td>4.0</td>\n",
              "      <td>2.0</td>\n",
              "      <td>2.0</td>\n",
              "      <td>3.0</td>\n",
              "      <td>3.0</td>\n",
              "      <td>6</td>\n",
              "      <td>3.0</td>\n",
              "      <td>4.0</td>\n",
              "      <td>3.0</td>\n",
              "      <td>1</td>\n",
              "      <td>NaN</td>\n",
              "      <td>16</td>\n",
              "    </tr>\n",
              "    <tr>\n",
              "      <th>1</th>\n",
              "      <td>61618</td>\n",
              "      <td>2.0</td>\n",
              "      <td>4.0</td>\n",
              "      <td>5.0</td>\n",
              "      <td>2.0</td>\n",
              "      <td>5.0</td>\n",
              "      <td>5.0</td>\n",
              "      <td>4.0</td>\n",
              "      <td>4.0</td>\n",
              "      <td>3.0</td>\n",
              "      <td>4.0</td>\n",
              "      <td>1.0</td>\n",
              "      <td>1.0</td>\n",
              "      <td>6.0</td>\n",
              "      <td>4.0</td>\n",
              "      <td>3.0</td>\n",
              "      <td>3.0</td>\n",
              "      <td>3.0</td>\n",
              "      <td>3.0</td>\n",
              "      <td>5.0</td>\n",
              "      <td>5.0</td>\n",
              "      <td>4.0</td>\n",
              "      <td>2</td>\n",
              "      <td>4.0</td>\n",
              "      <td>3.0</td>\n",
              "      <td>3.0</td>\n",
              "      <td>2</td>\n",
              "      <td>NaN</td>\n",
              "      <td>18</td>\n",
              "    </tr>\n",
              "    <tr>\n",
              "      <th>2</th>\n",
              "      <td>61620</td>\n",
              "      <td>5.0</td>\n",
              "      <td>4.0</td>\n",
              "      <td>5.0</td>\n",
              "      <td>4.0</td>\n",
              "      <td>4.0</td>\n",
              "      <td>4.0</td>\n",
              "      <td>5.0</td>\n",
              "      <td>4.0</td>\n",
              "      <td>2.0</td>\n",
              "      <td>5.0</td>\n",
              "      <td>2.0</td>\n",
              "      <td>4.0</td>\n",
              "      <td>4.0</td>\n",
              "      <td>4.0</td>\n",
              "      <td>5.0</td>\n",
              "      <td>4.0</td>\n",
              "      <td>5.0</td>\n",
              "      <td>4.0</td>\n",
              "      <td>2.0</td>\n",
              "      <td>3.0</td>\n",
              "      <td>4.0</td>\n",
              "      <td>2</td>\n",
              "      <td>5.0</td>\n",
              "      <td>5.0</td>\n",
              "      <td>2.0</td>\n",
              "      <td>2</td>\n",
              "      <td>NaN</td>\n",
              "      <td>17</td>\n",
              "    </tr>\n",
              "    <tr>\n",
              "      <th>3</th>\n",
              "      <td>61621</td>\n",
              "      <td>4.0</td>\n",
              "      <td>4.0</td>\n",
              "      <td>6.0</td>\n",
              "      <td>5.0</td>\n",
              "      <td>5.0</td>\n",
              "      <td>4.0</td>\n",
              "      <td>4.0</td>\n",
              "      <td>3.0</td>\n",
              "      <td>5.0</td>\n",
              "      <td>5.0</td>\n",
              "      <td>5.0</td>\n",
              "      <td>3.0</td>\n",
              "      <td>4.0</td>\n",
              "      <td>4.0</td>\n",
              "      <td>4.0</td>\n",
              "      <td>2.0</td>\n",
              "      <td>5.0</td>\n",
              "      <td>2.0</td>\n",
              "      <td>4.0</td>\n",
              "      <td>1.0</td>\n",
              "      <td>3.0</td>\n",
              "      <td>3</td>\n",
              "      <td>4.0</td>\n",
              "      <td>3.0</td>\n",
              "      <td>5.0</td>\n",
              "      <td>2</td>\n",
              "      <td>NaN</td>\n",
              "      <td>17</td>\n",
              "    </tr>\n",
              "    <tr>\n",
              "      <th>4</th>\n",
              "      <td>61622</td>\n",
              "      <td>2.0</td>\n",
              "      <td>3.0</td>\n",
              "      <td>3.0</td>\n",
              "      <td>4.0</td>\n",
              "      <td>5.0</td>\n",
              "      <td>4.0</td>\n",
              "      <td>4.0</td>\n",
              "      <td>5.0</td>\n",
              "      <td>3.0</td>\n",
              "      <td>2.0</td>\n",
              "      <td>2.0</td>\n",
              "      <td>2.0</td>\n",
              "      <td>5.0</td>\n",
              "      <td>4.0</td>\n",
              "      <td>5.0</td>\n",
              "      <td>2.0</td>\n",
              "      <td>3.0</td>\n",
              "      <td>4.0</td>\n",
              "      <td>4.0</td>\n",
              "      <td>3.0</td>\n",
              "      <td>3.0</td>\n",
              "      <td>3</td>\n",
              "      <td>4.0</td>\n",
              "      <td>3.0</td>\n",
              "      <td>3.0</td>\n",
              "      <td>1</td>\n",
              "      <td>NaN</td>\n",
              "      <td>17</td>\n",
              "    </tr>\n",
              "  </tbody>\n",
              "</table>\n",
              "</div>"
            ],
            "text/plain": [
              "   Unnamed: 0   A1   A2   A3   A4   A5  ...   O3   O4   O5  gender  education  age\n",
              "0       61617  2.0  4.0  3.0  4.0  4.0  ...  3.0  4.0  3.0       1        NaN   16\n",
              "1       61618  2.0  4.0  5.0  2.0  5.0  ...  4.0  3.0  3.0       2        NaN   18\n",
              "2       61620  5.0  4.0  5.0  4.0  4.0  ...  5.0  5.0  2.0       2        NaN   17\n",
              "3       61621  4.0  4.0  6.0  5.0  5.0  ...  4.0  3.0  5.0       2        NaN   17\n",
              "4       61622  2.0  3.0  3.0  4.0  5.0  ...  4.0  3.0  3.0       1        NaN   17\n",
              "\n",
              "[5 rows x 29 columns]"
            ]
          },
          "metadata": {
            "tags": []
          },
          "execution_count": 172
        }
      ]
    },
    {
      "cell_type": "code",
      "metadata": {
        "id": "TcX6GkYE0oM5"
      },
      "source": [
        ""
      ],
      "execution_count": 172,
      "outputs": []
    },
    {
      "cell_type": "markdown",
      "metadata": {
        "id": "XECTzyU4IkCi"
      },
      "source": [
        "##Factor Analysis'\n",
        "\n",
        "##Assumption:\n",
        "\n",
        "ในข้อมูล multivariate ที่มีตัวแปร observe variables จำนวน n ตัว\n",
        "\n",
        "มีตัวแปร Factor (Latent Variables) จำนวน k ตัว ที่สามารถอธิบายข้อมูลทั้งหมดได้\n",
        "\n",
        "โดย k < n\n",
        "\n",
        "![image.png](data:image/png;base64,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)"
      ]
    },
    {
      "cell_type": "markdown",
      "metadata": {
        "id": "NHPRM3bvMV6E"
      },
      "source": [
        ""
      ]
    },
    {
      "cell_type": "markdown",
      "metadata": {
        "id": "bf-jAV38LCib"
      },
      "source": [
        "# Assumptions ในการทำ Factor Analysis:\n",
        "\n",
        "* There are no outliers in data.\n",
        "\n",
        "* Sample size should be greater than the factor.\n",
        "\n",
        "* There should not be  *** perfect multicollinearity*** \n",
        "\n",
        "* There should not be ***homoscedasticity*** between the variables."
      ]
    },
    {
      "cell_type": "markdown",
      "metadata": {
        "id": "1toi0mm3OlCR"
      },
      "source": [
        "การกระจายของข้อมูล\n",
        "\n",
        "![image.png](data:image/png;base64,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)"
      ]
    },
    {
      "cell_type": "markdown",
      "metadata": {
        "id": "VphV1bS-RLPG"
      },
      "source": [
        "การทำ Factor Analysis มีประโยชน์ 2 อันดับ คือ\n",
        "\n",
        "    1. Confirmatory\n",
        "    2. Exploratory"
      ]
    },
    {
      "cell_type": "markdown",
      "metadata": {
        "id": "PSo8xeHuOyM5"
      },
      "source": [
        "## การทำ Factor Analysis"
      ]
    },
    {
      "cell_type": "code",
      "metadata": {
        "id": "-ZbJ-FYSOsfp"
      },
      "source": [
        "from factor_analyzer import FactorAnalyzer\n",
        "import matplotlib.pyplot as plt\n",
        "\n",
        "#ตอนแรกมันจะ error ว่า No module named 'factor_analyzer'"
      ],
      "execution_count": 173,
      "outputs": []
    },
    {
      "cell_type": "markdown",
      "metadata": {
        "id": "xH1RZTF2PxNb"
      },
      "source": [
        "แก้ไข error No module named 'factor_analyzer'\n",
        "\n",
        "ด้วย !pip install factor_analyzer"
      ]
    },
    {
      "cell_type": "markdown",
      "metadata": {
        "id": "1Qep9Z7LQD1w"
      },
      "source": [
        "วิธี install package อื่นๆ"
      ]
    },
    {
      "cell_type": "code",
      "metadata": {
        "colab": {
          "base_uri": "https://localhost:8080/"
        },
        "id": "S2MTyrb3Gtx1",
        "outputId": "b6f3aff8-93a3-41e4-ac4c-2e14725d4500"
      },
      "source": [
        "!pip install factor_analyzer"
      ],
      "execution_count": 174,
      "outputs": [
        {
          "output_type": "stream",
          "text": [
            "Requirement already satisfied: factor_analyzer in /usr/local/lib/python3.7/dist-packages (0.3.2)\n",
            "Requirement already satisfied: scipy in /usr/local/lib/python3.7/dist-packages (from factor_analyzer) (1.4.1)\n",
            "Requirement already satisfied: pandas in /usr/local/lib/python3.7/dist-packages (from factor_analyzer) (1.1.5)\n",
            "Requirement already satisfied: numpy in /usr/local/lib/python3.7/dist-packages (from factor_analyzer) (1.19.5)\n",
            "Requirement already satisfied: scikit-learn in /usr/local/lib/python3.7/dist-packages (from factor_analyzer) (0.22.2.post1)\n",
            "Requirement already satisfied: pytz>=2017.2 in /usr/local/lib/python3.7/dist-packages (from pandas->factor_analyzer) (2018.9)\n",
            "Requirement already satisfied: python-dateutil>=2.7.3 in /usr/local/lib/python3.7/dist-packages (from pandas->factor_analyzer) (2.8.1)\n",
            "Requirement already satisfied: joblib>=0.11 in /usr/local/lib/python3.7/dist-packages (from scikit-learn->factor_analyzer) (1.0.1)\n",
            "Requirement already satisfied: six>=1.5 in /usr/local/lib/python3.7/dist-packages (from python-dateutil>=2.7.3->pandas->factor_analyzer) (1.15.0)\n"
          ],
          "name": "stdout"
        }
      ]
    },
    {
      "cell_type": "code",
      "metadata": {
        "id": "98Y1EI11QAO4"
      },
      "source": [
        "from factor_analyzer import FactorAnalyzer\n",
        "import matplotlib.pyplot as plt    # = from matplotlib import pyplot as plt"
      ],
      "execution_count": 175,
      "outputs": []
    },
    {
      "cell_type": "markdown",
      "metadata": {
        "id": "r7VAQ7lJS33B"
      },
      "source": [
        "## Quiz 5 เลือกข้อมูลมาเฉพาะ a1,a2,a3,...,o3,o4,o5 ด้วยคำสั่ง  ``` .iloc[] ```\n",
        "\n"
      ]
    },
    {
      "cell_type": "code",
      "metadata": {
        "colab": {
          "base_uri": "https://localhost:8080/"
        },
        "id": "Mu57kFWlSedb",
        "outputId": "54558cdf-e81d-4adc-e9f8-6d068a0adc8e"
      },
      "source": [
        "BFI_data_dropped = BFI_data.iloc[:,26]\n",
        "BFI_data_dropped"
      ],
      "execution_count": 176,
      "outputs": [
        {
          "output_type": "execute_result",
          "data": {
            "text/plain": [
              "0       1\n",
              "1       2\n",
              "2       2\n",
              "3       2\n",
              "4       1\n",
              "       ..\n",
              "2795    1\n",
              "2796    1\n",
              "2797    2\n",
              "2798    1\n",
              "2799    2\n",
              "Name: gender, Length: 2800, dtype: int64"
            ]
          },
          "metadata": {
            "tags": []
          },
          "execution_count": 176
        }
      ]
    },
    {
      "cell_type": "code",
      "metadata": {
        "colab": {
          "base_uri": "https://localhost:8080/",
          "height": 419
        },
        "id": "bj1yn1L0yUy7",
        "outputId": "c9bf8e68-298f-446f-d73d-c829dcd9292e"
      },
      "source": [
        "## เฉลย\n",
        "BFI_data_dropped = BFI_data.iloc[:,1:-3]\n",
        "BFI_data_dropped"
      ],
      "execution_count": 177,
      "outputs": [
        {
          "output_type": "execute_result",
          "data": {
            "text/html": [
              "<div>\n",
              "<style scoped>\n",
              "    .dataframe tbody tr th:only-of-type {\n",
              "        vertical-align: middle;\n",
              "    }\n",
              "\n",
              "    .dataframe tbody tr th {\n",
              "        vertical-align: top;\n",
              "    }\n",
              "\n",
              "    .dataframe thead th {\n",
              "        text-align: right;\n",
              "    }\n",
              "</style>\n",
              "<table border=\"1\" class=\"dataframe\">\n",
              "  <thead>\n",
              "    <tr style=\"text-align: right;\">\n",
              "      <th></th>\n",
              "      <th>A1</th>\n",
              "      <th>A2</th>\n",
              "      <th>A3</th>\n",
              "      <th>A4</th>\n",
              "      <th>A5</th>\n",
              "      <th>C1</th>\n",
              "      <th>C2</th>\n",
              "      <th>C3</th>\n",
              "      <th>C4</th>\n",
              "      <th>C5</th>\n",
              "      <th>E1</th>\n",
              "      <th>E2</th>\n",
              "      <th>E3</th>\n",
              "      <th>E4</th>\n",
              "      <th>E5</th>\n",
              "      <th>N1</th>\n",
              "      <th>N2</th>\n",
              "      <th>N3</th>\n",
              "      <th>N4</th>\n",
              "      <th>N5</th>\n",
              "      <th>O1</th>\n",
              "      <th>O2</th>\n",
              "      <th>O3</th>\n",
              "      <th>O4</th>\n",
              "      <th>O5</th>\n",
              "    </tr>\n",
              "  </thead>\n",
              "  <tbody>\n",
              "    <tr>\n",
              "      <th>0</th>\n",
              "      <td>2.0</td>\n",
              "      <td>4.0</td>\n",
              "      <td>3.0</td>\n",
              "      <td>4.0</td>\n",
              "      <td>4.0</td>\n",
              "      <td>2.0</td>\n",
              "      <td>3.0</td>\n",
              "      <td>3.0</td>\n",
              "      <td>4.0</td>\n",
              "      <td>4.0</td>\n",
              "      <td>3.0</td>\n",
              "      <td>3.0</td>\n",
              "      <td>3.0</td>\n",
              "      <td>4.0</td>\n",
              "      <td>4.0</td>\n",
              "      <td>3.0</td>\n",
              "      <td>4.0</td>\n",
              "      <td>2.0</td>\n",
              "      <td>2.0</td>\n",
              "      <td>3.0</td>\n",
              "      <td>3.0</td>\n",
              "      <td>6</td>\n",
              "      <td>3.0</td>\n",
              "      <td>4.0</td>\n",
              "      <td>3.0</td>\n",
              "    </tr>\n",
              "    <tr>\n",
              "      <th>1</th>\n",
              "      <td>2.0</td>\n",
              "      <td>4.0</td>\n",
              "      <td>5.0</td>\n",
              "      <td>2.0</td>\n",
              "      <td>5.0</td>\n",
              "      <td>5.0</td>\n",
              "      <td>4.0</td>\n",
              "      <td>4.0</td>\n",
              "      <td>3.0</td>\n",
              "      <td>4.0</td>\n",
              "      <td>1.0</td>\n",
              "      <td>1.0</td>\n",
              "      <td>6.0</td>\n",
              "      <td>4.0</td>\n",
              "      <td>3.0</td>\n",
              "      <td>3.0</td>\n",
              "      <td>3.0</td>\n",
              "      <td>3.0</td>\n",
              "      <td>5.0</td>\n",
              "      <td>5.0</td>\n",
              "      <td>4.0</td>\n",
              "      <td>2</td>\n",
              "      <td>4.0</td>\n",
              "      <td>3.0</td>\n",
              "      <td>3.0</td>\n",
              "    </tr>\n",
              "    <tr>\n",
              "      <th>2</th>\n",
              "      <td>5.0</td>\n",
              "      <td>4.0</td>\n",
              "      <td>5.0</td>\n",
              "      <td>4.0</td>\n",
              "      <td>4.0</td>\n",
              "      <td>4.0</td>\n",
              "      <td>5.0</td>\n",
              "      <td>4.0</td>\n",
              "      <td>2.0</td>\n",
              "      <td>5.0</td>\n",
              "      <td>2.0</td>\n",
              "      <td>4.0</td>\n",
              "      <td>4.0</td>\n",
              "      <td>4.0</td>\n",
              "      <td>5.0</td>\n",
              "      <td>4.0</td>\n",
              "      <td>5.0</td>\n",
              "      <td>4.0</td>\n",
              "      <td>2.0</td>\n",
              "      <td>3.0</td>\n",
              "      <td>4.0</td>\n",
              "      <td>2</td>\n",
              "      <td>5.0</td>\n",
              "      <td>5.0</td>\n",
              "      <td>2.0</td>\n",
              "    </tr>\n",
              "    <tr>\n",
              "      <th>3</th>\n",
              "      <td>4.0</td>\n",
              "      <td>4.0</td>\n",
              "      <td>6.0</td>\n",
              "      <td>5.0</td>\n",
              "      <td>5.0</td>\n",
              "      <td>4.0</td>\n",
              "      <td>4.0</td>\n",
              "      <td>3.0</td>\n",
              "      <td>5.0</td>\n",
              "      <td>5.0</td>\n",
              "      <td>5.0</td>\n",
              "      <td>3.0</td>\n",
              "      <td>4.0</td>\n",
              "      <td>4.0</td>\n",
              "      <td>4.0</td>\n",
              "      <td>2.0</td>\n",
              "      <td>5.0</td>\n",
              "      <td>2.0</td>\n",
              "      <td>4.0</td>\n",
              "      <td>1.0</td>\n",
              "      <td>3.0</td>\n",
              "      <td>3</td>\n",
              "      <td>4.0</td>\n",
              "      <td>3.0</td>\n",
              "      <td>5.0</td>\n",
              "    </tr>\n",
              "    <tr>\n",
              "      <th>4</th>\n",
              "      <td>2.0</td>\n",
              "      <td>3.0</td>\n",
              "      <td>3.0</td>\n",
              "      <td>4.0</td>\n",
              "      <td>5.0</td>\n",
              "      <td>4.0</td>\n",
              "      <td>4.0</td>\n",
              "      <td>5.0</td>\n",
              "      <td>3.0</td>\n",
              "      <td>2.0</td>\n",
              "      <td>2.0</td>\n",
              "      <td>2.0</td>\n",
              "      <td>5.0</td>\n",
              "      <td>4.0</td>\n",
              "      <td>5.0</td>\n",
              "      <td>2.0</td>\n",
              "      <td>3.0</td>\n",
              "      <td>4.0</td>\n",
              "      <td>4.0</td>\n",
              "      <td>3.0</td>\n",
              "      <td>3.0</td>\n",
              "      <td>3</td>\n",
              "      <td>4.0</td>\n",
              "      <td>3.0</td>\n",
              "      <td>3.0</td>\n",
              "    </tr>\n",
              "    <tr>\n",
              "      <th>...</th>\n",
              "      <td>...</td>\n",
              "      <td>...</td>\n",
              "      <td>...</td>\n",
              "      <td>...</td>\n",
              "      <td>...</td>\n",
              "      <td>...</td>\n",
              "      <td>...</td>\n",
              "      <td>...</td>\n",
              "      <td>...</td>\n",
              "      <td>...</td>\n",
              "      <td>...</td>\n",
              "      <td>...</td>\n",
              "      <td>...</td>\n",
              "      <td>...</td>\n",
              "      <td>...</td>\n",
              "      <td>...</td>\n",
              "      <td>...</td>\n",
              "      <td>...</td>\n",
              "      <td>...</td>\n",
              "      <td>...</td>\n",
              "      <td>...</td>\n",
              "      <td>...</td>\n",
              "      <td>...</td>\n",
              "      <td>...</td>\n",
              "      <td>...</td>\n",
              "    </tr>\n",
              "    <tr>\n",
              "      <th>2795</th>\n",
              "      <td>6.0</td>\n",
              "      <td>1.0</td>\n",
              "      <td>3.0</td>\n",
              "      <td>3.0</td>\n",
              "      <td>3.0</td>\n",
              "      <td>6.0</td>\n",
              "      <td>6.0</td>\n",
              "      <td>6.0</td>\n",
              "      <td>1.0</td>\n",
              "      <td>1.0</td>\n",
              "      <td>1.0</td>\n",
              "      <td>4.0</td>\n",
              "      <td>5.0</td>\n",
              "      <td>5.0</td>\n",
              "      <td>6.0</td>\n",
              "      <td>1.0</td>\n",
              "      <td>1.0</td>\n",
              "      <td>1.0</td>\n",
              "      <td>NaN</td>\n",
              "      <td>1.0</td>\n",
              "      <td>6.0</td>\n",
              "      <td>1</td>\n",
              "      <td>6.0</td>\n",
              "      <td>6.0</td>\n",
              "      <td>1.0</td>\n",
              "    </tr>\n",
              "    <tr>\n",
              "      <th>2796</th>\n",
              "      <td>2.0</td>\n",
              "      <td>4.0</td>\n",
              "      <td>4.0</td>\n",
              "      <td>3.0</td>\n",
              "      <td>5.0</td>\n",
              "      <td>2.0</td>\n",
              "      <td>3.0</td>\n",
              "      <td>4.0</td>\n",
              "      <td>4.0</td>\n",
              "      <td>3.0</td>\n",
              "      <td>2.0</td>\n",
              "      <td>2.0</td>\n",
              "      <td>4.0</td>\n",
              "      <td>4.0</td>\n",
              "      <td>3.0</td>\n",
              "      <td>NaN</td>\n",
              "      <td>3.0</td>\n",
              "      <td>2.0</td>\n",
              "      <td>3.0</td>\n",
              "      <td>3.0</td>\n",
              "      <td>6.0</td>\n",
              "      <td>3</td>\n",
              "      <td>5.0</td>\n",
              "      <td>4.0</td>\n",
              "      <td>2.0</td>\n",
              "    </tr>\n",
              "    <tr>\n",
              "      <th>2797</th>\n",
              "      <td>2.0</td>\n",
              "      <td>3.0</td>\n",
              "      <td>5.0</td>\n",
              "      <td>2.0</td>\n",
              "      <td>5.0</td>\n",
              "      <td>5.0</td>\n",
              "      <td>5.0</td>\n",
              "      <td>5.0</td>\n",
              "      <td>1.0</td>\n",
              "      <td>1.0</td>\n",
              "      <td>2.0</td>\n",
              "      <td>2.0</td>\n",
              "      <td>6.0</td>\n",
              "      <td>3.0</td>\n",
              "      <td>6.0</td>\n",
              "      <td>3.0</td>\n",
              "      <td>4.0</td>\n",
              "      <td>3.0</td>\n",
              "      <td>3.0</td>\n",
              "      <td>1.0</td>\n",
              "      <td>5.0</td>\n",
              "      <td>1</td>\n",
              "      <td>6.0</td>\n",
              "      <td>4.0</td>\n",
              "      <td>3.0</td>\n",
              "    </tr>\n",
              "    <tr>\n",
              "      <th>2798</th>\n",
              "      <td>5.0</td>\n",
              "      <td>2.0</td>\n",
              "      <td>2.0</td>\n",
              "      <td>4.0</td>\n",
              "      <td>4.0</td>\n",
              "      <td>5.0</td>\n",
              "      <td>5.0</td>\n",
              "      <td>5.0</td>\n",
              "      <td>2.0</td>\n",
              "      <td>6.0</td>\n",
              "      <td>2.0</td>\n",
              "      <td>2.0</td>\n",
              "      <td>4.0</td>\n",
              "      <td>5.0</td>\n",
              "      <td>4.0</td>\n",
              "      <td>5.0</td>\n",
              "      <td>5.0</td>\n",
              "      <td>6.0</td>\n",
              "      <td>4.0</td>\n",
              "      <td>1.0</td>\n",
              "      <td>5.0</td>\n",
              "      <td>2</td>\n",
              "      <td>5.0</td>\n",
              "      <td>5.0</td>\n",
              "      <td>1.0</td>\n",
              "    </tr>\n",
              "    <tr>\n",
              "      <th>2799</th>\n",
              "      <td>2.0</td>\n",
              "      <td>3.0</td>\n",
              "      <td>1.0</td>\n",
              "      <td>4.0</td>\n",
              "      <td>2.0</td>\n",
              "      <td>5.0</td>\n",
              "      <td>5.0</td>\n",
              "      <td>3.0</td>\n",
              "      <td>3.0</td>\n",
              "      <td>3.0</td>\n",
              "      <td>3.0</td>\n",
              "      <td>3.0</td>\n",
              "      <td>1.0</td>\n",
              "      <td>2.0</td>\n",
              "      <td>2.0</td>\n",
              "      <td>1.0</td>\n",
              "      <td>2.0</td>\n",
              "      <td>2.0</td>\n",
              "      <td>1.0</td>\n",
              "      <td>1.0</td>\n",
              "      <td>3.0</td>\n",
              "      <td>1</td>\n",
              "      <td>3.0</td>\n",
              "      <td>5.0</td>\n",
              "      <td>1.0</td>\n",
              "    </tr>\n",
              "  </tbody>\n",
              "</table>\n",
              "<p>2800 rows × 25 columns</p>\n",
              "</div>"
            ],
            "text/plain": [
              "       A1   A2   A3   A4   A5   C1   C2  ...   N4   N5   O1  O2   O3   O4   O5\n",
              "0     2.0  4.0  3.0  4.0  4.0  2.0  3.0  ...  2.0  3.0  3.0   6  3.0  4.0  3.0\n",
              "1     2.0  4.0  5.0  2.0  5.0  5.0  4.0  ...  5.0  5.0  4.0   2  4.0  3.0  3.0\n",
              "2     5.0  4.0  5.0  4.0  4.0  4.0  5.0  ...  2.0  3.0  4.0   2  5.0  5.0  2.0\n",
              "3     4.0  4.0  6.0  5.0  5.0  4.0  4.0  ...  4.0  1.0  3.0   3  4.0  3.0  5.0\n",
              "4     2.0  3.0  3.0  4.0  5.0  4.0  4.0  ...  4.0  3.0  3.0   3  4.0  3.0  3.0\n",
              "...   ...  ...  ...  ...  ...  ...  ...  ...  ...  ...  ...  ..  ...  ...  ...\n",
              "2795  6.0  1.0  3.0  3.0  3.0  6.0  6.0  ...  NaN  1.0  6.0   1  6.0  6.0  1.0\n",
              "2796  2.0  4.0  4.0  3.0  5.0  2.0  3.0  ...  3.0  3.0  6.0   3  5.0  4.0  2.0\n",
              "2797  2.0  3.0  5.0  2.0  5.0  5.0  5.0  ...  3.0  1.0  5.0   1  6.0  4.0  3.0\n",
              "2798  5.0  2.0  2.0  4.0  4.0  5.0  5.0  ...  4.0  1.0  5.0   2  5.0  5.0  1.0\n",
              "2799  2.0  3.0  1.0  4.0  2.0  5.0  5.0  ...  1.0  1.0  3.0   1  3.0  5.0  1.0\n",
              "\n",
              "[2800 rows x 25 columns]"
            ]
          },
          "metadata": {
            "tags": []
          },
          "execution_count": 177
        }
      ]
    },
    {
      "cell_type": "code",
      "metadata": {
        "id": "bX_ZrWX8yond"
      },
      "source": [
        "BFI_data_dropped = BFI_data_dropped.dropna()"
      ],
      "execution_count": 178,
      "outputs": []
    },
    {
      "cell_type": "code",
      "metadata": {
        "colab": {
          "base_uri": "https://localhost:8080/"
        },
        "id": "Uq12oZW00F22",
        "outputId": "d3d90548-86fd-45bb-d20d-a5ae413a6c0c"
      },
      "source": [
        "BFI_data_dropped.shape"
      ],
      "execution_count": 179,
      "outputs": [
        {
          "output_type": "execute_result",
          "data": {
            "text/plain": [
              "(2436, 25)"
            ]
          },
          "metadata": {
            "tags": []
          },
          "execution_count": 179
        }
      ]
    },
    {
      "cell_type": "markdown",
      "metadata": {
        "id": "ShIZZj541Fje"
      },
      "source": [
        "## Bartlett’s test"
      ]
    },
    {
      "cell_type": "code",
      "metadata": {
        "id": "AtpxP4itVq_C"
      },
      "source": [
        "# ถ้า p-value  เข้าใกล้ 0 คือดี"
      ],
      "execution_count": 180,
      "outputs": []
    },
    {
      "cell_type": "code",
      "metadata": {
        "colab": {
          "base_uri": "https://localhost:8080/"
        },
        "id": "qMc8krwb0HZF",
        "outputId": "5106fe3f-f1f3-498f-b4f0-37eea435113d"
      },
      "source": [
        "from factor_analyzer.factor_analyzer import calculate_bartlett_sphericity\n",
        "\n",
        "chi_square_value,p_value=calculate_bartlett_sphericity(BFI_data_dropped)\n",
        "\n",
        "chi_square_value, p_value"
      ],
      "execution_count": 181,
      "outputs": [
        {
          "output_type": "execute_result",
          "data": {
            "text/plain": [
              "(18170.966350869243, 0.0)"
            ]
          },
          "metadata": {
            "tags": []
          },
          "execution_count": 181
        }
      ]
    },
    {
      "cell_type": "markdown",
      "metadata": {
        "id": "l3hwI0M12TRB"
      },
      "source": [
        "In this Bartlett ’s test, the p-value is 0. The test was statistically significant, indicating that the observed correlation matrix is not an identity matrix."
      ]
    },
    {
      "cell_type": "markdown",
      "metadata": {
        "id": "HLqWDOOV2Xtr"
      },
      "source": [
        "## Kaiser-Meyer-Olkin (KMO) Test"
      ]
    },
    {
      "cell_type": "markdown",
      "metadata": {
        "id": "dnUGuEee3BZR"
      },
      "source": [
        "ถ้า KMO model มีค่ามากกว่า 0.6 แปลว่าข้อมูลเหมาะสมที่นำไปทำ Factor Analysis"
      ]
    },
    {
      "cell_type": "code",
      "metadata": {
        "colab": {
          "base_uri": "https://localhost:8080/"
        },
        "id": "O7XqJrY21OxG",
        "outputId": "59b77b0f-7930-49e0-a099-4077e2b01059"
      },
      "source": [
        "from factor_analyzer.factor_analyzer import calculate_kmo\n",
        "\n",
        "kmo_all,kmo_model=calculate_kmo(BFI_data_dropped)\n",
        "\n",
        "kmo_model"
      ],
      "execution_count": 182,
      "outputs": [
        {
          "output_type": "execute_result",
          "data": {
            "text/plain": [
              "0.8485397221949221"
            ]
          },
          "metadata": {
            "tags": []
          },
          "execution_count": 182
        }
      ]
    },
    {
      "cell_type": "markdown",
      "metadata": {
        "id": "MyAjRI-35BxB"
      },
      "source": [
        "## Factor Analysis"
      ]
    },
    {
      "cell_type": "markdown",
      "metadata": {
        "id": "m2Q_Fjz888OQ"
      },
      "source": [
        "Import"
      ]
    },
    {
      "cell_type": "code",
      "metadata": {
        "id": "SPVuAKjM6YDw"
      },
      "source": [
        "from factor_analyzer import  FactorAnalyzer"
      ],
      "execution_count": 183,
      "outputs": []
    },
    {
      "cell_type": "markdown",
      "metadata": {
        "id": "qMo1xtbH9YD8"
      },
      "source": [
        "define\n"
      ]
    },
    {
      "cell_type": "code",
      "metadata": {
        "id": "Z_6m4whi9ZbA"
      },
      "source": [
        "fa = FactorAnalyzer(n_factors=20)"
      ],
      "execution_count": 184,
      "outputs": []
    },
    {
      "cell_type": "markdown",
      "metadata": {
        "id": "IJlT_YSQ8zos"
      },
      "source": [
        "## Fit-transform"
      ]
    },
    {
      "cell_type": "code",
      "metadata": {
        "id": "8xeugNf-9Heu"
      },
      "source": [
        "data_fa = fa.fit_transform(BFI_data_dropped)"
      ],
      "execution_count": 185,
      "outputs": []
    },
    {
      "cell_type": "code",
      "metadata": {
        "colab": {
          "base_uri": "https://localhost:8080/"
        },
        "id": "qYAx71df9okh",
        "outputId": "fd4bc14f-41d7-48a9-de1a-2632c9452b02"
      },
      "source": [
        "data_fa.shape"
      ],
      "execution_count": 186,
      "outputs": [
        {
          "output_type": "execute_result",
          "data": {
            "text/plain": [
              "(2436, 20)"
            ]
          },
          "metadata": {
            "tags": []
          },
          "execution_count": 186
        }
      ]
    },
    {
      "cell_type": "markdown",
      "metadata": {
        "id": "tS7L-e6w-ltr"
      },
      "source": [
        "## วิธีตัดสินว่าเราจะลดเหลือกี่ dimention (มี factor ทั้งหมดกี่ตัว)"
      ]
    },
    {
      "cell_type": "code",
      "metadata": {
        "id": "CDSeMLcr9qq5"
      },
      "source": [
        " ev, v = fa.get_eigenvalues()"
      ],
      "execution_count": 187,
      "outputs": []
    },
    {
      "cell_type": "markdown",
      "metadata": {
        "id": "XfbGl816-7qL"
      },
      "source": [
        "#ใช้ eigen values"
      ]
    },
    {
      "cell_type": "code",
      "metadata": {
        "colab": {
          "base_uri": "https://localhost:8080/"
        },
        "id": "fuMl8Xhj-irV",
        "outputId": "bdc096e2-1264-44e7-af4f-27eb06ff7f38"
      },
      "source": [
        "ev"
      ],
      "execution_count": 188,
      "outputs": [
        {
          "output_type": "execute_result",
          "data": {
            "text/plain": [
              "array([5.13431118, 2.75188667, 2.14270195, 1.85232761, 1.54816285,\n",
              "       1.07358247, 0.83953893, 0.79920618, 0.71898919, 0.68808879,\n",
              "       0.67637336, 0.65179984, 0.62325295, 0.59656284, 0.56309083,\n",
              "       0.54330533, 0.51451752, 0.49450315, 0.48263952, 0.448921  ,\n",
              "       0.42336611, 0.40067145, 0.38780448, 0.38185679, 0.26253902])"
            ]
          },
          "metadata": {
            "tags": []
          },
          "execution_count": 188
        }
      ]
    },
    {
      "cell_type": "markdown",
      "metadata": {
        "id": "z-DsYV2z_MXr"
      },
      "source": [
        "# Scree plot"
      ]
    },
    {
      "cell_type": "code",
      "metadata": {
        "colab": {
          "base_uri": "https://localhost:8080/",
          "height": 893
        },
        "id": "j2CpVaTK_iZc",
        "outputId": "b121792f-3bd5-44b8-a56b-82b456a839a5"
      },
      "source": [
        "# Create scree plot using matplotlib\n",
        "plt.plot(range(1,BFI_data_dropped.shape[1]+1),ev, 'bo-')\n",
        "plt.plot([0,BFI_data_dropped.shape[1]+1],[1,1],'r--')\n",
        "plt.title('Scree Plot')\n",
        "plt.xlabel('Factors')\n",
        "plt.ylabel('Eigenvalue')\n",
        "plt.grid()\n",
        "plt.show()"
      ],
      "execution_count": 189,
      "outputs": [
        {
          "output_type": "display_data",
          "data": {
            "image/png": "[encoded data removed]",
            "text/plain": [
              "<Figure size 1080x1080 with 1 Axes>"
            ]
          },
          "metadata": {
            "tags": [],
            "needs_background": "light"
          }
        }
      ]
    },
    {
      "cell_type": "code",
      "metadata": {
        "id": "f8xz9UDeB7HT",
        "colab": {
          "base_uri": "https://localhost:8080/"
        },
        "outputId": "c507fbaf-c28a-4e2e-ead0-9906e7141de4"
      },
      "source": [
        "data_fa[:,:6]"
      ],
      "execution_count": 190,
      "outputs": [
        {
          "output_type": "execute_result",
          "data": {
            "text/plain": [
              "array([[-0.89749661, -0.12809666, -1.22649076,  1.08665889,  0.42476701,\n",
              "         0.03981611],\n",
              "       [ 0.33679356, -0.15018138, -0.04332274, -0.10339328,  0.29665648,\n",
              "        -1.11019718],\n",
              "       [-0.24521029,  0.80409961,  0.39343377, -0.30106518,  0.82703928,\n",
              "        -0.2982022 ],\n",
              "       ...,\n",
              "       [ 0.38724631, -0.02183587,  1.19616826, -1.19357208,  0.79669501,\n",
              "        -0.95295109],\n",
              "       [-0.75695976,  0.94984758,  1.24363484, -1.15230215,  2.2534133 ,\n",
              "        -1.0218667 ],\n",
              "       [-2.35583952, -1.49829856,  0.49436981, -1.64734311,  0.94742323,\n",
              "         0.43462495]])"
            ]
          },
          "metadata": {
            "tags": []
          },
          "execution_count": 190
        }
      ]
    },
    {
      "cell_type": "markdown",
      "metadata": {
        "id": "YSGVz-HHCa_c"
      },
      "source": [
        "## รัน Factor Analyzer อีกรอบด้วย paremeters จำนวน factor เท่ากับ 6"
      ]
    },
    {
      "cell_type": "code",
      "metadata": {
        "id": "iIl2Ljk7NbWG"
      },
      "source": [
        "from factor_analyzer import FactorAnalyzer\n",
        "fa2 = FactorAnalyzer(n_factors=6)\n",
        "data_fa = fa2.fit_transform(BFI_data_dropped)"
      ],
      "execution_count": 191,
      "outputs": []
    },
    {
      "cell_type": "code",
      "metadata": {
        "id": "jwWQrvD-B6Ji",
        "colab": {
          "base_uri": "https://localhost:8080/"
        },
        "outputId": "e6e4a882-e32b-4f91-9118-b43f453a83bc"
      },
      "source": [
        "fa.loadings_.shape"
      ],
      "execution_count": 192,
      "outputs": [
        {
          "output_type": "execute_result",
          "data": {
            "text/plain": [
              "(25, 20)"
            ]
          },
          "metadata": {
            "tags": []
          },
          "execution_count": 192
        }
      ]
    },
    {
      "cell_type": "code",
      "metadata": {
        "id": "a2N4-Kv8PEdW",
        "colab": {
          "base_uri": "https://localhost:8080/"
        },
        "outputId": "fa5d2d90-85f3-4195-8fc1-241596685040"
      },
      "source": [
        "fa2.loadings_.shape"
      ],
      "execution_count": 193,
      "outputs": [
        {
          "output_type": "execute_result",
          "data": {
            "text/plain": [
              "(25, 6)"
            ]
          },
          "metadata": {
            "tags": []
          },
          "execution_count": 193
        }
      ]
    },
    {
      "cell_type": "markdown",
      "metadata": {
        "id": "sJGk2ZoPWYEZ"
      },
      "source": [
        " Plot factor loadings"
      ]
    },
    {
      "cell_type": "code",
      "metadata": {
        "id": "VdtMGOmAPgtz"
      },
      "source": [
        "from matplotlib import pyplot as plt\n",
        "import numpy as np\n",
        "import matplotlib"
      ],
      "execution_count": 194,
      "outputs": []
    },
    {
      "cell_type": "markdown",
      "metadata": {
        "id": "k3ETbaluSHet"
      },
      "source": [
        "## Matrix plot"
      ]
    },
    {
      "cell_type": "code",
      "metadata": {
        "id": "AWWl4YNZPpJA",
        "colab": {
          "base_uri": "https://localhost:8080/",
          "height": 880
        },
        "outputId": "35b37e52-11be-4f48-defa-a905e8a039f0"
      },
      "source": [
        "matplotlib.rcParams['figure.figsize']=[15,15]\n",
        "plt.imshow(np.absolute(fa2.loadings_))"
      ],
      "execution_count": 195,
      "outputs": [
        {
          "output_type": "execute_result",
          "data": {
            "text/plain": [
              "<matplotlib.image.AxesImage at 0x7faa73c87090>"
            ]
          },
          "metadata": {
            "tags": []
          },
          "execution_count": 195
        },
        {
          "output_type": "display_data",
          "data": {
            "image/png": "[encoded data removed]",
            "text/plain": [
              "<Figure size 1080x1080 with 1 Axes>"
            ]
          },
          "metadata": {
            "tags": [],
            "needs_background": "light"
          }
        }
      ]
    },
    {
      "cell_type": "markdown",
      "metadata": {
        "id": "Gzrv6S8UR77u"
      },
      "source": [
        "##กราฟแท่ง\n",
        "\n",
        "Exploratory\n",
        "\n"
      ]
    },
    {
      "cell_type": "code",
      "metadata": {
        "id": "HbyS2xkFTdPX",
        "colab": {
          "base_uri": "https://localhost:8080/"
        },
        "outputId": "9ea8c52c-c6ab-4ebe-db6e-1d792608d8ee"
      },
      "source": [
        "fa2.loadings_[:,0]"
      ],
      "execution_count": 196,
      "outputs": [
        {
          "output_type": "execute_result",
          "data": {
            "text/plain": [
              "array([ 0.03414726,  0.10978236,  0.00994059, -0.04831137, -0.16366166,\n",
              "        0.02118698,  0.08090755,  0.01722769,  0.01485568,  0.15429252,\n",
              "       -0.15383381,  0.05746695, -0.00134121, -0.07106632,  0.15942998,\n",
              "        0.9074384 ,  0.90158503,  0.72774143,  0.46930559,  0.47694345,\n",
              "       -0.06859678,  0.10806584, -0.01576963,  0.10573219,  0.00900362])"
            ]
          },
          "metadata": {
            "tags": []
          },
          "execution_count": 196
        }
      ]
    },
    {
      "cell_type": "code",
      "metadata": {
        "id": "dA5TL1C9W97x",
        "colab": {
          "base_uri": "https://localhost:8080/"
        },
        "outputId": "837dddfc-ab21-45ce-ca82-3c281376ca52"
      },
      "source": [
        "BFI_data_dropped.columns"
      ],
      "execution_count": 197,
      "outputs": [
        {
          "output_type": "execute_result",
          "data": {
            "text/plain": [
              "Index(['A1', 'A2', 'A3', 'A4', 'A5', 'C1', 'C2', 'C3', 'C4', 'C5', 'E1', 'E2',\n",
              "       'E3', 'E4', 'E5', 'N1', 'N2', 'N3', 'N4', 'N5', 'O1', 'O2', 'O3', 'O4',\n",
              "       'O5'],\n",
              "      dtype='object')"
            ]
          },
          "metadata": {
            "tags": []
          },
          "execution_count": 197
        }
      ]
    },
    {
      "cell_type": "code",
      "metadata": {
        "id": "R-3k-fwLRIxB",
        "colab": {
          "base_uri": "https://localhost:8080/",
          "height": 880
        },
        "outputId": "b362db2e-4e71-474b-fed7-84c3ea3ae5a6"
      },
      "source": [
        "plt.bar(range(25),np.absolute(fa2.loadings_[:,0]),tick_label=BFI_data_dropped.columns)"
      ],
      "execution_count": 198,
      "outputs": [
        {
          "output_type": "execute_result",
          "data": {
            "text/plain": [
              "<BarContainer object of 25 artists>"
            ]
          },
          "metadata": {
            "tags": []
          },
          "execution_count": 198
        },
        {
          "output_type": "display_data",
          "data": {
            "image/png": "[encoded data removed]",
            "text/plain": [
              "<Figure size 1080x1080 with 1 Axes>"
            ]
          },
          "metadata": {
            "tags": [],
            "needs_background": "light"
          }
        }
      ]
    },
    {
      "cell_type": "code",
      "metadata": {
        "id": "j0Vyr-lPVT9n"
      },
      "source": [
        ""
      ],
      "execution_count": 198,
      "outputs": []
    },
    {
      "cell_type": "markdown",
      "metadata": {
        "id": "RbcJU3UYXVD_"
      },
      "source": [
        "# **Exam 03**\n",
        "\n",
        "ทำ Factor Analysis ข้อมูล Fifa 2018 "
      ]
    },
    {
      "cell_type": "code",
      "metadata": {
        "id": "K7oO3MQHXYn6",
        "colab": {
          "base_uri": "https://localhost:8080/",
          "height": 428
        },
        "outputId": "5275c5ff-a895-4c4d-ecda-e785c5dc863a"
      },
      "source": [
        "Fifa_data = pd.read_csv('/content/FIFA 2018 Statistics.csv')\n",
        "Fifa_data.head()\n",
        "## นำข้อมูล Fifa 2018 เข้ามา"
      ],
      "execution_count": 199,
      "outputs": [
        {
          "output_type": "execute_result",
          "data": {
            "text/html": [
              "<div>\n",
              "<style scoped>\n",
              "    .dataframe tbody tr th:only-of-type {\n",
              "        vertical-align: middle;\n",
              "    }\n",
              "\n",
              "    .dataframe tbody tr th {\n",
              "        vertical-align: top;\n",
              "    }\n",
              "\n",
              "    .dataframe thead th {\n",
              "        text-align: right;\n",
              "    }\n",
              "</style>\n",
              "<table border=\"1\" class=\"dataframe\">\n",
              "  <thead>\n",
              "    <tr style=\"text-align: right;\">\n",
              "      <th></th>\n",
              "      <th>Date</th>\n",
              "      <th>Team</th>\n",
              "      <th>Opponent</th>\n",
              "      <th>Goal Scored</th>\n",
              "      <th>Ball Possession %</th>\n",
              "      <th>Attempts</th>\n",
              "      <th>On-Target</th>\n",
              "      <th>Off-Target</th>\n",
              "      <th>Blocked</th>\n",
              "      <th>Corners</th>\n",
              "      <th>Offsides</th>\n",
              "      <th>Free Kicks</th>\n",
              "      <th>Saves</th>\n",
              "      <th>Pass Accuracy %</th>\n",
              "      <th>Passes</th>\n",
              "      <th>Distance Covered (Kms)</th>\n",
              "      <th>Fouls Committed</th>\n",
              "      <th>Yellow Card</th>\n",
              "      <th>Yellow &amp; Red</th>\n",
              "      <th>Red</th>\n",
              "      <th>Man of the Match</th>\n",
              "      <th>1st Goal</th>\n",
              "      <th>Round</th>\n",
              "      <th>PSO</th>\n",
              "      <th>Goals in PSO</th>\n",
              "      <th>Own goals</th>\n",
              "      <th>Own goal Time</th>\n",
              "    </tr>\n",
              "  </thead>\n",
              "  <tbody>\n",
              "    <tr>\n",
              "      <th>0</th>\n",
              "      <td>14-06-2018</td>\n",
              "      <td>Russia</td>\n",
              "      <td>Saudi Arabia</td>\n",
              "      <td>5</td>\n",
              "      <td>40</td>\n",
              "      <td>13</td>\n",
              "      <td>7</td>\n",
              "      <td>3</td>\n",
              "      <td>3</td>\n",
              "      <td>6</td>\n",
              "      <td>3</td>\n",
              "      <td>11</td>\n",
              "      <td>0</td>\n",
              "      <td>78</td>\n",
              "      <td>306</td>\n",
              "      <td>118</td>\n",
              "      <td>22</td>\n",
              "      <td>0</td>\n",
              "      <td>0</td>\n",
              "      <td>0</td>\n",
              "      <td>Yes</td>\n",
              "      <td>12.0</td>\n",
              "      <td>Group Stage</td>\n",
              "      <td>No</td>\n",
              "      <td>0</td>\n",
              "      <td>NaN</td>\n",
              "      <td>NaN</td>\n",
              "    </tr>\n",
              "    <tr>\n",
              "      <th>1</th>\n",
              "      <td>14-06-2018</td>\n",
              "      <td>Saudi Arabia</td>\n",
              "      <td>Russia</td>\n",
              "      <td>0</td>\n",
              "      <td>60</td>\n",
              "      <td>6</td>\n",
              "      <td>0</td>\n",
              "      <td>3</td>\n",
              "      <td>3</td>\n",
              "      <td>2</td>\n",
              "      <td>1</td>\n",
              "      <td>25</td>\n",
              "      <td>2</td>\n",
              "      <td>86</td>\n",
              "      <td>511</td>\n",
              "      <td>105</td>\n",
              "      <td>10</td>\n",
              "      <td>0</td>\n",
              "      <td>0</td>\n",
              "      <td>0</td>\n",
              "      <td>No</td>\n",
              "      <td>NaN</td>\n",
              "      <td>Group Stage</td>\n",
              "      <td>No</td>\n",
              "      <td>0</td>\n",
              "      <td>NaN</td>\n",
              "      <td>NaN</td>\n",
              "    </tr>\n",
              "    <tr>\n",
              "      <th>2</th>\n",
              "      <td>15-06-2018</td>\n",
              "      <td>Egypt</td>\n",
              "      <td>Uruguay</td>\n",
              "      <td>0</td>\n",
              "      <td>43</td>\n",
              "      <td>8</td>\n",
              "      <td>3</td>\n",
              "      <td>3</td>\n",
              "      <td>2</td>\n",
              "      <td>0</td>\n",
              "      <td>1</td>\n",
              "      <td>7</td>\n",
              "      <td>3</td>\n",
              "      <td>78</td>\n",
              "      <td>395</td>\n",
              "      <td>112</td>\n",
              "      <td>12</td>\n",
              "      <td>2</td>\n",
              "      <td>0</td>\n",
              "      <td>0</td>\n",
              "      <td>No</td>\n",
              "      <td>NaN</td>\n",
              "      <td>Group Stage</td>\n",
              "      <td>No</td>\n",
              "      <td>0</td>\n",
              "      <td>NaN</td>\n",
              "      <td>NaN</td>\n",
              "    </tr>\n",
              "    <tr>\n",
              "      <th>3</th>\n",
              "      <td>15-06-2018</td>\n",
              "      <td>Uruguay</td>\n",
              "      <td>Egypt</td>\n",
              "      <td>1</td>\n",
              "      <td>57</td>\n",
              "      <td>14</td>\n",
              "      <td>4</td>\n",
              "      <td>6</td>\n",
              "      <td>4</td>\n",
              "      <td>5</td>\n",
              "      <td>1</td>\n",
              "      <td>13</td>\n",
              "      <td>3</td>\n",
              "      <td>86</td>\n",
              "      <td>589</td>\n",
              "      <td>111</td>\n",
              "      <td>6</td>\n",
              "      <td>0</td>\n",
              "      <td>0</td>\n",
              "      <td>0</td>\n",
              "      <td>Yes</td>\n",
              "      <td>89.0</td>\n",
              "      <td>Group Stage</td>\n",
              "      <td>No</td>\n",
              "      <td>0</td>\n",
              "      <td>NaN</td>\n",
              "      <td>NaN</td>\n",
              "    </tr>\n",
              "    <tr>\n",
              "      <th>4</th>\n",
              "      <td>15-06-2018</td>\n",
              "      <td>Morocco</td>\n",
              "      <td>Iran</td>\n",
              "      <td>0</td>\n",
              "      <td>64</td>\n",
              "      <td>13</td>\n",
              "      <td>3</td>\n",
              "      <td>6</td>\n",
              "      <td>4</td>\n",
              "      <td>5</td>\n",
              "      <td>0</td>\n",
              "      <td>14</td>\n",
              "      <td>2</td>\n",
              "      <td>86</td>\n",
              "      <td>433</td>\n",
              "      <td>101</td>\n",
              "      <td>22</td>\n",
              "      <td>1</td>\n",
              "      <td>0</td>\n",
              "      <td>0</td>\n",
              "      <td>No</td>\n",
              "      <td>NaN</td>\n",
              "      <td>Group Stage</td>\n",
              "      <td>No</td>\n",
              "      <td>0</td>\n",
              "      <td>1.0</td>\n",
              "      <td>90.0</td>\n",
              "    </tr>\n",
              "  </tbody>\n",
              "</table>\n",
              "</div>"
            ],
            "text/plain": [
              "         Date          Team  ... Own goals  Own goal Time\n",
              "0  14-06-2018        Russia  ...       NaN            NaN\n",
              "1  14-06-2018  Saudi Arabia  ...       NaN            NaN\n",
              "2  15-06-2018         Egypt  ...       NaN            NaN\n",
              "3  15-06-2018       Uruguay  ...       NaN            NaN\n",
              "4  15-06-2018       Morocco  ...       1.0           90.0\n",
              "\n",
              "[5 rows x 27 columns]"
            ]
          },
          "metadata": {
            "tags": []
          },
          "execution_count": 199
        }
      ]
    },
    {
      "cell_type": "code",
      "metadata": {
        "id": "lOu6Vj86ct9D",
        "colab": {
          "base_uri": "https://localhost:8080/"
        },
        "outputId": "bd6f6081-3e30-4525-c1cd-bc26ed7e5528"
      },
      "source": [
        "Fifa_data.shape\n",
        "## ดูขนาดของ ข้อมูลที่ยังไม่ได้ drop"
      ],
      "execution_count": 200,
      "outputs": [
        {
          "output_type": "execute_result",
          "data": {
            "text/plain": [
              "(128, 27)"
            ]
          },
          "metadata": {
            "tags": []
          },
          "execution_count": 200
        }
      ]
    },
    {
      "cell_type": "code",
      "metadata": {
        "id": "FuKJLJwSYNB_",
        "colab": {
          "base_uri": "https://localhost:8080/",
          "height": 473
        },
        "outputId": "621d60b1-e05c-48cc-9d31-1cb66d408d59"
      },
      "source": [
        "Fifa_data_dropped = Fifa_data.iloc[:,3:-7]\n",
        "Fifa_data_dropped\n",
        "## เลือกข้อมูล column จาก Goal Scored - Red"
      ],
      "execution_count": 201,
      "outputs": [
        {
          "output_type": "execute_result",
          "data": {
            "text/html": [
              "<div>\n",
              "<style scoped>\n",
              "    .dataframe tbody tr th:only-of-type {\n",
              "        vertical-align: middle;\n",
              "    }\n",
              "\n",
              "    .dataframe tbody tr th {\n",
              "        vertical-align: top;\n",
              "    }\n",
              "\n",
              "    .dataframe thead th {\n",
              "        text-align: right;\n",
              "    }\n",
              "</style>\n",
              "<table border=\"1\" class=\"dataframe\">\n",
              "  <thead>\n",
              "    <tr style=\"text-align: right;\">\n",
              "      <th></th>\n",
              "      <th>Goal Scored</th>\n",
              "      <th>Ball Possession %</th>\n",
              "      <th>Attempts</th>\n",
              "      <th>On-Target</th>\n",
              "      <th>Off-Target</th>\n",
              "      <th>Blocked</th>\n",
              "      <th>Corners</th>\n",
              "      <th>Offsides</th>\n",
              "      <th>Free Kicks</th>\n",
              "      <th>Saves</th>\n",
              "      <th>Pass Accuracy %</th>\n",
              "      <th>Passes</th>\n",
              "      <th>Distance Covered (Kms)</th>\n",
              "      <th>Fouls Committed</th>\n",
              "      <th>Yellow Card</th>\n",
              "      <th>Yellow &amp; Red</th>\n",
              "      <th>Red</th>\n",
              "    </tr>\n",
              "  </thead>\n",
              "  <tbody>\n",
              "    <tr>\n",
              "      <th>0</th>\n",
              "      <td>5</td>\n",
              "      <td>40</td>\n",
              "      <td>13</td>\n",
              "      <td>7</td>\n",
              "      <td>3</td>\n",
              "      <td>3</td>\n",
              "      <td>6</td>\n",
              "      <td>3</td>\n",
              "      <td>11</td>\n",
              "      <td>0</td>\n",
              "      <td>78</td>\n",
              "      <td>306</td>\n",
              "      <td>118</td>\n",
              "      <td>22</td>\n",
              "      <td>0</td>\n",
              "      <td>0</td>\n",
              "      <td>0</td>\n",
              "    </tr>\n",
              "    <tr>\n",
              "      <th>1</th>\n",
              "      <td>0</td>\n",
              "      <td>60</td>\n",
              "      <td>6</td>\n",
              "      <td>0</td>\n",
              "      <td>3</td>\n",
              "      <td>3</td>\n",
              "      <td>2</td>\n",
              "      <td>1</td>\n",
              "      <td>25</td>\n",
              "      <td>2</td>\n",
              "      <td>86</td>\n",
              "      <td>511</td>\n",
              "      <td>105</td>\n",
              "      <td>10</td>\n",
              "      <td>0</td>\n",
              "      <td>0</td>\n",
              "      <td>0</td>\n",
              "    </tr>\n",
              "    <tr>\n",
              "      <th>2</th>\n",
              "      <td>0</td>\n",
              "      <td>43</td>\n",
              "      <td>8</td>\n",
              "      <td>3</td>\n",
              "      <td>3</td>\n",
              "      <td>2</td>\n",
              "      <td>0</td>\n",
              "      <td>1</td>\n",
              "      <td>7</td>\n",
              "      <td>3</td>\n",
              "      <td>78</td>\n",
              "      <td>395</td>\n",
              "      <td>112</td>\n",
              "      <td>12</td>\n",
              "      <td>2</td>\n",
              "      <td>0</td>\n",
              "      <td>0</td>\n",
              "    </tr>\n",
              "    <tr>\n",
              "      <th>3</th>\n",
              "      <td>1</td>\n",
              "      <td>57</td>\n",
              "      <td>14</td>\n",
              "      <td>4</td>\n",
              "      <td>6</td>\n",
              "      <td>4</td>\n",
              "      <td>5</td>\n",
              "      <td>1</td>\n",
              "      <td>13</td>\n",
              "      <td>3</td>\n",
              "      <td>86</td>\n",
              "      <td>589</td>\n",
              "      <td>111</td>\n",
              "      <td>6</td>\n",
              "      <td>0</td>\n",
              "      <td>0</td>\n",
              "      <td>0</td>\n",
              "    </tr>\n",
              "    <tr>\n",
              "      <th>4</th>\n",
              "      <td>0</td>\n",
              "      <td>64</td>\n",
              "      <td>13</td>\n",
              "      <td>3</td>\n",
              "      <td>6</td>\n",
              "      <td>4</td>\n",
              "      <td>5</td>\n",
              "      <td>0</td>\n",
              "      <td>14</td>\n",
              "      <td>2</td>\n",
              "      <td>86</td>\n",
              "      <td>433</td>\n",
              "      <td>101</td>\n",
              "      <td>22</td>\n",
              "      <td>1</td>\n",
              "      <td>0</td>\n",
              "      <td>0</td>\n",
              "    </tr>\n",
              "    <tr>\n",
              "      <th>...</th>\n",
              "      <td>...</td>\n",
              "      <td>...</td>\n",
              "      <td>...</td>\n",
              "      <td>...</td>\n",
              "      <td>...</td>\n",
              "      <td>...</td>\n",
              "      <td>...</td>\n",
              "      <td>...</td>\n",
              "      <td>...</td>\n",
              "      <td>...</td>\n",
              "      <td>...</td>\n",
              "      <td>...</td>\n",
              "      <td>...</td>\n",
              "      <td>...</td>\n",
              "      <td>...</td>\n",
              "      <td>...</td>\n",
              "      <td>...</td>\n",
              "    </tr>\n",
              "    <tr>\n",
              "      <th>123</th>\n",
              "      <td>1</td>\n",
              "      <td>46</td>\n",
              "      <td>11</td>\n",
              "      <td>1</td>\n",
              "      <td>6</td>\n",
              "      <td>4</td>\n",
              "      <td>4</td>\n",
              "      <td>3</td>\n",
              "      <td>24</td>\n",
              "      <td>5</td>\n",
              "      <td>79</td>\n",
              "      <td>479</td>\n",
              "      <td>148</td>\n",
              "      <td>14</td>\n",
              "      <td>1</td>\n",
              "      <td>0</td>\n",
              "      <td>0</td>\n",
              "    </tr>\n",
              "    <tr>\n",
              "      <th>124</th>\n",
              "      <td>2</td>\n",
              "      <td>43</td>\n",
              "      <td>12</td>\n",
              "      <td>4</td>\n",
              "      <td>3</td>\n",
              "      <td>5</td>\n",
              "      <td>4</td>\n",
              "      <td>1</td>\n",
              "      <td>5</td>\n",
              "      <td>5</td>\n",
              "      <td>88</td>\n",
              "      <td>510</td>\n",
              "      <td>108</td>\n",
              "      <td>11</td>\n",
              "      <td>1</td>\n",
              "      <td>0</td>\n",
              "      <td>0</td>\n",
              "    </tr>\n",
              "    <tr>\n",
              "      <th>125</th>\n",
              "      <td>0</td>\n",
              "      <td>57</td>\n",
              "      <td>15</td>\n",
              "      <td>5</td>\n",
              "      <td>7</td>\n",
              "      <td>3</td>\n",
              "      <td>5</td>\n",
              "      <td>0</td>\n",
              "      <td>12</td>\n",
              "      <td>2</td>\n",
              "      <td>92</td>\n",
              "      <td>698</td>\n",
              "      <td>110</td>\n",
              "      <td>5</td>\n",
              "      <td>2</td>\n",
              "      <td>0</td>\n",
              "      <td>0</td>\n",
              "    </tr>\n",
              "    <tr>\n",
              "      <th>126</th>\n",
              "      <td>4</td>\n",
              "      <td>39</td>\n",
              "      <td>8</td>\n",
              "      <td>6</td>\n",
              "      <td>1</td>\n",
              "      <td>1</td>\n",
              "      <td>2</td>\n",
              "      <td>1</td>\n",
              "      <td>14</td>\n",
              "      <td>1</td>\n",
              "      <td>75</td>\n",
              "      <td>271</td>\n",
              "      <td>99</td>\n",
              "      <td>14</td>\n",
              "      <td>2</td>\n",
              "      <td>0</td>\n",
              "      <td>0</td>\n",
              "    </tr>\n",
              "    <tr>\n",
              "      <th>127</th>\n",
              "      <td>2</td>\n",
              "      <td>61</td>\n",
              "      <td>15</td>\n",
              "      <td>3</td>\n",
              "      <td>8</td>\n",
              "      <td>4</td>\n",
              "      <td>6</td>\n",
              "      <td>1</td>\n",
              "      <td>15</td>\n",
              "      <td>3</td>\n",
              "      <td>83</td>\n",
              "      <td>547</td>\n",
              "      <td>100</td>\n",
              "      <td>13</td>\n",
              "      <td>1</td>\n",
              "      <td>0</td>\n",
              "      <td>0</td>\n",
              "    </tr>\n",
              "  </tbody>\n",
              "</table>\n",
              "<p>128 rows × 17 columns</p>\n",
              "</div>"
            ],
            "text/plain": [
              "     Goal Scored  Ball Possession %  Attempts  ...  Yellow Card  Yellow & Red  Red\n",
              "0              5                 40        13  ...            0             0    0\n",
              "1              0                 60         6  ...            0             0    0\n",
              "2              0                 43         8  ...            2             0    0\n",
              "3              1                 57        14  ...            0             0    0\n",
              "4              0                 64        13  ...            1             0    0\n",
              "..           ...                ...       ...  ...          ...           ...  ...\n",
              "123            1                 46        11  ...            1             0    0\n",
              "124            2                 43        12  ...            1             0    0\n",
              "125            0                 57        15  ...            2             0    0\n",
              "126            4                 39         8  ...            2             0    0\n",
              "127            2                 61        15  ...            1             0    0\n",
              "\n",
              "[128 rows x 17 columns]"
            ]
          },
          "metadata": {
            "tags": []
          },
          "execution_count": 201
        }
      ]
    },
    {
      "cell_type": "code",
      "metadata": {
        "id": "_NiS525AZCtJ"
      },
      "source": [
        "Fifa_data_dropped = Fifa_data_dropped.dropna()"
      ],
      "execution_count": 202,
      "outputs": []
    },
    {
      "cell_type": "code",
      "metadata": {
        "id": "Ccdw8I9PZlbn",
        "colab": {
          "base_uri": "https://localhost:8080/"
        },
        "outputId": "00d624df-30a9-45ce-ca42-2b36ee8fa12c"
      },
      "source": [
        "Fifa_data_dropped.shape\n",
        "# ดูขนาดของข้อมูลที่ drop แล้ว"
      ],
      "execution_count": 203,
      "outputs": [
        {
          "output_type": "execute_result",
          "data": {
            "text/plain": [
              "(128, 17)"
            ]
          },
          "metadata": {
            "tags": []
          },
          "execution_count": 203
        }
      ]
    },
    {
      "cell_type": "markdown",
      "metadata": {
        "id": "v-5FlqyGZ3OH"
      },
      "source": [
        "# **Bartlett's test**\n",
        "ถ้าค่า p-value เข้าใกล้ 0 ข้อมูลดี"
      ]
    },
    {
      "cell_type": "code",
      "metadata": {
        "id": "7DgkPm26ZoaM",
        "colab": {
          "base_uri": "https://localhost:8080/"
        },
        "outputId": "b555a7d6-efac-44cc-8e35-d5f29ec6cadb"
      },
      "source": [
        "from factor_analyzer.factor_analyzer import calculate_bartlett_sphericity\n",
        "\n",
        "chi_square_value,p_value=calculate_bartlett_sphericity(Fifa_data_dropped)\n",
        "\n",
        "chi_square_value, p_value"
      ],
      "execution_count": 204,
      "outputs": [
        {
          "output_type": "execute_result",
          "data": {
            "text/plain": [
              "(1299.3697851171412, 2.713580160466225e-189)"
            ]
          },
          "metadata": {
            "tags": []
          },
          "execution_count": 204
        }
      ]
    },
    {
      "cell_type": "markdown",
      "metadata": {
        "id": "P-xyn-LXNoRM"
      },
      "source": [
        "# *Output*\n",
        "  เนื่องจากค่า p-value มีค่าเท่ากับ 2.7135 x 10^189  เป็นค่าที่เข้าใกล้ 0 ดังนั้นข้อมูลชุดนี้ดี"
      ]
    },
    {
      "cell_type": "markdown",
      "metadata": {
        "id": "OD0Y8xJgbog6"
      },
      "source": [
        "# **Kaiser-Meyer-Olkin (KMO) test**\n",
        "ถ้าค่า KMO model มีค่ามากกว่า 0.6 แปลว่าข้อมูลเหมาะสมที่นำไป Facto"
      ]
    },
    {
      "cell_type": "code",
      "metadata": {
        "id": "OzoVjbRwaEhU",
        "colab": {
          "base_uri": "https://localhost:8080/"
        },
        "outputId": "9b94b9ba-11bb-4feb-ebd8-de2268b82b3f"
      },
      "source": [
        "from factor_analyzer.factor_analyzer import calculate_kmo\n",
        "\n",
        "kmo_all,kmo_model=calculate_kmo(Fifa_data_dropped)\n",
        "\n",
        "kmo_model"
      ],
      "execution_count": 205,
      "outputs": [
        {
          "output_type": "execute_result",
          "data": {
            "text/plain": [
              "0.5594556344508279"
            ]
          },
          "metadata": {
            "tags": []
          },
          "execution_count": 205
        }
      ]
    },
    {
      "cell_type": "markdown",
      "metadata": {
        "id": "-UT6hEMcNK6g"
      },
      "source": [
        "#*Output* \n",
        "มีค่าเท่ากับ 0.5594556344508279  หรือ ประมาณ 0.559  สามารถปัดค่าได้เป็น 0.6 ซึ่งสามารถนำข้อมูลชุดนี้ไปทำ Factor Analysis ได้"
      ]
    },
    {
      "cell_type": "markdown",
      "metadata": {
        "id": "-1od38ZhOOk7"
      },
      "source": [
        "# **Factor Analysis**"
      ]
    },
    {
      "cell_type": "markdown",
      "metadata": {
        "id": "rGmgJd4lOZro"
      },
      "source": [
        "1. ***import***"
      ]
    },
    {
      "cell_type": "code",
      "metadata": {
        "id": "UHl3wlrChy89"
      },
      "source": [
        "from factor_analyzer import FactorAnalyzer"
      ],
      "execution_count": 206,
      "outputs": []
    },
    {
      "cell_type": "markdown",
      "metadata": {
        "id": "cegT8QCuOi2g"
      },
      "source": [
        "2. ***Define***"
      ]
    },
    {
      "cell_type": "code",
      "metadata": {
        "id": "QQLWq851OhpE"
      },
      "source": [
        "Fifa_fa = FactorAnalyzer(n_factors = 10)"
      ],
      "execution_count": 207,
      "outputs": []
    },
    {
      "cell_type": "markdown",
      "metadata": {
        "id": "RmEfBJ_qPAgC"
      },
      "source": [
        "3. ***Fit-transform***"
      ]
    },
    {
      "cell_type": "code",
      "metadata": {
        "id": "xN3JF1wjO8Vs"
      },
      "source": [
        "data_Fifa_fa = Fifa_fa.fit_transform(Fifa_data_dropped)"
      ],
      "execution_count": 208,
      "outputs": []
    },
    {
      "cell_type": "code",
      "metadata": {
        "id": "k8CSOVpjP8GF",
        "colab": {
          "base_uri": "https://localhost:8080/"
        },
        "outputId": "9d47814b-fc43-43a0-bf82-0693bfe319d8"
      },
      "source": [
        "data_Fifa_fa"
      ],
      "execution_count": 209,
      "outputs": [
        {
          "output_type": "execute_result",
          "data": {
            "text/plain": [
              "array([[-1.14061137e+00,  1.05033795e+00,  2.79854567e+00, ...,\n",
              "         6.74726707e-02, -4.77545127e-01,  4.52288983e-01],\n",
              "       [ 5.33831171e-01, -1.78150280e-01, -1.10088651e+00, ...,\n",
              "         1.55151543e+00, -9.34643316e-01, -1.11584405e+00],\n",
              "       [-7.29379706e-01,  3.96402498e-01, -7.02153492e-01, ...,\n",
              "        -1.13126715e+00, -8.56069777e-01, -7.27618790e-01],\n",
              "       ...,\n",
              "       [ 1.30564472e+00,  1.52376854e-01, -7.85831196e-01, ...,\n",
              "        -7.60773500e-01,  7.52734113e-01,  6.27872936e-01],\n",
              "       [-1.14736335e+00, -6.04957682e-01,  1.72370918e+00, ...,\n",
              "         1.51992058e-03, -1.49217963e+00,  3.78559183e-01],\n",
              "       [ 7.44178734e-01, -4.71574957e-01, -3.29454853e-02, ...,\n",
              "         3.35025832e-01,  8.81562196e-01,  5.58152177e-02]])"
            ]
          },
          "metadata": {
            "tags": []
          },
          "execution_count": 209
        }
      ]
    },
    {
      "cell_type": "code",
      "metadata": {
        "id": "pSItyHalqKkt",
        "colab": {
          "base_uri": "https://localhost:8080/"
        },
        "outputId": "a8e8bc0e-a975-449b-edc5-231cd1f67c12"
      },
      "source": [
        "data_Fifa_fa.shape\n",
        "#ดุขนาดของข้อมูล"
      ],
      "execution_count": 210,
      "outputs": [
        {
          "output_type": "execute_result",
          "data": {
            "text/plain": [
              "(128, 10)"
            ]
          },
          "metadata": {
            "tags": []
          },
          "execution_count": 210
        }
      ]
    },
    {
      "cell_type": "markdown",
      "metadata": {
        "id": "TzXvIBY3QA2T"
      },
      "source": [
        "***วิธีตัดสินใจว่าจะเหลือกี่ dimention (มี factors ทั้งหมดกี่ตัว)***"
      ]
    },
    {
      "cell_type": "code",
      "metadata": {
        "id": "wK4iNZcJP9-u"
      },
      "source": [
        "ev,v = Fifa_fa.get_eigenvalues()"
      ],
      "execution_count": 211,
      "outputs": []
    },
    {
      "cell_type": "code",
      "metadata": {
        "id": "VObf4pt-QW6l",
        "colab": {
          "base_uri": "https://localhost:8080/"
        },
        "outputId": "e8a11abb-2fff-4bd1-b158-384b11a94e7a"
      },
      "source": [
        "ev"
      ],
      "execution_count": 212,
      "outputs": [
        {
          "output_type": "execute_result",
          "data": {
            "text/plain": [
              "array([4.93533676, 1.66110682, 1.45898601, 1.31857945, 1.27991548,\n",
              "       1.1607222 , 0.89822418, 0.80740568, 0.78874612, 0.65948826,\n",
              "       0.56563441, 0.48116939, 0.38549929, 0.29659929, 0.22859409,\n",
              "       0.06848785, 0.00550471])"
            ]
          },
          "metadata": {
            "tags": []
          },
          "execution_count": 212
        }
      ]
    },
    {
      "cell_type": "code",
      "metadata": {
        "id": "X5lRfzt8QYev",
        "colab": {
          "base_uri": "https://localhost:8080/"
        },
        "outputId": "df59b1b2-67ab-4502-f279-1f8ec8d4aab1"
      },
      "source": [
        "ev.shape"
      ],
      "execution_count": 213,
      "outputs": [
        {
          "output_type": "execute_result",
          "data": {
            "text/plain": [
              "(17,)"
            ]
          },
          "metadata": {
            "tags": []
          },
          "execution_count": 213
        }
      ]
    },
    {
      "cell_type": "markdown",
      "metadata": {
        "id": "2E5QwtIjQjX5"
      },
      "source": [
        "## ***Scree plot***"
      ]
    },
    {
      "cell_type": "code",
      "metadata": {
        "id": "hnX0RzZtQdF9",
        "colab": {
          "base_uri": "https://localhost:8080/",
          "height": 893
        },
        "outputId": "f3fd98a3-aff9-411d-9abc-900a9bf430bf"
      },
      "source": [
        "# Create scree plot using matplotlib\n",
        "plt.plot(range(1,Fifa_data_dropped.shape[1]+1),ev, 'bo-')\n",
        "plt.plot([0,Fifa_data_dropped.shape[1]+1],[1,1],'r--')\n",
        "plt.title('Scree Plot Fifa 2018')\n",
        "plt.xlabel('Factors')\n",
        "plt.ylabel('Eigenvalue')\n",
        "plt.grid()\n",
        "plt.show()"
      ],
      "execution_count": 214,
      "outputs": [
        {
          "output_type": "display_data",
          "data": {
            "image/png": "[encoded data removed]",
            "text/plain": [
              "<Figure size 1080x1080 with 1 Axes>"
            ]
          },
          "metadata": {
            "tags": [],
            "needs_background": "light"
          }
        }
      ]
    },
    {
      "cell_type": "markdown",
      "metadata": {
        "id": "_yGZiZNjpnSE"
      },
      "source": [
        "# Output\n",
        "มี factor ที่มีค่ามากกว่า 1 อยู่ 6 ตัวจาก factor ทั้งหมด 17ตัว "
      ]
    },
    {
      "cell_type": "code",
      "metadata": {
        "id": "XOUmBlMUhYeR",
        "colab": {
          "base_uri": "https://localhost:8080/"
        },
        "outputId": "835fa3f0-8bb2-4a83-fd1e-802db737a78d"
      },
      "source": [
        "data_Fifa_fa[:,:6]"
      ],
      "execution_count": 215,
      "outputs": [
        {
          "output_type": "execute_result",
          "data": {
            "text/plain": [
              "array([[-1.14061137e+00,  1.05033795e+00,  2.79854567e+00,\n",
              "         3.57574560e-01, -5.95152711e-02, -7.48334076e-02],\n",
              "       [ 5.33831171e-01, -1.78150280e-01, -1.10088651e+00,\n",
              "         1.81432000e-02, -8.36944321e-01, -7.31531607e-01],\n",
              "       [-7.29379706e-01,  3.96402498e-01, -7.02153492e-01,\n",
              "        -2.77221903e-01,  1.34345254e-01, -5.61356514e-01],\n",
              "       [ 7.08580342e-01,  3.36178613e-01, -3.31529441e-01,\n",
              "        -2.60518967e-01, -1.38667315e+00,  1.34916077e-01],\n",
              "       [ 3.25530467e-01, -3.71841487e-01, -4.14431700e-01,\n",
              "         3.27492853e-01,  2.50366459e-01,  2.57255932e-01],\n",
              "       [-1.34130209e+00, -5.34562069e-01,  2.52429472e-01,\n",
              "        -5.22235915e-01,  1.05852627e+00, -1.07428697e+00],\n",
              "       [-5.46867894e-01, -4.92844282e-01,  9.46711298e-01,\n",
              "        -3.59877314e-01, -1.85391071e-01, -3.25465436e-01],\n",
              "       [ 1.67488741e+00, -4.32704892e-01,  7.61605381e-01,\n",
              "        -3.70473849e-01, -8.35201718e-01, -5.88310671e-01],\n",
              "       [ 2.62530209e-01, -3.24159295e-01,  6.58987216e-01,\n",
              "        -8.77493871e-02, -1.29974193e-01, -2.53944852e-01],\n",
              "       [-4.24340037e-01,  2.94944349e-01,  4.29409238e-02,\n",
              "        -1.64381947e-02,  1.25250458e+00, -1.11481292e+00],\n",
              "       [ 1.95876399e+00, -4.46975965e-01, -3.61523432e-01,\n",
              "         3.78163388e-02, -1.35874423e+00,  2.54926969e+00],\n",
              "       [-2.08882967e+00, -1.88315017e-02, -9.70957261e-02,\n",
              "        -2.16254041e-01, -6.44227818e-01, -7.44602446e-01],\n",
              "       [-1.13023467e-01, -1.86239106e-01, -2.97895618e-01,\n",
              "        -2.22964741e-01, -5.62470690e-01,  4.57419585e-01],\n",
              "       [-5.79705484e-01,  2.67017734e-01,  1.84093790e-01,\n",
              "         2.16481968e-01,  5.45634263e-01, -4.35644718e-01],\n",
              "       [ 1.91713667e-01, -1.68566869e-01,  2.97003398e-01,\n",
              "         7.05696188e-02,  5.23795988e-01, -5.16332969e-01],\n",
              "       [-2.72239288e-01, -4.89047675e-01, -9.80538749e-01,\n",
              "        -3.10055851e-02, -2.27316336e-02,  1.01966276e+00],\n",
              "       [-1.23346248e-01, -3.64285360e-02, -6.51761097e-01,\n",
              "         1.85936300e-01,  5.65122914e-01,  6.06494933e-02],\n",
              "       [-2.97922468e-01,  1.96200209e-01,  3.88046147e-02,\n",
              "         4.47998161e-03,  3.60714543e-01, -6.48805858e-01],\n",
              "       [ 9.39499385e-01,  2.95628629e-01, -2.39799127e-01,\n",
              "        -1.51633941e-01, -3.37278747e-01,  1.55986629e+00],\n",
              "       [-1.12457695e+00, -3.95892986e-02,  4.07359193e-01,\n",
              "        -4.24913701e-01,  2.84232064e-01, -3.72874610e-01],\n",
              "       [ 5.11996719e-01, -2.72746579e-01, -3.87642085e-01,\n",
              "        -3.10369709e-01, -5.43121239e-01,  1.26838979e+00],\n",
              "       [-2.42001288e-01,  7.95623673e-02, -3.26243458e-02,\n",
              "        -1.49980559e-01,  1.03658919e+00, -1.27621926e+00],\n",
              "       [ 3.09253969e-03, -3.45964922e-01, -6.97980197e-02,\n",
              "         2.32866611e-01,  1.89502372e-01,  7.59341359e-01],\n",
              "       [-5.31938248e-01, -3.40097273e-01, -9.32193283e-01,\n",
              "         4.35478826e-01,  1.00694242e+00, -4.14036551e-01],\n",
              "       [ 9.12307220e-01, -3.62280886e-01,  1.26221663e+00,\n",
              "         8.98399815e-02,  7.65873647e-01, -3.66204217e-01],\n",
              "       [-7.74051832e-01, -6.63482792e-01, -6.54190082e-01,\n",
              "        -2.59606852e-01,  1.99538017e+00, -1.29695998e+00],\n",
              "       [-8.42058865e-01, -3.54054671e-01, -2.02329205e-01,\n",
              "        -2.30382892e-01, -6.26005287e-01, -6.77676309e-01],\n",
              "       [ 6.12123138e-01, -1.09371483e-01,  9.07193812e-01,\n",
              "        -2.16378691e-01, -6.92670363e-01, -8.06428204e-02],\n",
              "       [-5.56953139e-01, -1.25871638e+00, -6.44086390e-01,\n",
              "        -3.87320560e-02,  4.59378691e-01,  7.09651980e-01],\n",
              "       [ 8.61050269e-01, -4.97631493e-01,  4.62562434e-01,\n",
              "        -1.38999280e-01, -7.04281466e-01, -1.57426034e-01],\n",
              "       [ 6.26529608e-01,  2.32296184e-01, -1.25986637e-02,\n",
              "        -2.81543275e-01, -7.01189194e-01, -1.09311691e+00],\n",
              "       [-8.03503780e-01,  1.25630962e-02,  3.69402988e-01,\n",
              "        -1.27813348e-01,  4.16918389e-01, -5.80145626e-01],\n",
              "       [-6.40380429e-01,  7.99243147e-01,  6.77333936e-01,\n",
              "         1.29494354e-01, -2.67289507e-01, -1.32356525e-01],\n",
              "       [-1.42818154e-01,  3.95529062e-01, -6.16044825e-01,\n",
              "        -2.21118615e-01, -4.81295325e-01,  1.54688879e-01],\n",
              "       [-4.67509318e-01, -1.05180767e-01, -3.99644730e-01,\n",
              "         3.17623410e-01,  1.30423140e-01, -2.73318455e-02],\n",
              "       [ 1.75653737e-02,  2.17735238e-01, -5.48974966e-01,\n",
              "         2.06757096e-01,  2.09977718e-02, -3.48556675e-01],\n",
              "       [ 3.15334813e-01, -5.23719722e-01, -1.52798556e-01,\n",
              "        -5.94117926e-01, -1.18169362e+00, -2.39310582e-01],\n",
              "       [ 7.39953249e-01, -7.07803705e-01, -9.24387707e-01,\n",
              "        -1.83811695e-01, -1.04862701e+00, -6.02493141e-01],\n",
              "       [-1.79979304e+00, -1.09617819e-03, -1.12941806e+00,\n",
              "        -2.25645701e-01,  3.52977742e-01, -1.36898273e+00],\n",
              "       [ 2.11628106e+00, -2.04181831e-01, -9.72704032e-01,\n",
              "         1.07305207e-01, -1.10551513e+00,  1.44924200e+00],\n",
              "       [-8.35656394e-02,  3.78366851e-01,  3.44536089e-01,\n",
              "        -5.59532265e-01, -2.58114607e-01, -1.06890930e+00],\n",
              "       [ 1.67554445e-01,  5.65854288e-01, -5.73410801e-02,\n",
              "        -3.29440672e-01, -1.37895603e+00,  2.71911174e-01],\n",
              "       [-4.31196011e-01, -2.63922738e-01, -3.31075560e-01,\n",
              "        -2.31018064e-01, -1.52384039e-02, -4.65153850e-01],\n",
              "       [ 4.26784251e-01, -3.95917274e-01, -1.07862229e+00,\n",
              "        -1.26605892e-01,  6.85655665e-02, -4.84575965e-01],\n",
              "       [ 5.24250313e-01, -5.59806839e-01, -1.05679538e+00,\n",
              "         3.20892875e-01,  7.71395466e-01, -8.51484399e-02],\n",
              "       [-6.00753883e-01, -1.86765428e-01,  1.13551613e+00,\n",
              "        -1.21896544e-01,  1.68593294e+00,  2.50503912e-01],\n",
              "       [ 1.83318956e+00, -1.57671240e-01,  5.19798791e-01,\n",
              "        -9.42187282e-02, -4.68241300e-01,  8.95443947e-01],\n",
              "       [-1.48697240e+00,  1.71561363e-01, -9.57228698e-01,\n",
              "        -2.77523180e-01, -3.58786384e-01, -1.41819697e+00],\n",
              "       [ 3.65377238e-01, -5.24106434e-01,  6.28968446e-02,\n",
              "        -6.97396846e-02, -6.08868149e-01,  1.00749388e+00],\n",
              "       [-1.09152620e+00,  5.61283999e-02, -6.57002482e-01,\n",
              "        -1.59965319e-01, -9.21816620e-01, -7.77388017e-01],\n",
              "       [-1.09542449e+00,  8.74395108e-01,  9.73556213e-02,\n",
              "        -1.62571719e-01,  1.50739351e+00, -4.42463168e-01],\n",
              "       [ 6.35415106e-01,  4.82706116e-01,  3.50489795e-01,\n",
              "        -1.19064003e-02, -5.10100926e-01,  1.27616924e+00],\n",
              "       [ 1.57581188e-01, -6.04215812e-02,  3.07763687e+00,\n",
              "        -2.75020586e-01, -1.14054663e+00,  1.68321217e-01],\n",
              "       [ 2.23136719e-02, -3.96667961e-01,  4.06988694e-01,\n",
              "        -3.27718473e-01, -5.44295664e-01,  2.11199645e-01],\n",
              "       [-6.17446737e-01, -7.65246076e-01, -5.07258978e-02,\n",
              "         2.27645849e-01,  1.87431164e+00,  2.29785384e+00],\n",
              "       [ 5.93535986e-01, -7.64998678e-01,  6.65610498e-01,\n",
              "        -2.81663239e-01, -1.19858606e+00, -6.45894662e-01],\n",
              "       [ 1.39732611e+00,  6.97261955e-01,  8.39941540e-01,\n",
              "         6.86060236e+00, -1.05958904e+00,  1.52461005e+00],\n",
              "       [-1.72862350e+00,  2.01911704e-01,  5.57043095e-01,\n",
              "        -1.70623257e-01,  4.14087979e-01, -9.37271899e-01],\n",
              "       [ 1.06162060e+00, -7.06922165e-01,  2.95283291e+00,\n",
              "        -3.03852935e-01, -3.70829664e-01, -5.72988807e-01],\n",
              "       [-1.50192669e-01, -1.55123241e+00, -3.44923296e-01,\n",
              "        -7.14113642e-01,  6.39170801e-01, -9.87671984e-01],\n",
              "       [ 7.78857235e-02, -2.23185003e-01,  3.06349978e-01,\n",
              "        -1.16703547e-01, -9.67119074e-03, -7.83437821e-01],\n",
              "       [-5.88555311e-01, -3.66730275e-01,  7.84246515e-01,\n",
              "        -6.05473962e-02,  6.68451875e-01, -2.62500889e-01],\n",
              "       [-3.16410702e-01, -5.78722830e-02, -1.13397372e+00,\n",
              "         1.45245631e-01,  3.52999911e-01,  1.66888315e-01],\n",
              "       [ 3.21732327e-01,  1.52672009e-01,  5.10237481e-01,\n",
              "         3.45947646e-03, -9.73890968e-01,  3.79486718e-01],\n",
              "       [ 4.48830971e-01, -3.88736473e-01,  1.45796168e+00,\n",
              "        -1.28695541e-01, -1.39507239e-01,  2.03202577e-01],\n",
              "       [-8.29502147e-01, -3.85982135e-01, -1.07600737e-01,\n",
              "         6.43474038e+00,  1.20387736e-01, -7.96790085e-01],\n",
              "       [ 1.37378390e+00, -3.98659636e-01,  3.74432422e-01,\n",
              "        -4.53974945e-01, -1.55089855e+00,  6.41033725e-01],\n",
              "       [-7.94831176e-01, -9.14604653e-02, -2.25737999e-01,\n",
              "        -4.41660950e-01,  2.83565339e-01, -8.34691403e-01],\n",
              "       [ 1.97973549e+00, -2.41284495e-01,  2.64567506e-02,\n",
              "        -5.21037743e-01, -1.78701068e+00, -8.49313013e-01],\n",
              "       [-1.45197320e+00,  2.38758388e-01,  7.35442027e-01,\n",
              "        -4.61763467e-01,  2.66063158e+00, -8.19300630e-01],\n",
              "       [-1.58854054e+00, -1.05850495e+00, -5.46549301e-01,\n",
              "        -3.10039539e-01,  3.46240540e-01, -8.27116414e-01],\n",
              "       [ 1.52325858e+00, -1.50843663e+00, -5.98411060e-01,\n",
              "        -2.37270317e-01,  7.43290476e-01, -9.22032969e-02],\n",
              "       [-1.18054959e+00, -1.04729691e-01, -1.18777824e+00,\n",
              "         2.86327819e-03, -3.48156640e-01, -6.33798413e-01],\n",
              "       [ 1.22384029e+00, -2.48435272e-01, -7.91731754e-01,\n",
              "        -3.72516111e-01, -1.34427743e+00, -9.21404229e-01],\n",
              "       [ 6.55975463e-01, -2.59964073e-01, -1.33412295e+00,\n",
              "        -1.30906659e-01,  9.45657624e-01,  6.27101751e-01],\n",
              "       [-2.06547806e-01, -6.45976725e-01,  2.73298804e-01,\n",
              "        -9.59877395e-02,  2.18025269e-01, -1.42610096e+00],\n",
              "       [-1.36105338e+00, -6.53452759e-01,  8.07283305e-04,\n",
              "        -2.05052100e-01,  6.80096146e-01, -8.58920121e-01],\n",
              "       [ 9.91007861e-01, -5.16227104e-01,  2.96272313e-01,\n",
              "         3.03517478e-01,  7.26596253e-01, -9.94374602e-01],\n",
              "       [-8.20914259e-01, -2.06848426e-01, -2.82781605e-01,\n",
              "        -6.15477586e-02,  3.92704377e-01,  2.30500537e-01],\n",
              "       [ 6.09760014e-01, -4.34871261e-01,  7.10763005e-02,\n",
              "        -2.92338746e-01, -4.97105567e-02, -4.19572253e-02],\n",
              "       [-1.84295447e+00,  9.75226801e-01,  9.27222165e-01,\n",
              "        -2.78279676e-01,  1.42661526e+00, -5.79832108e-01],\n",
              "       [ 1.63878087e+00,  7.69762606e-01, -9.17873969e-01,\n",
              "        -1.98512713e-02, -1.56930966e+00,  2.13780201e+00],\n",
              "       [ 6.85776817e-01, -9.32938161e-01, -1.29760941e+00,\n",
              "         1.72224325e-01,  5.53126239e-01,  1.83784749e+00],\n",
              "       [-1.68383975e+00, -1.66535905e-01,  9.05808023e-01,\n",
              "        -2.47581914e-01,  1.12644221e-01, -7.27421476e-01],\n",
              "       [-3.08543709e-01,  5.16585812e-01, -1.29671803e+00,\n",
              "        -7.82763160e-02,  5.88839989e-01,  1.72782332e-01],\n",
              "       [ 1.11242937e+00, -3.07010044e-01,  2.34024042e-01,\n",
              "         7.62563610e-03, -1.36027514e+00,  1.32278618e-01],\n",
              "       [ 9.75002126e-01, -4.07626361e-01, -9.28046254e-02,\n",
              "        -1.31839534e-01,  2.81834463e-01,  1.80282790e-01],\n",
              "       [-6.87440127e-01, -2.88109821e-01,  7.37388900e-01,\n",
              "        -3.83698312e-01,  6.81586124e-01, -2.63988762e-01],\n",
              "       [ 8.73916854e-01, -2.11435076e+00, -1.31599245e+00,\n",
              "        -3.58315317e-01, -7.45847140e-01, -7.06247597e-02],\n",
              "       [ 2.94990479e-01, -2.30411743e+00, -1.03671950e+00,\n",
              "        -4.35262424e-01, -1.29960964e+00,  2.37816682e-01],\n",
              "       [-9.22049552e-01, -7.66628038e-01, -5.55659268e-01,\n",
              "        -1.54029503e-01, -1.10392865e-01, -1.05099608e+00],\n",
              "       [ 1.39252794e-01, -6.30430511e-01, -1.97550284e-01,\n",
              "         2.50973243e-01, -7.18479537e-02, -1.16636089e+00],\n",
              "       [-1.17286516e+00, -4.13556107e-01,  1.52264136e-01,\n",
              "        -2.51873781e-01,  9.65462616e-01, -9.80541470e-01],\n",
              "       [ 1.17113964e+00, -3.21611722e-02,  7.48063765e-01,\n",
              "         2.99130715e-01,  8.44339992e-01,  2.17814703e-01],\n",
              "       [ 1.58108060e-01,  1.27557942e-01, -1.02709286e+00,\n",
              "        -2.43467615e-01, -9.99956129e-01,  4.26534245e-01],\n",
              "       [ 5.20518322e-01, -1.56196961e-01, -3.66857809e-01,\n",
              "        -2.68845760e-01,  1.56573099e-01,  1.11125424e+00],\n",
              "       [-6.14869856e-01, -7.69192616e-01,  1.75272972e+00,\n",
              "        -4.05733251e-01,  1.22748188e+00, -9.42610391e-01],\n",
              "       [ 8.61613649e-01, -1.03122898e+00,  5.07555979e-01,\n",
              "         1.14571396e-01,  1.82872685e+00, -2.43353253e-02],\n",
              "       [-1.41231457e+00,  3.31067060e-02,  3.03038995e-01,\n",
              "         9.74932562e-02, -6.10893631e-01, -9.97615378e-01],\n",
              "       [ 7.97572544e-01, -9.68142225e-03, -6.24196479e-01,\n",
              "         4.48854891e-01, -4.79246698e-01,  4.63543562e+00],\n",
              "       [ 3.29394397e+00,  2.34396356e+00, -5.63396140e-01,\n",
              "        -1.51773215e-02, -1.44749132e+00,  2.13423978e+00],\n",
              "       [-2.19323128e+00,  3.21978924e+00,  1.94039349e-01,\n",
              "         1.76432344e-01,  7.92413196e-01, -4.81739315e-01],\n",
              "       [ 4.52895857e-01,  2.17162592e+00, -3.73672458e-02,\n",
              "        -1.25553483e-01, -1.47977207e+00,  1.16593762e+00],\n",
              "       [-3.45399940e-01,  2.47674515e+00,  1.73797147e-01,\n",
              "        -1.75257029e-01, -2.31714813e-01, -2.68446882e-01],\n",
              "       [-3.08215719e-02, -1.16509055e+00,  8.32022714e-01,\n",
              "        -3.95475068e-01, -3.84932029e-01,  4.76903439e-01],\n",
              "       [ 2.02566911e-01, -1.65241863e+00, -1.43983134e+00,\n",
              "         9.89727976e-02,  1.35512330e+00,  1.85813498e+00],\n",
              "       [ 9.37403220e-01,  1.86828572e-01,  1.13120531e+00,\n",
              "        -1.79472936e-01, -1.23199543e+00,  1.33673402e+00],\n",
              "       [-1.97096339e-01,  1.16787588e-01,  3.50022339e-01,\n",
              "        -2.27310411e-01, -5.68574386e-01, -1.80014683e-01],\n",
              "       [-1.33269362e+00, -4.51982253e-02, -3.09578259e-01,\n",
              "        -2.55003796e-01, -3.85366969e-01, -1.32288257e-01],\n",
              "       [ 1.06977547e+00, -3.52114526e-01, -1.62581954e+00,\n",
              "         5.28272293e-01,  1.42892540e-01,  2.68850458e+00],\n",
              "       [-3.37723546e-01,  2.48688737e+00,  1.24489405e-01,\n",
              "         8.99632758e-02,  2.67537399e+00, -1.17521617e-01],\n",
              "       [ 5.76243036e-02,  3.08550560e+00, -1.91385431e-01,\n",
              "         1.27657861e-01,  1.80165882e-01,  3.13071356e-01],\n",
              "       [-1.04449446e+00, -1.51366494e-01, -8.65664172e-01,\n",
              "         1.07613223e-01,  3.51218517e-01, -7.52499062e-01],\n",
              "       [ 4.94945157e-01, -5.63588188e-01, -4.11149556e-02,\n",
              "        -1.33691061e-01,  1.19286621e-01, -5.50170600e-01],\n",
              "       [ 8.04067144e-01, -2.45849407e-01,  1.55475749e-01,\n",
              "        -2.87176633e-02,  1.23819193e-02,  2.58501926e+00],\n",
              "       [-5.87274103e-01, -2.15448624e-01,  6.11195481e-01,\n",
              "        -1.25087462e-01,  4.27715211e-01, -5.12536455e-01],\n",
              "       [-7.47844561e-01,  6.88896229e-03, -9.65814618e-01,\n",
              "        -2.02968717e-01, -1.74775984e-03, -9.34478128e-01],\n",
              "       [ 3.64878596e-01,  2.52253435e-01, -3.76627737e-01,\n",
              "         1.24370002e-01, -6.42372730e-01,  7.79646785e-01],\n",
              "       [-1.37603116e+00,  3.58469424e+00,  1.38343384e+00,\n",
              "         7.03147076e-01,  5.50942136e-01, -5.11665066e-01],\n",
              "       [ 1.15940104e+00,  2.75079228e+00,  1.88286547e-01,\n",
              "         2.83401811e-01,  1.17983014e+00,  1.37748637e-01],\n",
              "       [-6.13844647e-01, -3.70102043e-01, -6.77554436e-02,\n",
              "        -7.16807641e-01, -2.43361137e-01,  9.41210533e-01],\n",
              "       [ 1.12358329e+00, -5.38271194e-01, -7.69228672e-01,\n",
              "        -2.02726741e-01,  5.27644428e-01, -6.97091652e-01],\n",
              "       [ 2.58419141e-01,  3.22776919e+00,  1.04033154e+00,\n",
              "         3.27941148e-01,  5.08832897e-01,  4.31039051e-01],\n",
              "       [-6.42288719e-01,  3.47885322e+00, -9.61382551e-04,\n",
              "         2.50659970e-01, -6.03083583e-02, -2.39830165e-01],\n",
              "       [ 4.79581160e-02, -6.02050869e-02,  3.11324684e-01,\n",
              "        -4.38941726e-01, -5.26768869e-01,  6.03338453e-01],\n",
              "       [ 1.30564472e+00,  1.52376854e-01, -7.85831196e-01,\n",
              "        -6.45437778e-01, -6.58990947e-01, -1.05463445e-01],\n",
              "       [-1.14736335e+00, -6.04957682e-01,  1.72370918e+00,\n",
              "        -6.02569299e-02,  4.43664037e-01, -9.10766961e-01],\n",
              "       [ 7.44178734e-01, -4.71574957e-01, -3.29454853e-02,\n",
              "        -3.39511580e-02, -5.25737045e-01,  2.57221672e-01]])"
            ]
          },
          "metadata": {
            "tags": []
          },
          "execution_count": 215
        }
      ]
    },
    {
      "cell_type": "markdown",
      "metadata": {
        "id": "WKKLn5YGhrnE"
      },
      "source": [
        "### ***รัน Factor Analyzer อีกรอบ ด้วย paremeters จำนวน factor เท่ากับ 6***"
      ]
    },
    {
      "cell_type": "code",
      "metadata": {
        "id": "tCfHbiGeRHee"
      },
      "source": [
        "from factor_analyzer import FactorAnalyzer\n",
        "Fifa_fa2 = FactorAnalyzer(n_factors=6)\n",
        "data_Fifa_fa = Fifa_fa2.fit_transform(Fifa_data_dropped)"
      ],
      "execution_count": 216,
      "outputs": []
    },
    {
      "cell_type": "code",
      "metadata": {
        "id": "ll6_ceweigFo",
        "colab": {
          "base_uri": "https://localhost:8080/"
        },
        "outputId": "efe7fb57-10d2-4436-e1e2-aa02d98496f1"
      },
      "source": [
        "Fifa_fa2.loadings_.shape"
      ],
      "execution_count": 217,
      "outputs": [
        {
          "output_type": "execute_result",
          "data": {
            "text/plain": [
              "(17, 6)"
            ]
          },
          "metadata": {
            "tags": []
          },
          "execution_count": 217
        }
      ]
    },
    {
      "cell_type": "markdown",
      "metadata": {
        "id": "pQdVnE4dirhj"
      },
      "source": [
        "***Plot factor loadings***"
      ]
    },
    {
      "cell_type": "code",
      "metadata": {
        "id": "DDb8zXBzin52"
      },
      "source": [
        "from matplotlib import pyplot as plt\n",
        "import numpy as np\n",
        "import matplotlib"
      ],
      "execution_count": 218,
      "outputs": []
    },
    {
      "cell_type": "markdown",
      "metadata": {
        "id": "_ybixa5ji_vU"
      },
      "source": [
        "**Matrix plot**"
      ]
    },
    {
      "cell_type": "code",
      "metadata": {
        "id": "W-ZIKnZYi-Y9",
        "colab": {
          "base_uri": "https://localhost:8080/",
          "height": 880
        },
        "outputId": "8181d774-2462-4649-f1ae-6eb86f33de17"
      },
      "source": [
        "matplotlib.rcParams['figure.figsize']=[15,15]\n",
        "plt.imshow(np.absolute(Fifa_fa2.loadings_))"
      ],
      "execution_count": 219,
      "outputs": [
        {
          "output_type": "execute_result",
          "data": {
            "text/plain": [
              "<matplotlib.image.AxesImage at 0x7faa73413690>"
            ]
          },
          "metadata": {
            "tags": []
          },
          "execution_count": 219
        },
        {
          "output_type": "display_data",
          "data": {
            "image/png": "[encoded data removed]",
            "text/plain": [
              "<Figure size 1080x1080 with 1 Axes>"
            ]
          },
          "metadata": {
            "tags": [],
            "needs_background": "light"
          }
        }
      ]
    },
    {
      "cell_type": "markdown",
      "metadata": {
        "id": "t7FPBhD4qlPH"
      },
      "source": [
        "# Output \n",
        "มีอยู่ 4 จุดที่เป็นสีเหลือง"
      ]
    },
    {
      "cell_type": "markdown",
      "metadata": {
        "id": "yJR0BHNHjgqV"
      },
      "source": [
        "**Plot กราฟแท่ง**\n",
        "\n",
        "Exploratory"
      ]
    },
    {
      "cell_type": "code",
      "metadata": {
        "id": "xpAAPNhrjdOM",
        "colab": {
          "base_uri": "https://localhost:8080/"
        },
        "outputId": "95fe8e99-5e48-418d-d13e-6860914b7f56"
      },
      "source": [
        "Fifa_data_dropped.columns"
      ],
      "execution_count": 220,
      "outputs": [
        {
          "output_type": "execute_result",
          "data": {
            "text/plain": [
              "Index(['Goal Scored', 'Ball Possession %', 'Attempts', 'On-Target',\n",
              "       'Off-Target', 'Blocked', 'Corners', 'Offsides', 'Free Kicks', 'Saves',\n",
              "       'Pass Accuracy %', 'Passes', 'Distance Covered (Kms)',\n",
              "       'Fouls Committed', 'Yellow Card', 'Yellow & Red', 'Red'],\n",
              "      dtype='object')"
            ]
          },
          "metadata": {
            "tags": []
          },
          "execution_count": 220
        }
      ]
    },
    {
      "cell_type": "code",
      "metadata": {
        "id": "sU8YtEhljwHe",
        "colab": {
          "base_uri": "https://localhost:8080/",
          "height": 880
        },
        "outputId": "026e359e-03e6-4f40-a709-548a7369216b"
      },
      "source": [
        "plt.bar(range(17),np.absolute(Fifa_fa2.loadings_[:,0]),tick_label=Fifa_data_dropped.columns)"
      ],
      "execution_count": 221,
      "outputs": [
        {
          "output_type": "execute_result",
          "data": {
            "text/plain": [
              "<BarContainer object of 17 artists>"
            ]
          },
          "metadata": {
            "tags": []
          },
          "execution_count": 221
        },
        {
          "output_type": "display_data",
          "data": {
            "image/png": "[encoded data removed]",
            "text/plain": [
              "<Figure size 1080x1080 with 1 Axes>"
            ]
          },
          "metadata": {
            "tags": [],
            "needs_background": "light"
          }
        }
      ]
    },
    {
      "cell_type": "markdown",
      "metadata": {
        "id": "VTKdiqAVq5kN"
      },
      "source": [
        "ข้อมูลของ Fifa 2018 มี factor หรือตัวแปรจำนวน 6 ตัวแปรที่สามารถอธิบาย ทำนายข้อมูลได้ นอกจากนี้ยังใช้ Exporatory และ Confirmatory ในการทำ Factor Analysis ได้อีกด้วย"
      ]
    },
    {
      "cell_type": "markdown",
      "metadata": {
        "id": "Q88O1AnXrlvY"
      },
      "source": [
        "# **จบ Exam03**\n",
        "\n",
        "\n",
        "\n"
      ]
    },
    {
      "cell_type": "code",
      "metadata": {
        "id": "BdRdwIhgkK3r"
      },
      "source": [
        ""
      ],
      "execution_count": null,
      "outputs": []
    }
  ]
}