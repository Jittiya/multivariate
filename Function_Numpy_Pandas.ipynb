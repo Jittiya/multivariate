{
  "nbformat": 4,
  "nbformat_minor": 0,
  "metadata": {
    "colab": {
      "name": "Function_Numpy_Pandas.ipynb",
      "provenance": [],
      "authorship_tag": "ABX9TyOEhUiaT0js433yfb0zfnXs",
      "include_colab_link": true
    },
    "kernelspec": {
      "name": "python3",
      "display_name": "Python 3"
    }
  },
  "cells": [
    {
      "cell_type": "markdown",
      "metadata": {
        "id": "view-in-github",
        "colab_type": "text"
      },
      "source": [
        "<a href=\"https://colab.research.google.com/github/Jittiya/multivariate/blob/main/Function_Numpy_Pandas.ipynb\" target=\"_parent\"><img src=\"https://colab.research.google.com/assets/colab-badge.svg\" alt=\"Open In Colab\"/></a>"
      ]
    },
    {
      "cell_type": "markdown",
      "metadata": {
        "id": "k_W9gCSzSj85"
      },
      "source": [
        "# Function"
      ]
    },
    {
      "cell_type": "markdown",
      "metadata": {
        "id": "x0nzhFg9TBVi"
      },
      "source": [
        "``` python\r\n",
        "def function_name(_Input_):\r\n",
        "      do_somthing with _Input_ to produce _Output_\r\n",
        "      return _Output_\r\n",
        "```\r\n",
        "\r\n"
      ]
    },
    {
      "cell_type": "markdown",
      "metadata": {
        "id": "NDhUpxcvhW_w"
      },
      "source": [
        "\r\n",
        "\r\n",
        "```\r\n",
        "# This is formatted as code\r\n",
        "```\r\n",
        "\r\n"
      ]
    },
    {
      "cell_type": "markdown",
      "metadata": {
        "id": "jNLGS7QnhjZE"
      },
      "source": [
        "function มีส่วนสำคัญทั้งหมด 4 ส่วน\r\n",
        "\r\n",
        "     1. บอก python ว่าเราจะเขียนฟังก์ชั่น ชื่ออะไร def function_name(): (ขาดไม่ได้)\r\n",
        "     2. กำหนดตัวแปรที่จะเป็น input Input (ขาดได้)\r\n",
        "     3. ส่วนประมวลผล do_something with Input to get Output (ขาดไม่ได้)\r\n",
        "     4. ส่วน output return Output(ขาดได้)\r\n",
        "เราใช้ เว้นวรรค (indent) เพื่อบอกขอบเขตของ code"
      ]
    },
    {
      "cell_type": "markdown",
      "metadata": {
        "id": "4_cOrNZ0h2V9"
      },
      "source": [
        "# สร้างฟังก์ชั่น"
      ]
    },
    {
      "cell_type": "code",
      "metadata": {
        "id": "AuMm8nOESmCA"
      },
      "source": [
        "def print_name(name,surname,ID) :\r\n",
        "      st = f'ชื่อ {name} นามสกุล {surname} ID {ID}'\r\n",
        "      return st\r\n",
        "      print( 'outside function' )"
      ],
      "execution_count": null,
      "outputs": []
    },
    {
      "cell_type": "markdown",
      "metadata": {
        "id": "xsYPQ1JkiAUg"
      },
      "source": [
        "การใช้ฟังก์ชั่น"
      ]
    },
    {
      "cell_type": "code",
      "metadata": {
        "colab": {
          "base_uri": "https://localhost:8080/",
          "height": 34
        },
        "id": "VX9CainvUuCk",
        "outputId": "5c2ee185-6c0d-4e20-a600-db6573161b36"
      },
      "source": [
        "print_name('จิตติยา' , 'ศิริธรรมจักร' , '623021043-3')"
      ],
      "execution_count": null,
      "outputs": [
        {
          "output_type": "execute_result",
          "data": {
            "application/vnd.google.colaboratory.intrinsic+json": {
              "type": "string"
            },
            "text/plain": [
              "'ชื่อ จิตติยา นามสกุล ศิริธรรมจักร ID 623021043-3'"
            ]
          },
          "metadata": {
            "tags": []
          },
          "execution_count": 3
        }
      ]
    },
    {
      "cell_type": "code",
      "metadata": {
        "colab": {
          "base_uri": "https://localhost:8080/"
        },
        "id": "7Yj2ooCwVe7s",
        "outputId": "e9746ea2-a3cf-4366-aaae-ff854b9eb5ea"
      },
      "source": [
        "output_string = print_name('จิตติยา' , 'ศิริธรรมจักร' , '623021043-3')\r\n",
        "print(output_string)"
      ],
      "execution_count": null,
      "outputs": [
        {
          "output_type": "stream",
          "text": [
            "ชื่อ จิตติยา นามสกุล ศิริธรรมจักร ID 623021043-3\n"
          ],
          "name": "stdout"
        }
      ]
    },
    {
      "cell_type": "code",
      "metadata": {
        "id": "BmUuFUigXuuB"
      },
      "source": [
        ""
      ],
      "execution_count": null,
      "outputs": []
    },
    {
      "cell_type": "markdown",
      "metadata": {
        "id": "INsyWGcEXwUl"
      },
      "source": [
        "ฟังก์ชั่นไม่จำเป็นต้องมี output"
      ]
    },
    {
      "cell_type": "code",
      "metadata": {
        "id": "eW9gAyGJX1H5"
      },
      "source": [
        "def print_name2(name,surname,ID) :\r\n",
        "      st = f'ชื่อ {name} นามสกุล {surname} ID {ID}'\r\n",
        "      print(st)"
      ],
      "execution_count": null,
      "outputs": []
    },
    {
      "cell_type": "code",
      "metadata": {
        "colab": {
          "base_uri": "https://localhost:8080/"
        },
        "id": "GyNIA3f4X8zS",
        "outputId": "50100e49-1b89-4936-a2f0-d512896e0c7c"
      },
      "source": [
        "print_name2( 'จิตติยา' , 'ศิริธรรมจักร' , '623021043-3' )"
      ],
      "execution_count": null,
      "outputs": [
        {
          "output_type": "stream",
          "text": [
            "ชื่อ จิตติยา นามสกุล ศิริธรรมจักร ID 623021043-3\n"
          ],
          "name": "stdout"
        }
      ]
    },
    {
      "cell_type": "code",
      "metadata": {
        "colab": {
          "base_uri": "https://localhost:8080/"
        },
        "id": "Gln77XX_YCXx",
        "outputId": "026a9f3d-c11a-40a3-e9f6-9f956389b8b6"
      },
      "source": [
        "op2 = print_name2( 'จิตติยา' , 'ศิริธรรมจักร' , '623021043-3' )"
      ],
      "execution_count": null,
      "outputs": [
        {
          "output_type": "stream",
          "text": [
            "ชื่อ จิตติยา นามสกุล ศิริธรรมจักร ID 623021043-3\n"
          ],
          "name": "stdout"
        }
      ]
    },
    {
      "cell_type": "code",
      "metadata": {
        "colab": {
          "base_uri": "https://localhost:8080/"
        },
        "id": "CJoIk1QhYg2T",
        "outputId": "e84446f4-d47f-4f13-89e2-3f602c55b34d"
      },
      "source": [
        "print(op2)"
      ],
      "execution_count": null,
      "outputs": [
        {
          "output_type": "stream",
          "text": [
            "None\n"
          ],
          "name": "stdout"
        }
      ]
    },
    {
      "cell_type": "markdown",
      "metadata": {
        "id": "Wt8qHNrcZHps"
      },
      "source": [
        "ฟังก์ชั่นไม่จำเป็นต้องมี input"
      ]
    },
    {
      "cell_type": "code",
      "metadata": {
        "id": "Bdk5Ed5TYkb8"
      },
      "source": [
        "def Pi( ):\r\n",
        "      return 3.14159265359"
      ],
      "execution_count": null,
      "outputs": []
    },
    {
      "cell_type": "code",
      "metadata": {
        "colab": {
          "base_uri": "https://localhost:8080/"
        },
        "id": "4c10mok0ZVj1",
        "outputId": "34259221-27e7-4a7d-9a80-f2447dbdffd6"
      },
      "source": [
        "# คำนวณพื้นที่วงกลมที่มีขนาดเส้นผ่านศูนย์กลางเท่ากับ 3\r\n",
        "Pi( )*(1.5**2)"
      ],
      "execution_count": null,
      "outputs": [
        {
          "output_type": "execute_result",
          "data": {
            "text/plain": [
              "7.0685834705775"
            ]
          },
          "metadata": {
            "tags": []
          },
          "execution_count": 15
        }
      ]
    },
    {
      "cell_type": "code",
      "metadata": {
        "id": "hiTdUGl2ZnB0"
      },
      "source": [
        "def print_my_name( ):\r\n",
        "      print( ' จิตติยา  ศิริธรรมจักร  623021043-3 ' )"
      ],
      "execution_count": null,
      "outputs": []
    },
    {
      "cell_type": "code",
      "metadata": {
        "colab": {
          "base_uri": "https://localhost:8080/"
        },
        "id": "xN3uTR0_Z4ik",
        "outputId": "832990f3-b6a4-40b8-eace-cd300ed73d0b"
      },
      "source": [
        "print_my_name( )"
      ],
      "execution_count": null,
      "outputs": [
        {
          "output_type": "stream",
          "text": [
            " จิตติยา  ศิริธรรมจักร  623021043-3 \n"
          ],
          "name": "stdout"
        }
      ]
    },
    {
      "cell_type": "markdown",
      "metadata": {
        "id": "syr6bvFVaDND"
      },
      "source": [
        "## 1. input ของ function ใน python มีสองแบบ input ที่จำเป็นต้องใส่ กับ input ที่ไม่จำเป็นต้องใส่ (มีค่า default)\r\n",
        "##2. เราต้องเรียง input ที่จำเป็นต้องใส่ขึ้นก่อน"
      ]
    },
    {
      "cell_type": "code",
      "metadata": {
        "id": "zIlCqAruZ8if"
      },
      "source": [
        "def print_2lines_default(name,surname,ID,grade= 'F' ):\r\n",
        "      st = f' ชื่อ {name} นามสกุล {surname} isyl {ID}'\r\n",
        "      print(st)\r\n",
        "      st2=f'เกรดวิชา Multivariate >>> {grade}'\r\n",
        "      print(st2)"
      ],
      "execution_count": null,
      "outputs": []
    },
    {
      "cell_type": "code",
      "metadata": {
        "colab": {
          "base_uri": "https://localhost:8080/"
        },
        "id": "F--LnjIKbOqz",
        "outputId": "4e792d7d-b474-4d5c-8460-0a993127f371"
      },
      "source": [
        "print_2lines_default('จิตติยา' , 'ศิริธรรมจักร' , '623021043-3' )"
      ],
      "execution_count": null,
      "outputs": [
        {
          "output_type": "stream",
          "text": [
            " ชื่อ จิตติยา นามสกุล ศิริธรรมจักร isyl 623021043-3\n",
            "เกรดวิชา Multivariate >>> F\n"
          ],
          "name": "stdout"
        }
      ]
    },
    {
      "cell_type": "code",
      "metadata": {
        "colab": {
          "base_uri": "https://localhost:8080/"
        },
        "id": "QYasTv0ebe-i",
        "outputId": "db6cd552-e242-4358-d17d-b652b80a4532"
      },
      "source": [
        "print_2lines_default('จิตติยา' , 'ศิริธรรมจักร' , '623021043-3' , 'A' )"
      ],
      "execution_count": null,
      "outputs": [
        {
          "output_type": "stream",
          "text": [
            " ชื่อ จิตติยา นามสกุล ศิริธรรมจักร isyl 623021043-3\n",
            "เกรดวิชา Multivariate >>> A\n"
          ],
          "name": "stdout"
        }
      ]
    },
    {
      "cell_type": "markdown",
      "metadata": {
        "id": "NqvoV9uHbnDA"
      },
      "source": [
        "เราสามารถเรียกฟังก์ชั่นโดยใช้ชื่อตัวแปรอื่นของฟังก์ชั่นช่วยได้"
      ]
    },
    {
      "cell_type": "code",
      "metadata": {
        "colab": {
          "base_uri": "https://localhost:8080/"
        },
        "id": "ak5jxLWKcWiZ",
        "outputId": "e3fa93ad-d99c-439f-fc59-0369fbba33a6"
      },
      "source": [
        "print_name2(name='จิตติยา', surname='ศิริธรรมจักร', ID='623021043-3')"
      ],
      "execution_count": null,
      "outputs": [
        {
          "output_type": "stream",
          "text": [
            "ชื่อ จิตติยา นามสกุล ศิริธรรมจักร ID 623021043-3\n"
          ],
          "name": "stdout"
        }
      ]
    },
    {
      "cell_type": "markdown",
      "metadata": {
        "id": "x0rs860vcx7_"
      },
      "source": [
        "HW3  ให้เขียน function คำนวณจำนวนวินาทีจาก เวลาต่อไปนี้\r\n",
        "\r\n",
        "'14-15-31'\r\n",
        "\r\n",
        "'13-00-01'\r\n",
        "\r\n",
        "'05-49-44'\r\n",
        "\r\n",
        "'00-00-16'\r\n",
        "\r\n",
        "และ print ให้สวยงาม"
      ]
    },
    {
      "cell_type": "markdown",
      "metadata": {
        "id": "qMN8aYHtp9Ww"
      },
      "source": [
        "# คำตอบ"
      ]
    },
    {
      "cell_type": "code",
      "metadata": {
        "id": "PJxDdh7jdu7E"
      },
      "source": [
        "def function_time(time):\r\n",
        "    st = time.split('-')\r\n",
        "    ans = int(st[0]) * 3600 + int(st[1]) * 60 + int(st[2]) \r\n",
        "    print(f'คำนวณจำนวนวินาทีจาก {time} จะเท่ากับ {ans} วินาที')"
      ],
      "execution_count": null,
      "outputs": []
    },
    {
      "cell_type": "code",
      "metadata": {
        "id": "_0dsZHqdpbdi",
        "colab": {
          "base_uri": "https://localhost:8080/"
        },
        "outputId": "a59ddc63-2116-4e79-8c38-f9bee92edbbf"
      },
      "source": [
        "function_time('14-15-31')"
      ],
      "execution_count": null,
      "outputs": [
        {
          "output_type": "stream",
          "text": [
            "คำนวณจำนวนวินาทีจาก 14-15-31 จะเท่ากับ 51331 วินาที\n"
          ],
          "name": "stdout"
        }
      ]
    },
    {
      "cell_type": "code",
      "metadata": {
        "id": "t9BAq7R0psln",
        "colab": {
          "base_uri": "https://localhost:8080/"
        },
        "outputId": "34a9d28b-2c83-4245-9810-efa0dbeb9ed9"
      },
      "source": [
        "function_time('13-00-01')"
      ],
      "execution_count": null,
      "outputs": [
        {
          "output_type": "stream",
          "text": [
            "คำนวณจำนวนวินาทีจาก 13-00-01 จะเท่ากับ 46801 วินาที\n"
          ],
          "name": "stdout"
        }
      ]
    },
    {
      "cell_type": "code",
      "metadata": {
        "id": "UetR7tC_pyoN",
        "colab": {
          "base_uri": "https://localhost:8080/"
        },
        "outputId": "1e283758-405b-49f6-ea81-3b6e8d9e1814"
      },
      "source": [
        "function_time('15-49-44')"
      ],
      "execution_count": null,
      "outputs": [
        {
          "output_type": "stream",
          "text": [
            "คำนวณจำนวนวินาทีจาก 15-49-44 จะเท่ากับ 56984 วินาที\n"
          ],
          "name": "stdout"
        }
      ]
    },
    {
      "cell_type": "code",
      "metadata": {
        "id": "Whv0cb2xp1r2",
        "colab": {
          "base_uri": "https://localhost:8080/"
        },
        "outputId": "962192dc-8d12-4b37-9b8f-37a70076a5bd"
      },
      "source": [
        "function_time('00-00-16')"
      ],
      "execution_count": null,
      "outputs": [
        {
          "output_type": "stream",
          "text": [
            "คำนวณจำนวนวินาทีจาก 00-00-16 จะเท่ากับ 16 วินาที\n"
          ],
          "name": "stdout"
        }
      ]
    },
    {
      "cell_type": "code",
      "metadata": {
        "id": "WxNvR2s2p4la"
      },
      "source": [
        ""
      ],
      "execution_count": null,
      "outputs": []
    },
    {
      "cell_type": "markdown",
      "metadata": {
        "id": "7CFLs-VMP_9m"
      },
      "source": [
        "19 Jan 2021"
      ]
    },
    {
      "cell_type": "markdown",
      "metadata": {
        "id": "4u9QvAwaQCu3"
      },
      "source": [
        "# Numpy"
      ]
    },
    {
      "cell_type": "markdown",
      "metadata": {
        "id": "_Lh36TbHQSNK"
      },
      "source": [
        "Numpy -> package  สำหรับจัดการกับ Array ที่เป็นตัวเลข (Matrix)\r\n",
        "\r\n",
        "Num + py   ->  Number-Numerical + python\r\n",
        "\r\n",
        "ขั้นตอนการใช้ package\r\n",
        "1.  ```import```  ```ชื่อ package``` #เรียกใช้ package\r\n",
        "2.  ```ชื่อ package```.```ชื่อฟังก์ชัน``` #เรียกใช้ function \r\n",
        "\r\n",
        "\r\n",
        "\r\n"
      ]
    },
    {
      "cell_type": "code",
      "metadata": {
        "id": "T5eMwqfTQB0V"
      },
      "source": [
        "import numpy"
      ],
      "execution_count": 1,
      "outputs": []
    },
    {
      "cell_type": "markdown",
      "metadata": {
        "id": "nPlCT9qTSenp"
      },
      "source": [
        "data structure  ->  array"
      ]
    },
    {
      "cell_type": "markdown",
      "metadata": {
        "id": "ubEjj3tjUBsk"
      },
      "source": [
        "สร้าง array  (numpy array)"
      ]
    },
    {
      "cell_type": "code",
      "metadata": {
        "id": "TDYWfJ2-SfPO",
        "outputId": "5eb53da8-8d5f-4dc2-8833-e8483f12af5a",
        "colab": {
          "base_uri": "https://localhost:8080/"
        }
      },
      "source": [
        "mat_ex1 = numpy.array([[5.2,3.0,4.5],[9.1,0.1,0.3]])\r\n",
        "print(mat_ex1)"
      ],
      "execution_count": 4,
      "outputs": [
        {
          "output_type": "stream",
          "text": [
            "[[5.2 3.  4.5]\n",
            " [9.1 0.1 0.3]]\n"
          ],
          "name": "stdout"
        }
      ]
    },
    {
      "cell_type": "markdown",
      "metadata": {
        "id": "0A94qlkZUp_y"
      },
      "source": [
        "สำคัญ\r\n",
        "1.ชี้ค่าใน numpy array"
      ]
    },
    {
      "cell_type": "code",
      "metadata": {
        "id": "WTClFoUaU9AP",
        "outputId": "7ad9d8f8-6fd6-4e5e-f00d-fcc25bcc34ac",
        "colab": {
          "base_uri": "https://localhost:8080/"
        }
      },
      "source": [
        "mat_ex1[1,1] #[แถว,หลัก]"
      ],
      "execution_count": 6,
      "outputs": [
        {
          "output_type": "execute_result",
          "data": {
            "text/plain": [
              "0.1"
            ]
          },
          "metadata": {
            "tags": []
          },
          "execution_count": 6
        }
      ]
    },
    {
      "cell_type": "markdown",
      "metadata": {
        "id": "gPR2-7ARVz_S"
      },
      "source": [
        "ถ้าไม่มี numpy array"
      ]
    },
    {
      "cell_type": "code",
      "metadata": {
        "id": "eHfqTjqWVHIZ",
        "outputId": "2269a8a1-e667-4880-ce11-8fa36d7dd9d7",
        "colab": {
          "base_uri": "https://localhost:8080/"
        }
      },
      "source": [
        "list_ex1 = [[5.2,3.0,4.5],[9.1,0.1,0.3]]\r\n",
        "print(list_ex1)"
      ],
      "execution_count": 7,
      "outputs": [
        {
          "output_type": "stream",
          "text": [
            "[[5.2, 3.0, 4.5], [9.1, 0.1, 0.3]]\n"
          ],
          "name": "stdout"
        }
      ]
    },
    {
      "cell_type": "code",
      "metadata": {
        "id": "D5nDBpUtWc3l",
        "outputId": "df29c464-d135-426e-eae9-b45a53e8b3c4",
        "colab": {
          "base_uri": "https://localhost:8080/"
        }
      },
      "source": [
        "list_ex1[1][1]  #list สามารภใส่ตัวเลขได้ค่าเดียวใน[]"
      ],
      "execution_count": 16,
      "outputs": [
        {
          "output_type": "execute_result",
          "data": {
            "text/plain": [
              "0.1"
            ]
          },
          "metadata": {
            "tags": []
          },
          "execution_count": 16
        }
      ]
    },
    {
      "cell_type": "code",
      "metadata": {
        "id": "tMenC4SbWlW5",
        "outputId": "cff17575-fedf-4a29-8e73-9e1afe73532a",
        "colab": {
          "base_uri": "https://localhost:8080/"
        }
      },
      "source": [
        "print(list_ex1)\r\n",
        "a = list_ex1[1]\r\n",
        "print(a)\r\n",
        "print(a[1])"
      ],
      "execution_count": 17,
      "outputs": [
        {
          "output_type": "stream",
          "text": [
            "[[5.2, 3.0, 4.5], [9.1, 0.1, 0.3]]\n",
            "[9.1, 0.1, 0.3]\n",
            "0.1\n"
          ],
          "name": "stdout"
        }
      ]
    },
    {
      "cell_type": "markdown",
      "metadata": {
        "id": "H8WIM99xX5A6"
      },
      "source": [
        "Matrix  Operations\r\n",
        "\r\n",
        "data 2 แบบ  ->  matrix (2D  array)  ,  scalar  (ตัวเลขค่าคงที่)"
      ]
    },
    {
      "cell_type": "code",
      "metadata": {
        "id": "hPSVlzlYXrUF",
        "outputId": "657571ca-3533-4429-9d77-303d9821af69",
        "colab": {
          "base_uri": "https://localhost:8080/"
        }
      },
      "source": [
        "mat_ex1 = numpy.array([[5.2,3.0,4.5],[9.1,0.1,0.3]])\r\n",
        "print(mat_ex1)\r\n",
        "mat_ex2 = numpy.array([[2,3.7,5.9],[91,1.5,7.3]])\r\n",
        "print(mat_ex2)"
      ],
      "execution_count": 18,
      "outputs": [
        {
          "output_type": "stream",
          "text": [
            "[[5.2 3.  4.5]\n",
            " [9.1 0.1 0.3]]\n",
            "[[ 2.   3.7  5.9]\n",
            " [91.   1.5  7.3]]\n"
          ],
          "name": "stdout"
        }
      ]
    },
    {
      "cell_type": "markdown",
      "metadata": {
        "id": "G9_WcukKZDEQ"
      },
      "source": [
        "##  บวกกับลบ  matrix  ต้องเอาตัวเลขตำปหน่งเดียวกันมาบวกกัน\r\n",
        "\r\n",
        "\r\n",
        "หน้าตาของ matrix ต้องเหมือนกัน"
      ]
    },
    {
      "cell_type": "markdown",
      "metadata": {
        "id": "zkk9JIr7Zg_0"
      },
      "source": [
        "mat_ex0  = numpy.array([[1,2],[3,4]])\r\n",
        "print(mat_ex0)"
      ]
    },
    {
      "cell_type": "code",
      "metadata": {
        "id": "jdSBxpThZ01b",
        "outputId": "ad86f67b-21e1-494e-a19f-50ee42b8005e",
        "colab": {
          "base_uri": "https://localhost:8080/"
        }
      },
      "source": [
        "mat_ex0  = numpy.array([[1,2],[3,4]])\r\n",
        "print(mat_ex0)"
      ],
      "execution_count": 20,
      "outputs": [
        {
          "output_type": "stream",
          "text": [
            "[[1 2]\n",
            " [3 4]]\n"
          ],
          "name": "stdout"
        }
      ]
    },
    {
      "cell_type": "code",
      "metadata": {
        "id": "tKESqL4dYpq3",
        "outputId": "1e2cd558-0c1a-4389-c8c5-1ba4a7f6be1f",
        "colab": {
          "base_uri": "https://localhost:8080/"
        }
      },
      "source": [
        "mat_ex3 = mat_ex1 + mat_ex2\r\n",
        "print(mat_ex3)\r\n",
        "mat_ex4 = mat_ex1 - mat_ex2\r\n",
        "print(mat_ex4)"
      ],
      "execution_count": 19,
      "outputs": [
        {
          "output_type": "stream",
          "text": [
            "[[  7.2   6.7  10.4]\n",
            " [100.1   1.6   7.6]]\n",
            "[[  3.2  -0.7  -1.4]\n",
            " [-81.9  -1.4  -7. ]]\n"
          ],
          "name": "stdout"
        }
      ]
    },
    {
      "cell_type": "code",
      "metadata": {
        "id": "qVxhidBbZY9t",
        "outputId": "01bc60f5-286e-404d-f299-3fe32ea6bdfd",
        "colab": {
          "base_uri": "https://localhost:8080/",
          "height": 162
        }
      },
      "source": [
        "mat_ex0 + mat_ex1"
      ],
      "execution_count": 21,
      "outputs": [
        {
          "output_type": "error",
          "ename": "ValueError",
          "evalue": "ignored",
          "traceback": [
            "\u001b[0;31m---------------------------------------------------------------------------\u001b[0m",
            "\u001b[0;31mValueError\u001b[0m                                Traceback (most recent call last)",
            "\u001b[0;32m<ipython-input-21-67bd07e6c13e>\u001b[0m in \u001b[0;36m<module>\u001b[0;34m()\u001b[0m\n\u001b[0;32m----> 1\u001b[0;31m \u001b[0mmat_ex0\u001b[0m \u001b[0;34m+\u001b[0m \u001b[0mmat_ex1\u001b[0m\u001b[0;34m\u001b[0m\u001b[0;34m\u001b[0m\u001b[0m\n\u001b[0m",
            "\u001b[0;31mValueError\u001b[0m: operands could not be broadcast together with shapes (2,2) (2,3) "
          ]
        }
      ]
    },
    {
      "cell_type": "markdown",
      "metadata": {
        "id": "t1ADnQMBaIuq"
      },
      "source": [
        "การตรวจสอบขนาดของ  matrix"
      ]
    },
    {
      "cell_type": "code",
      "metadata": {
        "id": "8N0G4LY2aG50",
        "outputId": "2722434d-2234-4e0f-e8b8-99ff389f4e5d",
        "colab": {
          "base_uri": "https://localhost:8080/"
        }
      },
      "source": [
        "mat_ex3.shape"
      ],
      "execution_count": 22,
      "outputs": [
        {
          "output_type": "execute_result",
          "data": {
            "text/plain": [
              "(2, 3)"
            ]
          },
          "metadata": {
            "tags": []
          },
          "execution_count": 22
        }
      ]
    },
    {
      "cell_type": "code",
      "metadata": {
        "id": "cxwv2nA1aS0G",
        "outputId": "f0443da4-9ef4-4a9f-c919-44d8b253c50c",
        "colab": {
          "base_uri": "https://localhost:8080/"
        }
      },
      "source": [
        "mat_ex3.shape[0]"
      ],
      "execution_count": 23,
      "outputs": [
        {
          "output_type": "execute_result",
          "data": {
            "text/plain": [
              "2"
            ]
          },
          "metadata": {
            "tags": []
          },
          "execution_count": 23
        }
      ]
    },
    {
      "cell_type": "markdown",
      "metadata": {
        "id": "ASzG9x2DbApp"
      },
      "source": [
        "# คูณ matrix"
      ]
    },
    {
      "cell_type": "code",
      "metadata": {
        "id": "zujUikfAb4vP",
        "outputId": "931213bd-b524-4b62-966d-cc4b2ec5ff1d",
        "colab": {
          "base_uri": "https://localhost:8080/"
        }
      },
      "source": [
        "print(mat_ex1)\r\n",
        "print(mat_ex2)"
      ],
      "execution_count": 25,
      "outputs": [
        {
          "output_type": "stream",
          "text": [
            "[[5.2 3.  4.5]\n",
            " [9.1 0.1 0.3]]\n",
            "[[ 2.   3.7  5.9]\n",
            " [91.   1.5  7.3]]\n"
          ],
          "name": "stdout"
        }
      ]
    },
    {
      "cell_type": "code",
      "metadata": {
        "id": "Rud9dy8tayPE",
        "outputId": "18f30a04-9d7b-4a5a-8a23-ff301b90ea7e",
        "colab": {
          "base_uri": "https://localhost:8080/"
        }
      },
      "source": [
        "mat_ex1 * mat_ex2  #แบบนี้ไม่ถูก มันเป็นการเอาตำแหน่งเดียวกันมาคูณกัน ไม่ใช่การคูณ matrix"
      ],
      "execution_count": 26,
      "outputs": [
        {
          "output_type": "execute_result",
          "data": {
            "text/plain": [
              "array([[1.040e+01, 1.110e+01, 2.655e+01],\n",
              "       [8.281e+02, 1.500e-01, 2.190e+00]])"
            ]
          },
          "metadata": {
            "tags": []
          },
          "execution_count": 26
        }
      ]
    },
    {
      "cell_type": "markdown",
      "metadata": {
        "id": "n4xKpPcleq1o"
      },
      "source": [
        "## การคูณ matrix (แถวคูณหลัก)\r\n",
        "\r\n",
        "( หลักของ Matrix ตัวข้างหน้า  ต้องเท่ากับแถวของ Matrix  ตัวข้างหลัง )\r\n",
        "\r\n",
        "dot product (AAA,x),(x,ZZZ)  =  (AAA,ZZZ)"
      ]
    },
    {
      "cell_type": "code",
      "metadata": {
        "id": "Dm32Xl3Wbyvw",
        "outputId": "2a09efce-a9f6-4a26-bf77-369bbcf065c0",
        "colab": {
          "base_uri": "https://localhost:8080/",
          "height": 195
        }
      },
      "source": [
        "numpy.dot(mat_ex1,mat_ex2)  #"
      ],
      "execution_count": 27,
      "outputs": [
        {
          "output_type": "error",
          "ename": "ValueError",
          "evalue": "ignored",
          "traceback": [
            "\u001b[0;31m---------------------------------------------------------------------------\u001b[0m",
            "\u001b[0;31mValueError\u001b[0m                                Traceback (most recent call last)",
            "\u001b[0;32m<ipython-input-27-87326e5d09ab>\u001b[0m in \u001b[0;36m<module>\u001b[0;34m()\u001b[0m\n\u001b[0;32m----> 1\u001b[0;31m \u001b[0mnumpy\u001b[0m\u001b[0;34m.\u001b[0m\u001b[0mdot\u001b[0m\u001b[0;34m(\u001b[0m\u001b[0mmat_ex1\u001b[0m\u001b[0;34m,\u001b[0m\u001b[0mmat_ex2\u001b[0m\u001b[0;34m)\u001b[0m\u001b[0;34m\u001b[0m\u001b[0;34m\u001b[0m\u001b[0m\n\u001b[0m",
            "\u001b[0;32m<__array_function__ internals>\u001b[0m in \u001b[0;36mdot\u001b[0;34m(*args, **kwargs)\u001b[0m\n",
            "\u001b[0;31mValueError\u001b[0m: shapes (2,3) and (2,3) not aligned: 3 (dim 1) != 2 (dim 0)"
          ]
        }
      ]
    },
    {
      "cell_type": "code",
      "metadata": {
        "id": "NF0nsCPBcj0d",
        "outputId": "e8b95bae-ed0f-4c15-8588-ad1f78e4e39d",
        "colab": {
          "base_uri": "https://localhost:8080/"
        }
      },
      "source": [
        "print(mat_ex1)\r\n",
        "print(mat_ex1.shape)\r\n",
        "print(mat_ex2)\r\n",
        "print(mat_ex2.shape)"
      ],
      "execution_count": 28,
      "outputs": [
        {
          "output_type": "stream",
          "text": [
            "[[5.2 3.  4.5]\n",
            " [9.1 0.1 0.3]]\n",
            "(2, 3)\n",
            "[[ 2.   3.7  5.9]\n",
            " [91.   1.5  7.3]]\n",
            "(2, 3)\n"
          ],
          "name": "stdout"
        }
      ]
    },
    {
      "cell_type": "markdown",
      "metadata": {
        "id": "nhQLnBa1f5u0"
      },
      "source": [
        "# Transpose  กลับแถวเป็นหลักกลับหลักเป็นแถว\r\n",
        "\r\n",
        "\r\n",
        "\r\n",
        "ใช้คำสั่ง\r\n",
        "```Matrix.T```\r\n",
        "\r\n"
      ]
    },
    {
      "cell_type": "code",
      "metadata": {
        "id": "xTzu3taVhARZ",
        "outputId": "5841df17-bfbd-4008-b044-b4a6c59dc8d0",
        "colab": {
          "base_uri": "https://localhost:8080/"
        }
      },
      "source": [
        "print(mat_ex2)\r\n",
        "print(mat_ex2.shape)"
      ],
      "execution_count": 30,
      "outputs": [
        {
          "output_type": "stream",
          "text": [
            "[[ 2.   3.7  5.9]\n",
            " [91.   1.5  7.3]]\n",
            "(2, 3)\n"
          ],
          "name": "stdout"
        }
      ]
    },
    {
      "cell_type": "code",
      "metadata": {
        "id": "EsyyUasxhB_F",
        "outputId": "4742c4a2-02ec-443f-9a44-754338059ddf",
        "colab": {
          "base_uri": "https://localhost:8080/"
        }
      },
      "source": [
        "print(mat_ex2.T)\r\n",
        "print(mat_ex2.T.shape)"
      ],
      "execution_count": 31,
      "outputs": [
        {
          "output_type": "stream",
          "text": [
            "[[ 2.  91. ]\n",
            " [ 3.7  1.5]\n",
            " [ 5.9  7.3]]\n",
            "(3, 2)\n"
          ],
          "name": "stdout"
        }
      ]
    },
    {
      "cell_type": "code",
      "metadata": {
        "id": "qmTlC5K4fuM4",
        "outputId": "8ee33733-9800-40df-8c92-a847f88038d3",
        "colab": {
          "base_uri": "https://localhost:8080/"
        }
      },
      "source": [
        "numpy.dot(mat_ex1, mat_ex2.T)  #(2,3).(3,2)"
      ],
      "execution_count": 29,
      "outputs": [
        {
          "output_type": "execute_result",
          "data": {
            "text/plain": [
              "array([[ 48.05, 510.55],\n",
              "       [ 20.34, 830.44]])"
            ]
          },
          "metadata": {
            "tags": []
          },
          "execution_count": 29
        }
      ]
    },
    {
      "cell_type": "code",
      "metadata": {
        "id": "kWfSp0AwgXov",
        "outputId": "d7bae8e5-8f36-4033-fee7-0f8e136a00c7",
        "colab": {
          "base_uri": "https://localhost:8080/"
        }
      },
      "source": [
        "numpy.dot(mat_ex1.T,mat_ex2) #(3,2).(2,3)  = (3,3)"
      ],
      "execution_count": 33,
      "outputs": [
        {
          "output_type": "execute_result",
          "data": {
            "text/plain": [
              "array([[838.5 ,  32.89,  97.11],\n",
              "       [ 15.1 ,  11.25,  18.43],\n",
              "       [ 36.3 ,  17.1 ,  28.74]])"
            ]
          },
          "metadata": {
            "tags": []
          },
          "execution_count": 33
        }
      ]
    },
    {
      "cell_type": "markdown",
      "metadata": {
        "id": "duGO6uQCi5e-"
      },
      "source": [
        "## HW 4  อธิบายการหา Determinant  และ Inverse matrix  (รูปและคำอธิบาย)"
      ]
    },
    {
      "cell_type": "code",
      "metadata": {
        "id": "DaWiL5EQh3VU"
      },
      "source": [
        ""
      ],
      "execution_count": null,
      "outputs": []
    }
  ]
}