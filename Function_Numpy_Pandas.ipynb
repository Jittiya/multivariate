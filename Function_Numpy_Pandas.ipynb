{
  "nbformat": 4,
  "nbformat_minor": 0,
  "metadata": {
    "colab": {
      "name": "Function_Numpy_Pandas.ipynb",
      "provenance": [],
      "authorship_tag": "ABX9TyO82M85IBJh9m65WM8FICm6",
      "include_colab_link": true
    },
    "kernelspec": {
      "name": "python3",
      "display_name": "Python 3"
    }
  },
  "cells": [
    {
      "cell_type": "markdown",
      "metadata": {
        "id": "view-in-github",
        "colab_type": "text"
      },
      "source": [
        "<a href=\"https://colab.research.google.com/github/Jittiya/multivariate/blob/main/Function_Numpy_Pandas.ipynb\" target=\"_parent\"><img src=\"https://colab.research.google.com/assets/colab-badge.svg\" alt=\"Open In Colab\"/></a>"
      ]
    },
    {
      "cell_type": "markdown",
      "metadata": {
        "id": "k_W9gCSzSj85"
      },
      "source": [
        "# Function"
      ]
    },
    {
      "cell_type": "markdown",
      "metadata": {
        "id": "x0nzhFg9TBVi"
      },
      "source": [
        ""
      ]
    },
    {
      "cell_type": "code",
      "metadata": {
        "id": "AuMm8nOESmCA"
      },
      "source": [
        "def print_name(name,surname,ID) :\r\n",
        "      st = f'ชื่อ {name} นามสกุล {surname} ID {ID}'\r\n",
        "      return st\r\n",
        "      print( 'outside function' )"
      ],
      "execution_count": 5,
      "outputs": []
    },
    {
      "cell_type": "code",
      "metadata": {
        "colab": {
          "base_uri": "https://localhost:8080/",
          "height": 34
        },
        "id": "VX9CainvUuCk",
        "outputId": "5c2ee185-6c0d-4e20-a600-db6573161b36"
      },
      "source": [
        "print_name('จิตติยา' , 'ศิริธรรมจักร' , '623021043-3')"
      ],
      "execution_count": 3,
      "outputs": [
        {
          "output_type": "execute_result",
          "data": {
            "application/vnd.google.colaboratory.intrinsic+json": {
              "type": "string"
            },
            "text/plain": [
              "'ชื่อ จิตติยา นามสกุล ศิริธรรมจักร ID 623021043-3'"
            ]
          },
          "metadata": {
            "tags": []
          },
          "execution_count": 3
        }
      ]
    },
    {
      "cell_type": "code",
      "metadata": {
        "colab": {
          "base_uri": "https://localhost:8080/"
        },
        "id": "7Yj2ooCwVe7s",
        "outputId": "e9746ea2-a3cf-4366-aaae-ff854b9eb5ea"
      },
      "source": [
        "output_string = print_name('จิตติยา' , 'ศิริธรรมจักร' , '623021043-3')\r\n",
        "print(output_string)"
      ],
      "execution_count": 6,
      "outputs": [
        {
          "output_type": "stream",
          "text": [
            "ชื่อ จิตติยา นามสกุล ศิริธรรมจักร ID 623021043-3\n"
          ],
          "name": "stdout"
        }
      ]
    },
    {
      "cell_type": "code",
      "metadata": {
        "id": "BmUuFUigXuuB"
      },
      "source": [
        ""
      ],
      "execution_count": null,
      "outputs": []
    },
    {
      "cell_type": "markdown",
      "metadata": {
        "id": "INsyWGcEXwUl"
      },
      "source": [
        "ฟังก์ชั่นไม่จำเป็นต้องมี output"
      ]
    },
    {
      "cell_type": "code",
      "metadata": {
        "id": "eW9gAyGJX1H5"
      },
      "source": [
        "def print_name2(name,surname,ID) :\r\n",
        "      st = f'ชื่อ {name} นามสกุล {surname} ID {ID}'\r\n",
        "      print(st)"
      ],
      "execution_count": 10,
      "outputs": []
    },
    {
      "cell_type": "code",
      "metadata": {
        "colab": {
          "base_uri": "https://localhost:8080/"
        },
        "id": "GyNIA3f4X8zS",
        "outputId": "50100e49-1b89-4936-a2f0-d512896e0c7c"
      },
      "source": [
        "print_name2( 'จิตติยา' , 'ศิริธรรมจักร' , '623021043-3' )"
      ],
      "execution_count": 11,
      "outputs": [
        {
          "output_type": "stream",
          "text": [
            "ชื่อ จิตติยา นามสกุล ศิริธรรมจักร ID 623021043-3\n"
          ],
          "name": "stdout"
        }
      ]
    },
    {
      "cell_type": "code",
      "metadata": {
        "colab": {
          "base_uri": "https://localhost:8080/"
        },
        "id": "Gln77XX_YCXx",
        "outputId": "026a9f3d-c11a-40a3-e9f6-9f956389b8b6"
      },
      "source": [
        "op2 = print_name2( 'จิตติยา' , 'ศิริธรรมจักร' , '623021043-3' )"
      ],
      "execution_count": 12,
      "outputs": [
        {
          "output_type": "stream",
          "text": [
            "ชื่อ จิตติยา นามสกุล ศิริธรรมจักร ID 623021043-3\n"
          ],
          "name": "stdout"
        }
      ]
    },
    {
      "cell_type": "code",
      "metadata": {
        "colab": {
          "base_uri": "https://localhost:8080/"
        },
        "id": "CJoIk1QhYg2T",
        "outputId": "e84446f4-d47f-4f13-89e2-3f602c55b34d"
      },
      "source": [
        "print(op2)"
      ],
      "execution_count": 13,
      "outputs": [
        {
          "output_type": "stream",
          "text": [
            "None\n"
          ],
          "name": "stdout"
        }
      ]
    },
    {
      "cell_type": "markdown",
      "metadata": {
        "id": "Wt8qHNrcZHps"
      },
      "source": [
        "ฟังก์ชั่นไม่จำเป็นต้องมี input"
      ]
    },
    {
      "cell_type": "code",
      "metadata": {
        "id": "Bdk5Ed5TYkb8"
      },
      "source": [
        "def Pi( ):\r\n",
        "      return 3.14159265359"
      ],
      "execution_count": 14,
      "outputs": []
    },
    {
      "cell_type": "code",
      "metadata": {
        "colab": {
          "base_uri": "https://localhost:8080/"
        },
        "id": "4c10mok0ZVj1",
        "outputId": "34259221-27e7-4a7d-9a80-f2447dbdffd6"
      },
      "source": [
        "# คำนวณพื้นที่วงกลมที่มีขนาดเส้นผ่านศูนย์กลางเท่ากับ 3\r\n",
        "Pi( )*(1.5**2)"
      ],
      "execution_count": 15,
      "outputs": [
        {
          "output_type": "execute_result",
          "data": {
            "text/plain": [
              "7.0685834705775"
            ]
          },
          "metadata": {
            "tags": []
          },
          "execution_count": 15
        }
      ]
    },
    {
      "cell_type": "code",
      "metadata": {
        "id": "hiTdUGl2ZnB0"
      },
      "source": [
        "def print_my_name( ):\r\n",
        "      print( ' จิตติยา  ศิริธรรมจักร  623021043-3 ' )"
      ],
      "execution_count": 16,
      "outputs": []
    },
    {
      "cell_type": "code",
      "metadata": {
        "colab": {
          "base_uri": "https://localhost:8080/"
        },
        "id": "xN3uTR0_Z4ik",
        "outputId": "832990f3-b6a4-40b8-eace-cd300ed73d0b"
      },
      "source": [
        "print_my_name( )"
      ],
      "execution_count": 17,
      "outputs": [
        {
          "output_type": "stream",
          "text": [
            " จิตติยา  ศิริธรรมจักร  623021043-3 \n"
          ],
          "name": "stdout"
        }
      ]
    },
    {
      "cell_type": "markdown",
      "metadata": {
        "id": "syr6bvFVaDND"
      },
      "source": [
        "### input ของ function ใน python มีสองแบบ "
      ]
    },
    {
      "cell_type": "code",
      "metadata": {
        "id": "zIlCqAruZ8if"
      },
      "source": [
        "def print_2lines_default(name,surname,ID,grade= 'F' ):\r\n",
        "      st = f' ชื่อ {name} นามสกุล {surname} isyl {ID}'\r\n",
        "      print(st)\r\n",
        "      st2=f'เกรดวิชา Multivariate >>> {grade}'\r\n",
        "      print(st2)"
      ],
      "execution_count": 18,
      "outputs": []
    },
    {
      "cell_type": "code",
      "metadata": {
        "colab": {
          "base_uri": "https://localhost:8080/"
        },
        "id": "F--LnjIKbOqz",
        "outputId": "4e792d7d-b474-4d5c-8460-0a993127f371"
      },
      "source": [
        "print_2lines_default('จิตติยา' , 'ศิริธรรมจักร' , '623021043-3' )"
      ],
      "execution_count": 19,
      "outputs": [
        {
          "output_type": "stream",
          "text": [
            " ชื่อ จิตติยา นามสกุล ศิริธรรมจักร isyl 623021043-3\n",
            "เกรดวิชา Multivariate >>> F\n"
          ],
          "name": "stdout"
        }
      ]
    },
    {
      "cell_type": "code",
      "metadata": {
        "colab": {
          "base_uri": "https://localhost:8080/"
        },
        "id": "QYasTv0ebe-i",
        "outputId": "db6cd552-e242-4358-d17d-b652b80a4532"
      },
      "source": [
        "print_2lines_default('จิตติยา' , 'ศิริธรรมจักร' , '623021043-3' , 'A' )"
      ],
      "execution_count": 20,
      "outputs": [
        {
          "output_type": "stream",
          "text": [
            " ชื่อ จิตติยา นามสกุล ศิริธรรมจักร isyl 623021043-3\n",
            "เกรดวิชา Multivariate >>> A\n"
          ],
          "name": "stdout"
        }
      ]
    },
    {
      "cell_type": "markdown",
      "metadata": {
        "id": "NqvoV9uHbnDA"
      },
      "source": [
        "เราสามารถเรียกฟังก์ชั่นโดยใช้ชื่อตัวแปรอื่นของฟังก์ชั่นช่วยได้"
      ]
    },
    {
      "cell_type": "code",
      "metadata": {
        "colab": {
          "base_uri": "https://localhost:8080/",
          "height": 164
        },
        "id": "ak5jxLWKcWiZ",
        "outputId": "b464ee04-ce2e-4cf4-c13f-a0cb5631f24a"
      },
      "source": [
        "print_name2()"
      ],
      "execution_count": 21,
      "outputs": [
        {
          "output_type": "error",
          "ename": "TypeError",
          "evalue": "ignored",
          "traceback": [
            "\u001b[0;31m---------------------------------------------------------------------------\u001b[0m",
            "\u001b[0;31mTypeError\u001b[0m                                 Traceback (most recent call last)",
            "\u001b[0;32m<ipython-input-21-cc5ab9404e11>\u001b[0m in \u001b[0;36m<module>\u001b[0;34m()\u001b[0m\n\u001b[0;32m----> 1\u001b[0;31m \u001b[0mprint_name2\u001b[0m\u001b[0;34m(\u001b[0m\u001b[0;34m)\u001b[0m\u001b[0;34m\u001b[0m\u001b[0;34m\u001b[0m\u001b[0m\n\u001b[0m",
            "\u001b[0;31mTypeError\u001b[0m: print_name2() missing 3 required positional arguments: 'name', 'surname', and 'ID'"
          ]
        }
      ]
    },
    {
      "cell_type": "markdown",
      "metadata": {
        "id": "x0rs860vcx7_"
      },
      "source": [
        "HW3  ให้เขียน function คำนวณจำนวนวินาทีจาก เวลาต่อไปนี้\r\n",
        "\r\n",
        "'14-15-31'\r\n",
        "\r\n",
        "'13-00-01'\r\n",
        "\r\n",
        "'05-49-44'\r\n",
        "\r\n",
        "'00-00-16'\r\n",
        "\r\n",
        "และ print ให้สวยงาม"
      ]
    },
    {
      "cell_type": "code",
      "metadata": {
        "id": "J-JOmVjCcw3I"
      },
      "source": [
        "q1  = '14-15-31'"
      ],
      "execution_count": 22,
      "outputs": []
    },
    {
      "cell_type": "code",
      "metadata": {
        "id": "PJxDdh7jdu7E"
      },
      "source": [
        ""
      ],
      "execution_count": null,
      "outputs": []
    }
  ]
}